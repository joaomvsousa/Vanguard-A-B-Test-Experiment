{
 "cells": [
  {
   "cell_type": "code",
   "execution_count": 1,
   "id": "fa7d1436-e092-47d2-aa8b-ab795f6a0b74",
   "metadata": {},
   "outputs": [],
   "source": [
    "import pandas as pd\n",
    "import matplotlib.pyplot as plt\n",
    "import seaborn as sns\n",
    "\n",
    "url1 = \"https://raw.githubusercontent.com/data-bootcamp-v4/lessons/main/5_6_eda_inf_stats_tableau/project/files_for_project/df_final_demo.txt\"\n",
    "url2 = \"https://raw.githubusercontent.com/data-bootcamp-v4/lessons/main/5_6_eda_inf_stats_tableau/project/files_for_project/df_final_web_data_pt_1.txt\"\n",
    "url3 = \"https://raw.githubusercontent.com/data-bootcamp-v4/lessons/main/5_6_eda_inf_stats_tableau/project/files_for_project/df_final_web_data_pt_2.txt\"\n",
    "url4 = \"https://raw.githubusercontent.com/data-bootcamp-v4/lessons/main/5_6_eda_inf_stats_tableau/project/files_for_project/df_final_experiment_clients.txt\"\n",
    "\n",
    "df1 = pd.read_csv(url1)\n",
    "df2 = pd.read_csv(url2)\n",
    "df3 = pd.read_csv(url3)\n",
    "df4 = pd.read_csv(url4)"
   ]
  },
  {
   "cell_type": "code",
   "execution_count": 2,
   "id": "2d04c235-7565-4051-aff5-70c117c526ed",
   "metadata": {},
   "outputs": [
    {
     "data": {
      "text/html": [
       "<div>\n",
       "<style scoped>\n",
       "    .dataframe tbody tr th:only-of-type {\n",
       "        vertical-align: middle;\n",
       "    }\n",
       "\n",
       "    .dataframe tbody tr th {\n",
       "        vertical-align: top;\n",
       "    }\n",
       "\n",
       "    .dataframe thead th {\n",
       "        text-align: right;\n",
       "    }\n",
       "</style>\n",
       "<table border=\"1\" class=\"dataframe\">\n",
       "  <thead>\n",
       "    <tr style=\"text-align: right;\">\n",
       "      <th></th>\n",
       "      <th>client_id</th>\n",
       "      <th>clnt_tenure_yr</th>\n",
       "      <th>clnt_tenure_mnth</th>\n",
       "      <th>clnt_age</th>\n",
       "      <th>gendr</th>\n",
       "      <th>num_accts</th>\n",
       "      <th>bal</th>\n",
       "      <th>calls_6_mnth</th>\n",
       "      <th>logons_6_mnth</th>\n",
       "    </tr>\n",
       "  </thead>\n",
       "  <tbody>\n",
       "    <tr>\n",
       "      <th>0</th>\n",
       "      <td>836976</td>\n",
       "      <td>6.0</td>\n",
       "      <td>73.0</td>\n",
       "      <td>60.5</td>\n",
       "      <td>U</td>\n",
       "      <td>2.0</td>\n",
       "      <td>45105.30</td>\n",
       "      <td>6.0</td>\n",
       "      <td>9.0</td>\n",
       "    </tr>\n",
       "    <tr>\n",
       "      <th>1</th>\n",
       "      <td>2304905</td>\n",
       "      <td>7.0</td>\n",
       "      <td>94.0</td>\n",
       "      <td>58.0</td>\n",
       "      <td>U</td>\n",
       "      <td>2.0</td>\n",
       "      <td>110860.30</td>\n",
       "      <td>6.0</td>\n",
       "      <td>9.0</td>\n",
       "    </tr>\n",
       "    <tr>\n",
       "      <th>2</th>\n",
       "      <td>1439522</td>\n",
       "      <td>5.0</td>\n",
       "      <td>64.0</td>\n",
       "      <td>32.0</td>\n",
       "      <td>U</td>\n",
       "      <td>2.0</td>\n",
       "      <td>52467.79</td>\n",
       "      <td>6.0</td>\n",
       "      <td>9.0</td>\n",
       "    </tr>\n",
       "    <tr>\n",
       "      <th>3</th>\n",
       "      <td>1562045</td>\n",
       "      <td>16.0</td>\n",
       "      <td>198.0</td>\n",
       "      <td>49.0</td>\n",
       "      <td>M</td>\n",
       "      <td>2.0</td>\n",
       "      <td>67454.65</td>\n",
       "      <td>3.0</td>\n",
       "      <td>6.0</td>\n",
       "    </tr>\n",
       "    <tr>\n",
       "      <th>4</th>\n",
       "      <td>5126305</td>\n",
       "      <td>12.0</td>\n",
       "      <td>145.0</td>\n",
       "      <td>33.0</td>\n",
       "      <td>F</td>\n",
       "      <td>2.0</td>\n",
       "      <td>103671.75</td>\n",
       "      <td>0.0</td>\n",
       "      <td>3.0</td>\n",
       "    </tr>\n",
       "  </tbody>\n",
       "</table>\n",
       "</div>"
      ],
      "text/plain": [
       "   client_id  clnt_tenure_yr  clnt_tenure_mnth  clnt_age gendr  num_accts  \\\n",
       "0     836976             6.0              73.0      60.5     U        2.0   \n",
       "1    2304905             7.0              94.0      58.0     U        2.0   \n",
       "2    1439522             5.0              64.0      32.0     U        2.0   \n",
       "3    1562045            16.0             198.0      49.0     M        2.0   \n",
       "4    5126305            12.0             145.0      33.0     F        2.0   \n",
       "\n",
       "         bal  calls_6_mnth  logons_6_mnth  \n",
       "0   45105.30           6.0            9.0  \n",
       "1  110860.30           6.0            9.0  \n",
       "2   52467.79           6.0            9.0  \n",
       "3   67454.65           3.0            6.0  \n",
       "4  103671.75           0.0            3.0  "
      ]
     },
     "execution_count": 2,
     "metadata": {},
     "output_type": "execute_result"
    }
   ],
   "source": [
    "df1.head()"
   ]
  },
  {
   "cell_type": "code",
   "execution_count": 3,
   "id": "2a3f7eb6-54fe-48b1-ba78-f5ab121f3f56",
   "metadata": {},
   "outputs": [
    {
     "data": {
      "text/html": [
       "<div>\n",
       "<style scoped>\n",
       "    .dataframe tbody tr th:only-of-type {\n",
       "        vertical-align: middle;\n",
       "    }\n",
       "\n",
       "    .dataframe tbody tr th {\n",
       "        vertical-align: top;\n",
       "    }\n",
       "\n",
       "    .dataframe thead th {\n",
       "        text-align: right;\n",
       "    }\n",
       "</style>\n",
       "<table border=\"1\" class=\"dataframe\">\n",
       "  <thead>\n",
       "    <tr style=\"text-align: right;\">\n",
       "      <th></th>\n",
       "      <th>client_id</th>\n",
       "      <th>visitor_id</th>\n",
       "      <th>visit_id</th>\n",
       "      <th>process_step</th>\n",
       "      <th>date_time</th>\n",
       "    </tr>\n",
       "  </thead>\n",
       "  <tbody>\n",
       "    <tr>\n",
       "      <th>0</th>\n",
       "      <td>9988021</td>\n",
       "      <td>580560515_7732621733</td>\n",
       "      <td>781255054_21935453173_531117</td>\n",
       "      <td>step_3</td>\n",
       "      <td>2017-04-17 15:27:07</td>\n",
       "    </tr>\n",
       "    <tr>\n",
       "      <th>1</th>\n",
       "      <td>9988021</td>\n",
       "      <td>580560515_7732621733</td>\n",
       "      <td>781255054_21935453173_531117</td>\n",
       "      <td>step_2</td>\n",
       "      <td>2017-04-17 15:26:51</td>\n",
       "    </tr>\n",
       "    <tr>\n",
       "      <th>2</th>\n",
       "      <td>9988021</td>\n",
       "      <td>580560515_7732621733</td>\n",
       "      <td>781255054_21935453173_531117</td>\n",
       "      <td>step_3</td>\n",
       "      <td>2017-04-17 15:19:22</td>\n",
       "    </tr>\n",
       "    <tr>\n",
       "      <th>3</th>\n",
       "      <td>9988021</td>\n",
       "      <td>580560515_7732621733</td>\n",
       "      <td>781255054_21935453173_531117</td>\n",
       "      <td>step_2</td>\n",
       "      <td>2017-04-17 15:19:13</td>\n",
       "    </tr>\n",
       "    <tr>\n",
       "      <th>4</th>\n",
       "      <td>9988021</td>\n",
       "      <td>580560515_7732621733</td>\n",
       "      <td>781255054_21935453173_531117</td>\n",
       "      <td>step_3</td>\n",
       "      <td>2017-04-17 15:18:04</td>\n",
       "    </tr>\n",
       "  </tbody>\n",
       "</table>\n",
       "</div>"
      ],
      "text/plain": [
       "   client_id            visitor_id                      visit_id process_step  \\\n",
       "0    9988021  580560515_7732621733  781255054_21935453173_531117       step_3   \n",
       "1    9988021  580560515_7732621733  781255054_21935453173_531117       step_2   \n",
       "2    9988021  580560515_7732621733  781255054_21935453173_531117       step_3   \n",
       "3    9988021  580560515_7732621733  781255054_21935453173_531117       step_2   \n",
       "4    9988021  580560515_7732621733  781255054_21935453173_531117       step_3   \n",
       "\n",
       "             date_time  \n",
       "0  2017-04-17 15:27:07  \n",
       "1  2017-04-17 15:26:51  \n",
       "2  2017-04-17 15:19:22  \n",
       "3  2017-04-17 15:19:13  \n",
       "4  2017-04-17 15:18:04  "
      ]
     },
     "execution_count": 3,
     "metadata": {},
     "output_type": "execute_result"
    }
   ],
   "source": [
    "df2.head()"
   ]
  },
  {
   "cell_type": "code",
   "execution_count": 4,
   "id": "e23044fb-bdcd-4858-823a-c14d9f3499bf",
   "metadata": {},
   "outputs": [
    {
     "data": {
      "text/html": [
       "<div>\n",
       "<style scoped>\n",
       "    .dataframe tbody tr th:only-of-type {\n",
       "        vertical-align: middle;\n",
       "    }\n",
       "\n",
       "    .dataframe tbody tr th {\n",
       "        vertical-align: top;\n",
       "    }\n",
       "\n",
       "    .dataframe thead th {\n",
       "        text-align: right;\n",
       "    }\n",
       "</style>\n",
       "<table border=\"1\" class=\"dataframe\">\n",
       "  <thead>\n",
       "    <tr style=\"text-align: right;\">\n",
       "      <th></th>\n",
       "      <th>client_id</th>\n",
       "      <th>visitor_id</th>\n",
       "      <th>visit_id</th>\n",
       "      <th>process_step</th>\n",
       "      <th>date_time</th>\n",
       "    </tr>\n",
       "  </thead>\n",
       "  <tbody>\n",
       "    <tr>\n",
       "      <th>0</th>\n",
       "      <td>763412</td>\n",
       "      <td>601952081_10457207388</td>\n",
       "      <td>397475557_40440946728_419634</td>\n",
       "      <td>confirm</td>\n",
       "      <td>2017-06-06 08:56:00</td>\n",
       "    </tr>\n",
       "    <tr>\n",
       "      <th>1</th>\n",
       "      <td>6019349</td>\n",
       "      <td>442094451_91531546617</td>\n",
       "      <td>154620534_35331068705_522317</td>\n",
       "      <td>confirm</td>\n",
       "      <td>2017-06-01 11:59:27</td>\n",
       "    </tr>\n",
       "    <tr>\n",
       "      <th>2</th>\n",
       "      <td>6019349</td>\n",
       "      <td>442094451_91531546617</td>\n",
       "      <td>154620534_35331068705_522317</td>\n",
       "      <td>step_3</td>\n",
       "      <td>2017-06-01 11:58:48</td>\n",
       "    </tr>\n",
       "    <tr>\n",
       "      <th>3</th>\n",
       "      <td>6019349</td>\n",
       "      <td>442094451_91531546617</td>\n",
       "      <td>154620534_35331068705_522317</td>\n",
       "      <td>step_2</td>\n",
       "      <td>2017-06-01 11:58:08</td>\n",
       "    </tr>\n",
       "    <tr>\n",
       "      <th>4</th>\n",
       "      <td>6019349</td>\n",
       "      <td>442094451_91531546617</td>\n",
       "      <td>154620534_35331068705_522317</td>\n",
       "      <td>step_1</td>\n",
       "      <td>2017-06-01 11:57:58</td>\n",
       "    </tr>\n",
       "  </tbody>\n",
       "</table>\n",
       "</div>"
      ],
      "text/plain": [
       "   client_id             visitor_id                      visit_id  \\\n",
       "0     763412  601952081_10457207388  397475557_40440946728_419634   \n",
       "1    6019349  442094451_91531546617  154620534_35331068705_522317   \n",
       "2    6019349  442094451_91531546617  154620534_35331068705_522317   \n",
       "3    6019349  442094451_91531546617  154620534_35331068705_522317   \n",
       "4    6019349  442094451_91531546617  154620534_35331068705_522317   \n",
       "\n",
       "  process_step            date_time  \n",
       "0      confirm  2017-06-06 08:56:00  \n",
       "1      confirm  2017-06-01 11:59:27  \n",
       "2       step_3  2017-06-01 11:58:48  \n",
       "3       step_2  2017-06-01 11:58:08  \n",
       "4       step_1  2017-06-01 11:57:58  "
      ]
     },
     "execution_count": 4,
     "metadata": {},
     "output_type": "execute_result"
    }
   ],
   "source": [
    "df3.head()"
   ]
  },
  {
   "cell_type": "code",
   "execution_count": 5,
   "id": "48e73e2e-6b07-4627-b407-dbb0be5bf7c9",
   "metadata": {},
   "outputs": [
    {
     "data": {
      "text/html": [
       "<div>\n",
       "<style scoped>\n",
       "    .dataframe tbody tr th:only-of-type {\n",
       "        vertical-align: middle;\n",
       "    }\n",
       "\n",
       "    .dataframe tbody tr th {\n",
       "        vertical-align: top;\n",
       "    }\n",
       "\n",
       "    .dataframe thead th {\n",
       "        text-align: right;\n",
       "    }\n",
       "</style>\n",
       "<table border=\"1\" class=\"dataframe\">\n",
       "  <thead>\n",
       "    <tr style=\"text-align: right;\">\n",
       "      <th></th>\n",
       "      <th>client_id</th>\n",
       "      <th>Variation</th>\n",
       "    </tr>\n",
       "  </thead>\n",
       "  <tbody>\n",
       "    <tr>\n",
       "      <th>0</th>\n",
       "      <td>9988021</td>\n",
       "      <td>Test</td>\n",
       "    </tr>\n",
       "    <tr>\n",
       "      <th>1</th>\n",
       "      <td>8320017</td>\n",
       "      <td>Test</td>\n",
       "    </tr>\n",
       "    <tr>\n",
       "      <th>2</th>\n",
       "      <td>4033851</td>\n",
       "      <td>Control</td>\n",
       "    </tr>\n",
       "    <tr>\n",
       "      <th>3</th>\n",
       "      <td>1982004</td>\n",
       "      <td>Test</td>\n",
       "    </tr>\n",
       "    <tr>\n",
       "      <th>4</th>\n",
       "      <td>9294070</td>\n",
       "      <td>Control</td>\n",
       "    </tr>\n",
       "  </tbody>\n",
       "</table>\n",
       "</div>"
      ],
      "text/plain": [
       "   client_id Variation\n",
       "0    9988021      Test\n",
       "1    8320017      Test\n",
       "2    4033851   Control\n",
       "3    1982004      Test\n",
       "4    9294070   Control"
      ]
     },
     "execution_count": 5,
     "metadata": {},
     "output_type": "execute_result"
    }
   ],
   "source": [
    "df4.head()"
   ]
  },
  {
   "cell_type": "code",
   "execution_count": 6,
   "id": "2ecf708d-4bf4-46ed-9745-8ef28e5da6a6",
   "metadata": {},
   "outputs": [],
   "source": [
    "merge_df = pd.merge(df1, df4, on='client_id', how='inner')\n"
   ]
  },
  {
   "cell_type": "code",
   "execution_count": 7,
   "id": "7b014c05-1f2b-429a-95dd-681f72514eb4",
   "metadata": {},
   "outputs": [],
   "source": [
    "combined_df = pd.concat([df2, df3], axis = 0)\n",
    "\n",
    "combined_df = combined_df.reset_index(drop=True)"
   ]
  },
  {
   "cell_type": "code",
   "execution_count": 8,
   "id": "26da092c-8de9-48ac-b283-538247edd448",
   "metadata": {},
   "outputs": [
    {
     "data": {
      "text/html": [
       "<div>\n",
       "<style scoped>\n",
       "    .dataframe tbody tr th:only-of-type {\n",
       "        vertical-align: middle;\n",
       "    }\n",
       "\n",
       "    .dataframe tbody tr th {\n",
       "        vertical-align: top;\n",
       "    }\n",
       "\n",
       "    .dataframe thead th {\n",
       "        text-align: right;\n",
       "    }\n",
       "</style>\n",
       "<table border=\"1\" class=\"dataframe\">\n",
       "  <thead>\n",
       "    <tr style=\"text-align: right;\">\n",
       "      <th></th>\n",
       "      <th>client_id</th>\n",
       "      <th>visitor_id</th>\n",
       "      <th>visit_id</th>\n",
       "      <th>process_step</th>\n",
       "      <th>date_time</th>\n",
       "    </tr>\n",
       "  </thead>\n",
       "  <tbody>\n",
       "    <tr>\n",
       "      <th>0</th>\n",
       "      <td>9988021</td>\n",
       "      <td>580560515_7732621733</td>\n",
       "      <td>781255054_21935453173_531117</td>\n",
       "      <td>step_3</td>\n",
       "      <td>2017-04-17 15:27:07</td>\n",
       "    </tr>\n",
       "    <tr>\n",
       "      <th>1</th>\n",
       "      <td>9988021</td>\n",
       "      <td>580560515_7732621733</td>\n",
       "      <td>781255054_21935453173_531117</td>\n",
       "      <td>step_2</td>\n",
       "      <td>2017-04-17 15:26:51</td>\n",
       "    </tr>\n",
       "    <tr>\n",
       "      <th>2</th>\n",
       "      <td>9988021</td>\n",
       "      <td>580560515_7732621733</td>\n",
       "      <td>781255054_21935453173_531117</td>\n",
       "      <td>step_3</td>\n",
       "      <td>2017-04-17 15:19:22</td>\n",
       "    </tr>\n",
       "    <tr>\n",
       "      <th>3</th>\n",
       "      <td>9988021</td>\n",
       "      <td>580560515_7732621733</td>\n",
       "      <td>781255054_21935453173_531117</td>\n",
       "      <td>step_2</td>\n",
       "      <td>2017-04-17 15:19:13</td>\n",
       "    </tr>\n",
       "    <tr>\n",
       "      <th>4</th>\n",
       "      <td>9988021</td>\n",
       "      <td>580560515_7732621733</td>\n",
       "      <td>781255054_21935453173_531117</td>\n",
       "      <td>step_3</td>\n",
       "      <td>2017-04-17 15:18:04</td>\n",
       "    </tr>\n",
       "  </tbody>\n",
       "</table>\n",
       "</div>"
      ],
      "text/plain": [
       "   client_id            visitor_id                      visit_id process_step  \\\n",
       "0    9988021  580560515_7732621733  781255054_21935453173_531117       step_3   \n",
       "1    9988021  580560515_7732621733  781255054_21935453173_531117       step_2   \n",
       "2    9988021  580560515_7732621733  781255054_21935453173_531117       step_3   \n",
       "3    9988021  580560515_7732621733  781255054_21935453173_531117       step_2   \n",
       "4    9988021  580560515_7732621733  781255054_21935453173_531117       step_3   \n",
       "\n",
       "             date_time  \n",
       "0  2017-04-17 15:27:07  \n",
       "1  2017-04-17 15:26:51  \n",
       "2  2017-04-17 15:19:22  \n",
       "3  2017-04-17 15:19:13  \n",
       "4  2017-04-17 15:18:04  "
      ]
     },
     "execution_count": 8,
     "metadata": {},
     "output_type": "execute_result"
    }
   ],
   "source": [
    "combined_df.head()"
   ]
  },
  {
   "cell_type": "code",
   "execution_count": 9,
   "id": "ad517faf-1b22-49f2-856e-b722543d2e18",
   "metadata": {},
   "outputs": [
    {
     "data": {
      "text/html": [
       "<div>\n",
       "<style scoped>\n",
       "    .dataframe tbody tr th:only-of-type {\n",
       "        vertical-align: middle;\n",
       "    }\n",
       "\n",
       "    .dataframe tbody tr th {\n",
       "        vertical-align: top;\n",
       "    }\n",
       "\n",
       "    .dataframe thead th {\n",
       "        text-align: right;\n",
       "    }\n",
       "</style>\n",
       "<table border=\"1\" class=\"dataframe\">\n",
       "  <thead>\n",
       "    <tr style=\"text-align: right;\">\n",
       "      <th></th>\n",
       "      <th>client_id</th>\n",
       "      <th>clnt_tenure_yr</th>\n",
       "      <th>clnt_tenure_mnth</th>\n",
       "      <th>clnt_age</th>\n",
       "      <th>gendr</th>\n",
       "      <th>num_accts</th>\n",
       "      <th>bal</th>\n",
       "      <th>calls_6_mnth</th>\n",
       "      <th>logons_6_mnth</th>\n",
       "      <th>Variation</th>\n",
       "    </tr>\n",
       "  </thead>\n",
       "  <tbody>\n",
       "    <tr>\n",
       "      <th>0</th>\n",
       "      <td>836976</td>\n",
       "      <td>6.0</td>\n",
       "      <td>73.0</td>\n",
       "      <td>60.5</td>\n",
       "      <td>U</td>\n",
       "      <td>2.0</td>\n",
       "      <td>45105.30</td>\n",
       "      <td>6.0</td>\n",
       "      <td>9.0</td>\n",
       "      <td>Test</td>\n",
       "    </tr>\n",
       "    <tr>\n",
       "      <th>1</th>\n",
       "      <td>2304905</td>\n",
       "      <td>7.0</td>\n",
       "      <td>94.0</td>\n",
       "      <td>58.0</td>\n",
       "      <td>U</td>\n",
       "      <td>2.0</td>\n",
       "      <td>110860.30</td>\n",
       "      <td>6.0</td>\n",
       "      <td>9.0</td>\n",
       "      <td>Control</td>\n",
       "    </tr>\n",
       "    <tr>\n",
       "      <th>2</th>\n",
       "      <td>1439522</td>\n",
       "      <td>5.0</td>\n",
       "      <td>64.0</td>\n",
       "      <td>32.0</td>\n",
       "      <td>U</td>\n",
       "      <td>2.0</td>\n",
       "      <td>52467.79</td>\n",
       "      <td>6.0</td>\n",
       "      <td>9.0</td>\n",
       "      <td>Test</td>\n",
       "    </tr>\n",
       "    <tr>\n",
       "      <th>3</th>\n",
       "      <td>1562045</td>\n",
       "      <td>16.0</td>\n",
       "      <td>198.0</td>\n",
       "      <td>49.0</td>\n",
       "      <td>M</td>\n",
       "      <td>2.0</td>\n",
       "      <td>67454.65</td>\n",
       "      <td>3.0</td>\n",
       "      <td>6.0</td>\n",
       "      <td>Test</td>\n",
       "    </tr>\n",
       "    <tr>\n",
       "      <th>4</th>\n",
       "      <td>5126305</td>\n",
       "      <td>12.0</td>\n",
       "      <td>145.0</td>\n",
       "      <td>33.0</td>\n",
       "      <td>F</td>\n",
       "      <td>2.0</td>\n",
       "      <td>103671.75</td>\n",
       "      <td>0.0</td>\n",
       "      <td>3.0</td>\n",
       "      <td>Control</td>\n",
       "    </tr>\n",
       "  </tbody>\n",
       "</table>\n",
       "</div>"
      ],
      "text/plain": [
       "   client_id  clnt_tenure_yr  clnt_tenure_mnth  clnt_age gendr  num_accts  \\\n",
       "0     836976             6.0              73.0      60.5     U        2.0   \n",
       "1    2304905             7.0              94.0      58.0     U        2.0   \n",
       "2    1439522             5.0              64.0      32.0     U        2.0   \n",
       "3    1562045            16.0             198.0      49.0     M        2.0   \n",
       "4    5126305            12.0             145.0      33.0     F        2.0   \n",
       "\n",
       "         bal  calls_6_mnth  logons_6_mnth Variation  \n",
       "0   45105.30           6.0            9.0      Test  \n",
       "1  110860.30           6.0            9.0   Control  \n",
       "2   52467.79           6.0            9.0      Test  \n",
       "3   67454.65           3.0            6.0      Test  \n",
       "4  103671.75           0.0            3.0   Control  "
      ]
     },
     "execution_count": 9,
     "metadata": {},
     "output_type": "execute_result"
    }
   ],
   "source": [
    "merge_df.head()"
   ]
  },
  {
   "cell_type": "code",
   "execution_count": 10,
   "id": "c7505771-3583-4d66-aab3-ebbf022ce1b3",
   "metadata": {},
   "outputs": [],
   "source": [
    "ultimate = pd.merge(merge_df, combined_df, on='client_id', how='left')"
   ]
  },
  {
   "cell_type": "code",
   "execution_count": 11,
   "id": "229193b6-2253-48b9-8de9-486e58998cbb",
   "metadata": {},
   "outputs": [
    {
     "name": "stderr",
     "output_type": "stream",
     "text": [
      "/var/folders/d8/knczg5hs597_plsphx_dp9kh0000gn/T/ipykernel_2387/1558570239.py:6: FutureWarning: A value is trying to be set on a copy of a DataFrame or Series through chained assignment using an inplace method.\n",
      "The behavior will change in pandas 3.0. This inplace method will never work because the intermediate object on which we are setting values always behaves as a copy.\n",
      "\n",
      "For example, when doing 'df[col].method(value, inplace=True)', try using 'df.method({col: value}, inplace=True)' or df[col] = df[col].method(value) instead, to perform the operation inplace on the original object.\n",
      "\n",
      "\n",
      "  ultimate['clnt_tenure_yr'].fillna(method='bfill', inplace=True)\n",
      "/var/folders/d8/knczg5hs597_plsphx_dp9kh0000gn/T/ipykernel_2387/1558570239.py:6: FutureWarning: Series.fillna with 'method' is deprecated and will raise in a future version. Use obj.ffill() or obj.bfill() instead.\n",
      "  ultimate['clnt_tenure_yr'].fillna(method='bfill', inplace=True)\n",
      "/var/folders/d8/knczg5hs597_plsphx_dp9kh0000gn/T/ipykernel_2387/1558570239.py:7: FutureWarning: A value is trying to be set on a copy of a DataFrame or Series through chained assignment using an inplace method.\n",
      "The behavior will change in pandas 3.0. This inplace method will never work because the intermediate object on which we are setting values always behaves as a copy.\n",
      "\n",
      "For example, when doing 'df[col].method(value, inplace=True)', try using 'df.method({col: value}, inplace=True)' or df[col] = df[col].method(value) instead, to perform the operation inplace on the original object.\n",
      "\n",
      "\n",
      "  ultimate['clnt_tenure_mnth'].fillna(method='bfill', inplace=True)\n",
      "/var/folders/d8/knczg5hs597_plsphx_dp9kh0000gn/T/ipykernel_2387/1558570239.py:7: FutureWarning: Series.fillna with 'method' is deprecated and will raise in a future version. Use obj.ffill() or obj.bfill() instead.\n",
      "  ultimate['clnt_tenure_mnth'].fillna(method='bfill', inplace=True)\n",
      "/var/folders/d8/knczg5hs597_plsphx_dp9kh0000gn/T/ipykernel_2387/1558570239.py:8: FutureWarning: A value is trying to be set on a copy of a DataFrame or Series through chained assignment using an inplace method.\n",
      "The behavior will change in pandas 3.0. This inplace method will never work because the intermediate object on which we are setting values always behaves as a copy.\n",
      "\n",
      "For example, when doing 'df[col].method(value, inplace=True)', try using 'df.method({col: value}, inplace=True)' or df[col] = df[col].method(value) instead, to perform the operation inplace on the original object.\n",
      "\n",
      "\n",
      "  ultimate['num_accts'].fillna(method='bfill', inplace=True)\n",
      "/var/folders/d8/knczg5hs597_plsphx_dp9kh0000gn/T/ipykernel_2387/1558570239.py:8: FutureWarning: Series.fillna with 'method' is deprecated and will raise in a future version. Use obj.ffill() or obj.bfill() instead.\n",
      "  ultimate['num_accts'].fillna(method='bfill', inplace=True)\n",
      "/var/folders/d8/knczg5hs597_plsphx_dp9kh0000gn/T/ipykernel_2387/1558570239.py:9: FutureWarning: A value is trying to be set on a copy of a DataFrame or Series through chained assignment using an inplace method.\n",
      "The behavior will change in pandas 3.0. This inplace method will never work because the intermediate object on which we are setting values always behaves as a copy.\n",
      "\n",
      "For example, when doing 'df[col].method(value, inplace=True)', try using 'df.method({col: value}, inplace=True)' or df[col] = df[col].method(value) instead, to perform the operation inplace on the original object.\n",
      "\n",
      "\n",
      "  ultimate['bal'].fillna(method='bfill', inplace=True)\n",
      "/var/folders/d8/knczg5hs597_plsphx_dp9kh0000gn/T/ipykernel_2387/1558570239.py:9: FutureWarning: Series.fillna with 'method' is deprecated and will raise in a future version. Use obj.ffill() or obj.bfill() instead.\n",
      "  ultimate['bal'].fillna(method='bfill', inplace=True)\n",
      "/var/folders/d8/knczg5hs597_plsphx_dp9kh0000gn/T/ipykernel_2387/1558570239.py:10: FutureWarning: A value is trying to be set on a copy of a DataFrame or Series through chained assignment using an inplace method.\n",
      "The behavior will change in pandas 3.0. This inplace method will never work because the intermediate object on which we are setting values always behaves as a copy.\n",
      "\n",
      "For example, when doing 'df[col].method(value, inplace=True)', try using 'df.method({col: value}, inplace=True)' or df[col] = df[col].method(value) instead, to perform the operation inplace on the original object.\n",
      "\n",
      "\n",
      "  ultimate['calls_6_mnth'].fillna(method='bfill', inplace=True)\n",
      "/var/folders/d8/knczg5hs597_plsphx_dp9kh0000gn/T/ipykernel_2387/1558570239.py:10: FutureWarning: Series.fillna with 'method' is deprecated and will raise in a future version. Use obj.ffill() or obj.bfill() instead.\n",
      "  ultimate['calls_6_mnth'].fillna(method='bfill', inplace=True)\n",
      "/var/folders/d8/knczg5hs597_plsphx_dp9kh0000gn/T/ipykernel_2387/1558570239.py:11: FutureWarning: A value is trying to be set on a copy of a DataFrame or Series through chained assignment using an inplace method.\n",
      "The behavior will change in pandas 3.0. This inplace method will never work because the intermediate object on which we are setting values always behaves as a copy.\n",
      "\n",
      "For example, when doing 'df[col].method(value, inplace=True)', try using 'df.method({col: value}, inplace=True)' or df[col] = df[col].method(value) instead, to perform the operation inplace on the original object.\n",
      "\n",
      "\n",
      "  ultimate['logons_6_mnth'].fillna(method='bfill', inplace=True)\n",
      "/var/folders/d8/knczg5hs597_plsphx_dp9kh0000gn/T/ipykernel_2387/1558570239.py:11: FutureWarning: Series.fillna with 'method' is deprecated and will raise in a future version. Use obj.ffill() or obj.bfill() instead.\n",
      "  ultimate['logons_6_mnth'].fillna(method='bfill', inplace=True)\n",
      "/var/folders/d8/knczg5hs597_plsphx_dp9kh0000gn/T/ipykernel_2387/1558570239.py:12: FutureWarning: A value is trying to be set on a copy of a DataFrame or Series through chained assignment using an inplace method.\n",
      "The behavior will change in pandas 3.0. This inplace method will never work because the intermediate object on which we are setting values always behaves as a copy.\n",
      "\n",
      "For example, when doing 'df[col].method(value, inplace=True)', try using 'df.method({col: value}, inplace=True)' or df[col] = df[col].method(value) instead, to perform the operation inplace on the original object.\n",
      "\n",
      "\n",
      "  ultimate['gendr'].fillna(method='bfill', inplace=True)\n",
      "/var/folders/d8/knczg5hs597_plsphx_dp9kh0000gn/T/ipykernel_2387/1558570239.py:12: FutureWarning: Series.fillna with 'method' is deprecated and will raise in a future version. Use obj.ffill() or obj.bfill() instead.\n",
      "  ultimate['gendr'].fillna(method='bfill', inplace=True)\n"
     ]
    }
   ],
   "source": [
    "#checking NaN values\n",
    "\n",
    "ultimate.isnull().sum()\n",
    "\n",
    "# fixing Nan values\n",
    "ultimate['clnt_tenure_yr'].fillna(method='bfill', inplace=True)\n",
    "ultimate['clnt_tenure_mnth'].fillna(method='bfill', inplace=True)\n",
    "ultimate['num_accts'].fillna(method='bfill', inplace=True)\n",
    "ultimate['bal'].fillna(method='bfill', inplace=True)\n",
    "ultimate['calls_6_mnth'].fillna(method='bfill', inplace=True)\n",
    "ultimate['logons_6_mnth'].fillna(method='bfill', inplace=True)\n",
    "ultimate['gendr'].fillna(method='bfill', inplace=True)"
   ]
  },
  {
   "cell_type": "code",
   "execution_count": 313,
   "id": "c06b666e-60e4-4b89-9a02-75a5ebbaad3a",
   "metadata": {},
   "outputs": [],
   "source": [
    "ultimate.to_excel('ultimate.xlsx', index=False, engine='openpyxl')\n"
   ]
  },
  {
   "cell_type": "code",
   "execution_count": 12,
   "id": "2b433f02-5108-434c-ab67-117f627869cb",
   "metadata": {},
   "outputs": [],
   "source": [
    "#categorizing by ages \n",
    "age_category = ultimate.copy()\n",
    "\n",
    "age_no_duplicates = age_category.drop_duplicates(subset='client_id', keep='first')\n"
   ]
  },
  {
   "cell_type": "code",
   "execution_count": 13,
   "id": "18896116-ef46-4909-a827-d65dbfb6fc8f",
   "metadata": {},
   "outputs": [
    {
     "data": {
      "image/png": "[encoded data removed]",
      "text/plain": [
       "<Figure size 700x700 with 1 Axes>"
      ]
     },
     "metadata": {},
     "output_type": "display_data"
    }
   ],
   "source": [
    "import seaborn as sns\n",
    "\n",
    "# Linear regression plot\n",
    "sns.lmplot(x='num_accts', y='bal', data=age_no_duplicates, height=7)\n",
    "\n",
    "# Show the plot\n",
    "plt.show()\n"
   ]
  },
  {
   "cell_type": "code",
   "execution_count": 14,
   "id": "18201f34-6bc3-4333-abbf-f9bbe142dca4",
   "metadata": {},
   "outputs": [
    {
     "data": {
      "image/png": "[encoded data removed]",
      "text/plain": [
       "<Figure size 800x600 with 1 Axes>"
      ]
     },
     "metadata": {},
     "output_type": "display_data"
    }
   ],
   "source": [
    "import seaborn as sns\n",
    "import matplotlib.pyplot as plt\n",
    "\n",
    "# Create a box plot\n",
    "plt.figure(figsize=(8, 6))\n",
    "sns.boxplot(x='num_accts', y='bal', data=age_no_duplicates)\n",
    "\n",
    "# Add labels and title\n",
    "plt.xlabel('Number of Accounts')\n",
    "plt.ylabel('Balance')\n",
    "plt.title('Box Plot of Balance vs Number of Accounts')\n",
    "\n",
    "# Show the plot\n",
    "plt.show()\n"
   ]
  },
  {
   "cell_type": "code",
   "execution_count": 15,
   "id": "22018360-b9b8-40c0-9120-d1cc5fd401f7",
   "metadata": {},
   "outputs": [
    {
     "data": {
      "text/plain": [
       "15"
      ]
     },
     "execution_count": 15,
     "metadata": {},
     "output_type": "execute_result"
    }
   ],
   "source": [
    "age_no_duplicates[\"clnt_age\"].isnull().sum()"
   ]
  },
  {
   "cell_type": "code",
   "execution_count": 16,
   "id": "8bc4ff90-dc52-47b4-a24a-eeacd0f6c1e8",
   "metadata": {},
   "outputs": [],
   "source": [
    "#function to categorize by age:\n",
    "\n",
    "def categorize_age(age):\n",
    "    #if age <= 19:\n",
    "        #return '<19'\n",
    "    if 18 < age < 30:\n",
    "        return '18-29'\n",
    "    elif 30 <= age < 40:\n",
    "        return '30-39'\n",
    "    elif 40 <= age < 50:\n",
    "        return '40-49'\n",
    "    elif 50 <= age < 60:\n",
    "        return '50-59'\n",
    "    elif 60 <= age < 70:\n",
    "        return '60-69'\n",
    "    elif age >= 70:\n",
    "        return '≥70'\n"
   ]
  },
  {
   "cell_type": "code",
   "execution_count": 17,
   "id": "8ff3014e-acf6-4de5-ae8a-f1ddbd477ba2",
   "metadata": {},
   "outputs": [
    {
     "name": "stderr",
     "output_type": "stream",
     "text": [
      "/var/folders/d8/knczg5hs597_plsphx_dp9kh0000gn/T/ipykernel_2387/3587212954.py:1: SettingWithCopyWarning: \n",
      "A value is trying to be set on a copy of a slice from a DataFrame.\n",
      "Try using .loc[row_indexer,col_indexer] = value instead\n",
      "\n",
      "See the caveats in the documentation: https://pandas.pydata.org/pandas-docs/stable/user_guide/indexing.html#returning-a-view-versus-a-copy\n",
      "  age_no_duplicates['age_category'] = age_no_duplicates['clnt_age'].apply(categorize_age)\n"
     ]
    }
   ],
   "source": [
    "age_no_duplicates['age_category'] = age_no_duplicates['clnt_age'].apply(categorize_age)\n",
    "\n",
    "age_counts = age_no_duplicates['age_category'].value_counts(normalize=True) * 100\n"
   ]
  },
  {
   "cell_type": "code",
   "execution_count": 18,
   "id": "a50b43c8-4071-48bf-8156-7b61f7d59ca3",
   "metadata": {},
   "outputs": [
    {
     "data": {
      "text/html": [
       "<div>\n",
       "<style scoped>\n",
       "    .dataframe tbody tr th:only-of-type {\n",
       "        vertical-align: middle;\n",
       "    }\n",
       "\n",
       "    .dataframe tbody tr th {\n",
       "        vertical-align: top;\n",
       "    }\n",
       "\n",
       "    .dataframe thead th {\n",
       "        text-align: right;\n",
       "    }\n",
       "</style>\n",
       "<table border=\"1\" class=\"dataframe\">\n",
       "  <thead>\n",
       "    <tr style=\"text-align: right;\">\n",
       "      <th></th>\n",
       "      <th>client_id</th>\n",
       "      <th>clnt_tenure_yr</th>\n",
       "      <th>clnt_tenure_mnth</th>\n",
       "      <th>clnt_age</th>\n",
       "      <th>gendr</th>\n",
       "      <th>num_accts</th>\n",
       "      <th>bal</th>\n",
       "      <th>calls_6_mnth</th>\n",
       "      <th>logons_6_mnth</th>\n",
       "      <th>Variation</th>\n",
       "      <th>visitor_id</th>\n",
       "      <th>visit_id</th>\n",
       "      <th>process_step</th>\n",
       "      <th>date_time</th>\n",
       "      <th>age_category</th>\n",
       "    </tr>\n",
       "  </thead>\n",
       "  <tbody>\n",
       "    <tr>\n",
       "      <th>0</th>\n",
       "      <td>836976</td>\n",
       "      <td>6.0</td>\n",
       "      <td>73.0</td>\n",
       "      <td>60.5</td>\n",
       "      <td>U</td>\n",
       "      <td>2.0</td>\n",
       "      <td>45105.30</td>\n",
       "      <td>6.0</td>\n",
       "      <td>9.0</td>\n",
       "      <td>Test</td>\n",
       "      <td>427070339_1413275162</td>\n",
       "      <td>228976764_46825473280_96584</td>\n",
       "      <td>confirm</td>\n",
       "      <td>2017-04-02 11:51:13</td>\n",
       "      <td>60-69</td>\n",
       "    </tr>\n",
       "    <tr>\n",
       "      <th>11</th>\n",
       "      <td>2304905</td>\n",
       "      <td>7.0</td>\n",
       "      <td>94.0</td>\n",
       "      <td>58.0</td>\n",
       "      <td>U</td>\n",
       "      <td>2.0</td>\n",
       "      <td>110860.30</td>\n",
       "      <td>6.0</td>\n",
       "      <td>9.0</td>\n",
       "      <td>Control</td>\n",
       "      <td>336210275_56978226960</td>\n",
       "      <td>724930510_65323235593_692754</td>\n",
       "      <td>confirm</td>\n",
       "      <td>2017-05-21 11:07:16</td>\n",
       "      <td>50-59</td>\n",
       "    </tr>\n",
       "    <tr>\n",
       "      <th>17</th>\n",
       "      <td>1439522</td>\n",
       "      <td>5.0</td>\n",
       "      <td>64.0</td>\n",
       "      <td>32.0</td>\n",
       "      <td>U</td>\n",
       "      <td>2.0</td>\n",
       "      <td>52467.79</td>\n",
       "      <td>6.0</td>\n",
       "      <td>9.0</td>\n",
       "      <td>Test</td>\n",
       "      <td>245908175_84333642537</td>\n",
       "      <td>898099666_87299892721_263146</td>\n",
       "      <td>step_3</td>\n",
       "      <td>2017-04-06 09:29:59</td>\n",
       "      <td>30-39</td>\n",
       "    </tr>\n",
       "    <tr>\n",
       "      <th>22</th>\n",
       "      <td>1562045</td>\n",
       "      <td>16.0</td>\n",
       "      <td>198.0</td>\n",
       "      <td>49.0</td>\n",
       "      <td>M</td>\n",
       "      <td>2.0</td>\n",
       "      <td>67454.65</td>\n",
       "      <td>3.0</td>\n",
       "      <td>6.0</td>\n",
       "      <td>Test</td>\n",
       "      <td>391202328_71710993352</td>\n",
       "      <td>71954691_44810191073_495385</td>\n",
       "      <td>start</td>\n",
       "      <td>2017-04-06 19:03:46</td>\n",
       "      <td>40-49</td>\n",
       "    </tr>\n",
       "    <tr>\n",
       "      <th>23</th>\n",
       "      <td>5126305</td>\n",
       "      <td>12.0</td>\n",
       "      <td>145.0</td>\n",
       "      <td>33.0</td>\n",
       "      <td>F</td>\n",
       "      <td>2.0</td>\n",
       "      <td>103671.75</td>\n",
       "      <td>0.0</td>\n",
       "      <td>3.0</td>\n",
       "      <td>Control</td>\n",
       "      <td>432077852_35036160885</td>\n",
       "      <td>942996157_39527225999_589383</td>\n",
       "      <td>start</td>\n",
       "      <td>2017-06-14 14:22:31</td>\n",
       "      <td>30-39</td>\n",
       "    </tr>\n",
       "    <tr>\n",
       "      <th>...</th>\n",
       "      <td>...</td>\n",
       "      <td>...</td>\n",
       "      <td>...</td>\n",
       "      <td>...</td>\n",
       "      <td>...</td>\n",
       "      <td>...</td>\n",
       "      <td>...</td>\n",
       "      <td>...</td>\n",
       "      <td>...</td>\n",
       "      <td>...</td>\n",
       "      <td>...</td>\n",
       "      <td>...</td>\n",
       "      <td>...</td>\n",
       "      <td>...</td>\n",
       "      <td>...</td>\n",
       "    </tr>\n",
       "    <tr>\n",
       "      <th>449793</th>\n",
       "      <td>7993686</td>\n",
       "      <td>4.0</td>\n",
       "      <td>56.0</td>\n",
       "      <td>38.5</td>\n",
       "      <td>U</td>\n",
       "      <td>3.0</td>\n",
       "      <td>1411062.68</td>\n",
       "      <td>5.0</td>\n",
       "      <td>5.0</td>\n",
       "      <td>NaN</td>\n",
       "      <td>43214017_97463037638</td>\n",
       "      <td>836828058_85095473377_98507</td>\n",
       "      <td>start</td>\n",
       "      <td>2017-04-03 21:41:39</td>\n",
       "      <td>30-39</td>\n",
       "    </tr>\n",
       "    <tr>\n",
       "      <th>449804</th>\n",
       "      <td>8981690</td>\n",
       "      <td>12.0</td>\n",
       "      <td>148.0</td>\n",
       "      <td>31.0</td>\n",
       "      <td>M</td>\n",
       "      <td>2.0</td>\n",
       "      <td>101867.07</td>\n",
       "      <td>6.0</td>\n",
       "      <td>6.0</td>\n",
       "      <td>NaN</td>\n",
       "      <td>235892744_2995807940</td>\n",
       "      <td>458308265_80160772759_795974</td>\n",
       "      <td>confirm</td>\n",
       "      <td>2017-05-31 06:22:48</td>\n",
       "      <td>30-39</td>\n",
       "    </tr>\n",
       "    <tr>\n",
       "      <th>449812</th>\n",
       "      <td>333913</td>\n",
       "      <td>16.0</td>\n",
       "      <td>198.0</td>\n",
       "      <td>61.5</td>\n",
       "      <td>F</td>\n",
       "      <td>2.0</td>\n",
       "      <td>40745.00</td>\n",
       "      <td>3.0</td>\n",
       "      <td>3.0</td>\n",
       "      <td>NaN</td>\n",
       "      <td>405457094_54883289172</td>\n",
       "      <td>10432687_78618454141_814606</td>\n",
       "      <td>confirm</td>\n",
       "      <td>2017-04-09 13:03:40</td>\n",
       "      <td>60-69</td>\n",
       "    </tr>\n",
       "    <tr>\n",
       "      <th>449817</th>\n",
       "      <td>1573142</td>\n",
       "      <td>21.0</td>\n",
       "      <td>255.0</td>\n",
       "      <td>68.0</td>\n",
       "      <td>M</td>\n",
       "      <td>3.0</td>\n",
       "      <td>475114.69</td>\n",
       "      <td>4.0</td>\n",
       "      <td>4.0</td>\n",
       "      <td>NaN</td>\n",
       "      <td>110929964_38003873994</td>\n",
       "      <td>504342110_43310803922_587933</td>\n",
       "      <td>start</td>\n",
       "      <td>2017-04-06 14:22:03</td>\n",
       "      <td>60-69</td>\n",
       "    </tr>\n",
       "    <tr>\n",
       "      <th>449826</th>\n",
       "      <td>5602139</td>\n",
       "      <td>21.0</td>\n",
       "      <td>254.0</td>\n",
       "      <td>59.5</td>\n",
       "      <td>F</td>\n",
       "      <td>3.0</td>\n",
       "      <td>157498.73</td>\n",
       "      <td>7.0</td>\n",
       "      <td>7.0</td>\n",
       "      <td>NaN</td>\n",
       "      <td>962766819_57063135389</td>\n",
       "      <td>158544612_4105226940_43043</td>\n",
       "      <td>confirm</td>\n",
       "      <td>2017-04-05 11:48:02</td>\n",
       "      <td>50-59</td>\n",
       "    </tr>\n",
       "  </tbody>\n",
       "</table>\n",
       "<p>70609 rows × 15 columns</p>\n",
       "</div>"
      ],
      "text/plain": [
       "        client_id  clnt_tenure_yr  clnt_tenure_mnth  clnt_age gendr  \\\n",
       "0          836976             6.0              73.0      60.5     U   \n",
       "11        2304905             7.0              94.0      58.0     U   \n",
       "17        1439522             5.0              64.0      32.0     U   \n",
       "22        1562045            16.0             198.0      49.0     M   \n",
       "23        5126305            12.0             145.0      33.0     F   \n",
       "...           ...             ...               ...       ...   ...   \n",
       "449793    7993686             4.0              56.0      38.5     U   \n",
       "449804    8981690            12.0             148.0      31.0     M   \n",
       "449812     333913            16.0             198.0      61.5     F   \n",
       "449817    1573142            21.0             255.0      68.0     M   \n",
       "449826    5602139            21.0             254.0      59.5     F   \n",
       "\n",
       "        num_accts         bal  calls_6_mnth  logons_6_mnth Variation  \\\n",
       "0             2.0    45105.30           6.0            9.0      Test   \n",
       "11            2.0   110860.30           6.0            9.0   Control   \n",
       "17            2.0    52467.79           6.0            9.0      Test   \n",
       "22            2.0    67454.65           3.0            6.0      Test   \n",
       "23            2.0   103671.75           0.0            3.0   Control   \n",
       "...           ...         ...           ...            ...       ...   \n",
       "449793        3.0  1411062.68           5.0            5.0       NaN   \n",
       "449804        2.0   101867.07           6.0            6.0       NaN   \n",
       "449812        2.0    40745.00           3.0            3.0       NaN   \n",
       "449817        3.0   475114.69           4.0            4.0       NaN   \n",
       "449826        3.0   157498.73           7.0            7.0       NaN   \n",
       "\n",
       "                   visitor_id                      visit_id process_step  \\\n",
       "0        427070339_1413275162   228976764_46825473280_96584      confirm   \n",
       "11      336210275_56978226960  724930510_65323235593_692754      confirm   \n",
       "17      245908175_84333642537  898099666_87299892721_263146       step_3   \n",
       "22      391202328_71710993352   71954691_44810191073_495385        start   \n",
       "23      432077852_35036160885  942996157_39527225999_589383        start   \n",
       "...                       ...                           ...          ...   \n",
       "449793   43214017_97463037638   836828058_85095473377_98507        start   \n",
       "449804   235892744_2995807940  458308265_80160772759_795974      confirm   \n",
       "449812  405457094_54883289172   10432687_78618454141_814606      confirm   \n",
       "449817  110929964_38003873994  504342110_43310803922_587933        start   \n",
       "449826  962766819_57063135389    158544612_4105226940_43043      confirm   \n",
       "\n",
       "                  date_time age_category  \n",
       "0       2017-04-02 11:51:13        60-69  \n",
       "11      2017-05-21 11:07:16        50-59  \n",
       "17      2017-04-06 09:29:59        30-39  \n",
       "22      2017-04-06 19:03:46        40-49  \n",
       "23      2017-06-14 14:22:31        30-39  \n",
       "...                     ...          ...  \n",
       "449793  2017-04-03 21:41:39        30-39  \n",
       "449804  2017-05-31 06:22:48        30-39  \n",
       "449812  2017-04-09 13:03:40        60-69  \n",
       "449817  2017-04-06 14:22:03        60-69  \n",
       "449826  2017-04-05 11:48:02        50-59  \n",
       "\n",
       "[70609 rows x 15 columns]"
      ]
     },
     "execution_count": 18,
     "metadata": {},
     "output_type": "execute_result"
    }
   ],
   "source": [
    "age_no_duplicates"
   ]
  },
  {
   "cell_type": "code",
   "execution_count": 19,
   "id": "bdb831d6-0262-4548-927c-dd7dea555a66",
   "metadata": {},
   "outputs": [
    {
     "name": "stderr",
     "output_type": "stream",
     "text": [
      "/var/folders/d8/knczg5hs597_plsphx_dp9kh0000gn/T/ipykernel_2387/2327149773.py:9: FutureWarning: \n",
      "\n",
      "Passing `palette` without assigning `hue` is deprecated and will be removed in v0.14.0. Assign the `x` variable to `hue` and set `legend=False` for the same effect.\n",
      "\n",
      "  sns.barplot(x=age_percentage_ordered.index, y=age_percentage_ordered.values, palette='viridis')\n"
     ]
    },
    {
     "data": {
      "image/png": "[encoded data removed]",
      "text/plain": [
       "<Figure size 1000x600 with 1 Axes>"
      ]
     },
     "metadata": {},
     "output_type": "display_data"
    }
   ],
   "source": [
    "# Define the order of age categories\n",
    "age_order = ['18-29', '30-39', '40-49', '50-59', '60-69', '≥70']\n",
    "\n",
    "# Reindex to ensure the correct order\n",
    "age_percentage_ordered = age_counts.reindex(age_order).fillna(0)\n",
    "\n",
    "# Plot the bar chart\n",
    "plt.figure(figsize=(10, 6))\n",
    "sns.barplot(x=age_percentage_ordered.index, y=age_percentage_ordered.values, palette='viridis')\n",
    "\n",
    "# Add titles and labels\n",
    "plt.title('Percentage of Clients by Age')\n",
    "plt.xlabel('Age Category')\n",
    "plt.ylabel('Percentage (%)')\n",
    "\n",
    "# Add percentage labels on top of each bar\n",
    "for index, value in enumerate(age_percentage_ordered.values):\n",
    "    plt.text(index, value, f'{value:.1f}%', ha='center', va='bottom')\n",
    "\n",
    "# Show the plot\n",
    "plt.show()"
   ]
  },
  {
   "cell_type": "code",
   "execution_count": 20,
   "id": "68f09ea6-16e4-4810-a53b-4aa2bb4310e4",
   "metadata": {},
   "outputs": [
    {
     "data": {
      "text/plain": [
       "<Figure size 1000x600 with 0 Axes>"
      ]
     },
     "metadata": {},
     "output_type": "display_data"
    },
    {
     "data": {
      "image/png": "[encoded data removed]",
      "text/plain": [
       "<Figure size 640x480 with 1 Axes>"
      ]
     },
     "metadata": {
      "needs_background": "light"
     },
     "output_type": "display_data"
    }
   ],
   "source": [
    "import os\n",
    "import matplotlib.pyplot as plt\n",
    "import seaborn as sns\n",
    "\n",
    "# Define the order of age categories\n",
    "age_order = ['18-29', '30-39', '40-49', '50-59', '60-69', '≥70']\n",
    "\n",
    "# Reindex to ensure the correct order\n",
    "age_percentage_ordered = age_counts.reindex(age_order).fillna(0)\n",
    "\n",
    "# Set style and background\n",
    "sns.set_style(\"white\")  # No gridlines\n",
    "plt.figure(figsize=(10, 6))\n",
    "plt.figure(facecolor='None')  # Transparent background\n",
    "\n",
    "#maroon_color_rgb= (189/255, 66/255, 46/255)  # RGB values for maroon\n",
    "\n",
    "\n",
    "# Create the bar plot with light maroon color\n",
    "sns.barplot(x=age_percentage_ordered.index, y=age_percentage_ordered.values, color=\"#976255\", edgecolor='gray', linewidth=1.5)\n",
    "\n",
    "# Add titles and labels\n",
    "#plt.title('Percentage of Clients by Age')\n",
    "plt.xlabel('Age Category')\n",
    "plt.ylabel('Percentage (%)')\n",
    "\n",
    "# Add percentage labels on top of each bar\n",
    "for index, value in enumerate(age_percentage_ordered.values):\n",
    "    plt.text(index, value, f'{value:.1f}%', ha='center', va='bottom')\n",
    "\n",
    "# Remove frame around the graph\n",
    "sns.despine()\n",
    "\n",
    "# Define the save path\n",
    "save_path = \"/Users/joaosousa/Desktop/Ironhack/5th_week/project_2/images\"\n",
    "\n",
    "# Save the plot with transparent background\n",
    "plt.savefig(os.path.join(save_path, 'age_distribution.png'), dpi=300, bbox_inches='tight', transparent=True)\n",
    "\n",
    "# Show the plot\n",
    "plt.show()"
   ]
  },
  {
   "cell_type": "code",
   "execution_count": 21,
   "id": "b0ef0d25-303a-4737-ad0c-bd16b8ddfe19",
   "metadata": {},
   "outputs": [
    {
     "data": {
      "text/plain": [
       "array([ 6.,  7.,  5., 16., 12., 30., 15.,  8.,  4.,  3., 10., 11., 13.,\n",
       "       14., 19., 18., 25., 23., 21., 17.,  9., 27., 24., 20., 28., 22.,\n",
       "       29., 46., 26., 32., 33., 35.,  2., 38., 31., 48., 34., 36., 51.,\n",
       "       47., 49., 37., 39., 40., 55., 42., 44., 43., 50., 54., 41., 45.,\n",
       "       52., 62.])"
      ]
     },
     "execution_count": 21,
     "metadata": {},
     "output_type": "execute_result"
    }
   ],
   "source": [
    "age_no_duplicates[\"clnt_tenure_yr\"].unique()"
   ]
  },
  {
   "cell_type": "code",
   "execution_count": 22,
   "id": "323e98c1-6a01-42a9-b208-5d3d7972cd13",
   "metadata": {},
   "outputs": [
    {
     "data": {
      "text/html": [
       "<div>\n",
       "<style scoped>\n",
       "    .dataframe tbody tr th:only-of-type {\n",
       "        vertical-align: middle;\n",
       "    }\n",
       "\n",
       "    .dataframe tbody tr th {\n",
       "        vertical-align: top;\n",
       "    }\n",
       "\n",
       "    .dataframe thead th {\n",
       "        text-align: right;\n",
       "    }\n",
       "</style>\n",
       "<table border=\"1\" class=\"dataframe\">\n",
       "  <thead>\n",
       "    <tr style=\"text-align: right;\">\n",
       "      <th></th>\n",
       "      <th>client_id</th>\n",
       "      <th>clnt_tenure_yr</th>\n",
       "      <th>clnt_tenure_mnth</th>\n",
       "      <th>clnt_age</th>\n",
       "      <th>gendr</th>\n",
       "      <th>num_accts</th>\n",
       "      <th>bal</th>\n",
       "      <th>calls_6_mnth</th>\n",
       "      <th>logons_6_mnth</th>\n",
       "      <th>Variation</th>\n",
       "      <th>visitor_id</th>\n",
       "      <th>visit_id</th>\n",
       "      <th>process_step</th>\n",
       "      <th>date_time</th>\n",
       "      <th>age_category</th>\n",
       "    </tr>\n",
       "  </thead>\n",
       "  <tbody>\n",
       "    <tr>\n",
       "      <th>143001</th>\n",
       "      <td>9998346</td>\n",
       "      <td>50.0</td>\n",
       "      <td>602.0</td>\n",
       "      <td>61.5</td>\n",
       "      <td>F</td>\n",
       "      <td>2.0</td>\n",
       "      <td>149881.38</td>\n",
       "      <td>6.0</td>\n",
       "      <td>9.0</td>\n",
       "      <td>Control</td>\n",
       "      <td>292425655_16607136645</td>\n",
       "      <td>189177304_69869411700_783154</td>\n",
       "      <td>step_3</td>\n",
       "      <td>2017-03-29 15:37:28</td>\n",
       "      <td>60-69</td>\n",
       "    </tr>\n",
       "    <tr>\n",
       "      <th>145466</th>\n",
       "      <td>6957997</td>\n",
       "      <td>50.0</td>\n",
       "      <td>608.0</td>\n",
       "      <td>85.0</td>\n",
       "      <td>F</td>\n",
       "      <td>3.0</td>\n",
       "      <td>275116.19</td>\n",
       "      <td>2.0</td>\n",
       "      <td>5.0</td>\n",
       "      <td>Test</td>\n",
       "      <td>184999994_67168139315</td>\n",
       "      <td>364069985_60060838038_988292</td>\n",
       "      <td>confirm</td>\n",
       "      <td>2017-05-04 19:21:35</td>\n",
       "      <td>≥70</td>\n",
       "    </tr>\n",
       "    <tr>\n",
       "      <th>187333</th>\n",
       "      <td>6796179</td>\n",
       "      <td>50.0</td>\n",
       "      <td>602.0</td>\n",
       "      <td>70.5</td>\n",
       "      <td>M</td>\n",
       "      <td>2.0</td>\n",
       "      <td>39803.55</td>\n",
       "      <td>0.0</td>\n",
       "      <td>3.0</td>\n",
       "      <td>Control</td>\n",
       "      <td>634703562_226730307</td>\n",
       "      <td>783316986_13889218585_933017</td>\n",
       "      <td>confirm</td>\n",
       "      <td>2017-04-06 15:20:18</td>\n",
       "      <td>≥70</td>\n",
       "    </tr>\n",
       "    <tr>\n",
       "      <th>281382</th>\n",
       "      <td>3928970</td>\n",
       "      <td>50.0</td>\n",
       "      <td>602.0</td>\n",
       "      <td>78.5</td>\n",
       "      <td>F</td>\n",
       "      <td>3.0</td>\n",
       "      <td>1815567.26</td>\n",
       "      <td>6.0</td>\n",
       "      <td>9.0</td>\n",
       "      <td>Test</td>\n",
       "      <td>979069338_90362143332</td>\n",
       "      <td>59648558_48349420154_889481</td>\n",
       "      <td>confirm</td>\n",
       "      <td>2017-04-02 19:24:03</td>\n",
       "      <td>≥70</td>\n",
       "    </tr>\n",
       "    <tr>\n",
       "      <th>327629</th>\n",
       "      <td>8362413</td>\n",
       "      <td>50.0</td>\n",
       "      <td>610.0</td>\n",
       "      <td>64.5</td>\n",
       "      <td>M</td>\n",
       "      <td>2.0</td>\n",
       "      <td>220877.37</td>\n",
       "      <td>7.0</td>\n",
       "      <td>7.0</td>\n",
       "      <td>NaN</td>\n",
       "      <td>978888349_61219756431</td>\n",
       "      <td>192229834_17620180268_122220</td>\n",
       "      <td>confirm</td>\n",
       "      <td>2017-03-31 13:04:49</td>\n",
       "      <td>60-69</td>\n",
       "    </tr>\n",
       "    <tr>\n",
       "      <th>343814</th>\n",
       "      <td>1997358</td>\n",
       "      <td>50.0</td>\n",
       "      <td>603.0</td>\n",
       "      <td>65.0</td>\n",
       "      <td>M</td>\n",
       "      <td>2.0</td>\n",
       "      <td>14167.31</td>\n",
       "      <td>3.0</td>\n",
       "      <td>4.0</td>\n",
       "      <td>NaN</td>\n",
       "      <td>705228653_46561833119</td>\n",
       "      <td>487034547_133610361_801497</td>\n",
       "      <td>confirm</td>\n",
       "      <td>2017-05-07 22:09:46</td>\n",
       "      <td>60-69</td>\n",
       "    </tr>\n",
       "    <tr>\n",
       "      <th>346092</th>\n",
       "      <td>1258362</td>\n",
       "      <td>50.0</td>\n",
       "      <td>610.0</td>\n",
       "      <td>55.5</td>\n",
       "      <td>M</td>\n",
       "      <td>2.0</td>\n",
       "      <td>33925.67</td>\n",
       "      <td>7.0</td>\n",
       "      <td>7.0</td>\n",
       "      <td>NaN</td>\n",
       "      <td>462114066_47740956239</td>\n",
       "      <td>507649607_51953185289_432157</td>\n",
       "      <td>confirm</td>\n",
       "      <td>2017-04-05 11:37:46</td>\n",
       "      <td>50-59</td>\n",
       "    </tr>\n",
       "    <tr>\n",
       "      <th>409037</th>\n",
       "      <td>4172429</td>\n",
       "      <td>50.0</td>\n",
       "      <td>602.0</td>\n",
       "      <td>70.5</td>\n",
       "      <td>F</td>\n",
       "      <td>2.0</td>\n",
       "      <td>17958.42</td>\n",
       "      <td>3.0</td>\n",
       "      <td>3.0</td>\n",
       "      <td>NaN</td>\n",
       "      <td>189684873_83420194098</td>\n",
       "      <td>486803101_97077859540_566789</td>\n",
       "      <td>step_1</td>\n",
       "      <td>2017-04-19 15:00:29</td>\n",
       "      <td>≥70</td>\n",
       "    </tr>\n",
       "  </tbody>\n",
       "</table>\n",
       "</div>"
      ],
      "text/plain": [
       "        client_id  clnt_tenure_yr  clnt_tenure_mnth  clnt_age gendr  \\\n",
       "143001    9998346            50.0             602.0      61.5     F   \n",
       "145466    6957997            50.0             608.0      85.0     F   \n",
       "187333    6796179            50.0             602.0      70.5     M   \n",
       "281382    3928970            50.0             602.0      78.5     F   \n",
       "327629    8362413            50.0             610.0      64.5     M   \n",
       "343814    1997358            50.0             603.0      65.0     M   \n",
       "346092    1258362            50.0             610.0      55.5     M   \n",
       "409037    4172429            50.0             602.0      70.5     F   \n",
       "\n",
       "        num_accts         bal  calls_6_mnth  logons_6_mnth Variation  \\\n",
       "143001        2.0   149881.38           6.0            9.0   Control   \n",
       "145466        3.0   275116.19           2.0            5.0      Test   \n",
       "187333        2.0    39803.55           0.0            3.0   Control   \n",
       "281382        3.0  1815567.26           6.0            9.0      Test   \n",
       "327629        2.0   220877.37           7.0            7.0       NaN   \n",
       "343814        2.0    14167.31           3.0            4.0       NaN   \n",
       "346092        2.0    33925.67           7.0            7.0       NaN   \n",
       "409037        2.0    17958.42           3.0            3.0       NaN   \n",
       "\n",
       "                   visitor_id                      visit_id process_step  \\\n",
       "143001  292425655_16607136645  189177304_69869411700_783154       step_3   \n",
       "145466  184999994_67168139315  364069985_60060838038_988292      confirm   \n",
       "187333    634703562_226730307  783316986_13889218585_933017      confirm   \n",
       "281382  979069338_90362143332   59648558_48349420154_889481      confirm   \n",
       "327629  978888349_61219756431  192229834_17620180268_122220      confirm   \n",
       "343814  705228653_46561833119    487034547_133610361_801497      confirm   \n",
       "346092  462114066_47740956239  507649607_51953185289_432157      confirm   \n",
       "409037  189684873_83420194098  486803101_97077859540_566789       step_1   \n",
       "\n",
       "                  date_time age_category  \n",
       "143001  2017-03-29 15:37:28        60-69  \n",
       "145466  2017-05-04 19:21:35          ≥70  \n",
       "187333  2017-04-06 15:20:18          ≥70  \n",
       "281382  2017-04-02 19:24:03          ≥70  \n",
       "327629  2017-03-31 13:04:49        60-69  \n",
       "343814  2017-05-07 22:09:46        60-69  \n",
       "346092  2017-04-05 11:37:46        50-59  \n",
       "409037  2017-04-19 15:00:29          ≥70  "
      ]
     },
     "execution_count": 22,
     "metadata": {},
     "output_type": "execute_result"
    }
   ],
   "source": [
    "age_no_duplicates[age_no_duplicates[\"clnt_tenure_yr\"]== 50]"
   ]
  },
  {
   "cell_type": "code",
   "execution_count": 23,
   "id": "9191c0a4-7c8c-4f3e-a036-7afdd4d7321f",
   "metadata": {},
   "outputs": [
    {
     "data": {
      "text/html": [
       "<div>\n",
       "<style scoped>\n",
       "    .dataframe tbody tr th:only-of-type {\n",
       "        vertical-align: middle;\n",
       "    }\n",
       "\n",
       "    .dataframe tbody tr th {\n",
       "        vertical-align: top;\n",
       "    }\n",
       "\n",
       "    .dataframe thead th {\n",
       "        text-align: right;\n",
       "    }\n",
       "</style>\n",
       "<table border=\"1\" class=\"dataframe\">\n",
       "  <thead>\n",
       "    <tr style=\"text-align: right;\">\n",
       "      <th></th>\n",
       "      <th>client_id</th>\n",
       "      <th>clnt_tenure_yr</th>\n",
       "      <th>clnt_tenure_mnth</th>\n",
       "      <th>clnt_age</th>\n",
       "      <th>gendr</th>\n",
       "      <th>num_accts</th>\n",
       "      <th>bal</th>\n",
       "      <th>calls_6_mnth</th>\n",
       "      <th>logons_6_mnth</th>\n",
       "      <th>Variation</th>\n",
       "      <th>visitor_id</th>\n",
       "      <th>visit_id</th>\n",
       "      <th>process_step</th>\n",
       "      <th>date_time</th>\n",
       "      <th>age_category</th>\n",
       "    </tr>\n",
       "  </thead>\n",
       "  <tbody>\n",
       "    <tr>\n",
       "      <th>0</th>\n",
       "      <td>836976</td>\n",
       "      <td>6.0</td>\n",
       "      <td>73.0</td>\n",
       "      <td>60.5</td>\n",
       "      <td>U</td>\n",
       "      <td>2.0</td>\n",
       "      <td>45105.30</td>\n",
       "      <td>6.0</td>\n",
       "      <td>9.0</td>\n",
       "      <td>Test</td>\n",
       "      <td>427070339_1413275162</td>\n",
       "      <td>228976764_46825473280_96584</td>\n",
       "      <td>confirm</td>\n",
       "      <td>2017-04-02 11:51:13</td>\n",
       "      <td>60-69</td>\n",
       "    </tr>\n",
       "    <tr>\n",
       "      <th>11</th>\n",
       "      <td>2304905</td>\n",
       "      <td>7.0</td>\n",
       "      <td>94.0</td>\n",
       "      <td>58.0</td>\n",
       "      <td>U</td>\n",
       "      <td>2.0</td>\n",
       "      <td>110860.30</td>\n",
       "      <td>6.0</td>\n",
       "      <td>9.0</td>\n",
       "      <td>Control</td>\n",
       "      <td>336210275_56978226960</td>\n",
       "      <td>724930510_65323235593_692754</td>\n",
       "      <td>confirm</td>\n",
       "      <td>2017-05-21 11:07:16</td>\n",
       "      <td>50-59</td>\n",
       "    </tr>\n",
       "    <tr>\n",
       "      <th>17</th>\n",
       "      <td>1439522</td>\n",
       "      <td>5.0</td>\n",
       "      <td>64.0</td>\n",
       "      <td>32.0</td>\n",
       "      <td>U</td>\n",
       "      <td>2.0</td>\n",
       "      <td>52467.79</td>\n",
       "      <td>6.0</td>\n",
       "      <td>9.0</td>\n",
       "      <td>Test</td>\n",
       "      <td>245908175_84333642537</td>\n",
       "      <td>898099666_87299892721_263146</td>\n",
       "      <td>step_3</td>\n",
       "      <td>2017-04-06 09:29:59</td>\n",
       "      <td>30-39</td>\n",
       "    </tr>\n",
       "    <tr>\n",
       "      <th>24</th>\n",
       "      <td>3727881</td>\n",
       "      <td>5.0</td>\n",
       "      <td>71.0</td>\n",
       "      <td>30.5</td>\n",
       "      <td>U</td>\n",
       "      <td>2.0</td>\n",
       "      <td>23915.60</td>\n",
       "      <td>0.0</td>\n",
       "      <td>3.0</td>\n",
       "      <td>Control</td>\n",
       "      <td>875448077_54387937735</td>\n",
       "      <td>717519432_65547872352_613051</td>\n",
       "      <td>confirm</td>\n",
       "      <td>2017-03-29 14:00:45</td>\n",
       "      <td>30-39</td>\n",
       "    </tr>\n",
       "    <tr>\n",
       "      <th>31</th>\n",
       "      <td>272934</td>\n",
       "      <td>5.0</td>\n",
       "      <td>66.0</td>\n",
       "      <td>58.5</td>\n",
       "      <td>U</td>\n",
       "      <td>2.0</td>\n",
       "      <td>27021.42</td>\n",
       "      <td>2.0</td>\n",
       "      <td>5.0</td>\n",
       "      <td>Control</td>\n",
       "      <td>227827901_46893415084</td>\n",
       "      <td>468902637_55778357932_556682</td>\n",
       "      <td>confirm</td>\n",
       "      <td>2017-04-05 16:53:48</td>\n",
       "      <td>50-59</td>\n",
       "    </tr>\n",
       "    <tr>\n",
       "      <th>...</th>\n",
       "      <td>...</td>\n",
       "      <td>...</td>\n",
       "      <td>...</td>\n",
       "      <td>...</td>\n",
       "      <td>...</td>\n",
       "      <td>...</td>\n",
       "      <td>...</td>\n",
       "      <td>...</td>\n",
       "      <td>...</td>\n",
       "      <td>...</td>\n",
       "      <td>...</td>\n",
       "      <td>...</td>\n",
       "      <td>...</td>\n",
       "      <td>...</td>\n",
       "      <td>...</td>\n",
       "    </tr>\n",
       "    <tr>\n",
       "      <th>449722</th>\n",
       "      <td>7217125</td>\n",
       "      <td>14.0</td>\n",
       "      <td>178.0</td>\n",
       "      <td>58.5</td>\n",
       "      <td>U</td>\n",
       "      <td>2.0</td>\n",
       "      <td>319382.04</td>\n",
       "      <td>5.0</td>\n",
       "      <td>6.0</td>\n",
       "      <td>NaN</td>\n",
       "      <td>804185273_12155135965</td>\n",
       "      <td>587718517_26548356217_474607</td>\n",
       "      <td>confirm</td>\n",
       "      <td>2017-04-05 14:01:39</td>\n",
       "      <td>50-59</td>\n",
       "    </tr>\n",
       "    <tr>\n",
       "      <th>449757</th>\n",
       "      <td>7807844</td>\n",
       "      <td>5.0</td>\n",
       "      <td>70.0</td>\n",
       "      <td>37.0</td>\n",
       "      <td>U</td>\n",
       "      <td>2.0</td>\n",
       "      <td>493497.05</td>\n",
       "      <td>2.0</td>\n",
       "      <td>2.0</td>\n",
       "      <td>NaN</td>\n",
       "      <td>22703806_12091389151</td>\n",
       "      <td>582197818_99560699743_991536</td>\n",
       "      <td>step_1</td>\n",
       "      <td>2017-04-19 11:14:13</td>\n",
       "      <td>30-39</td>\n",
       "    </tr>\n",
       "    <tr>\n",
       "      <th>449763</th>\n",
       "      <td>4851159</td>\n",
       "      <td>6.0</td>\n",
       "      <td>79.0</td>\n",
       "      <td>60.0</td>\n",
       "      <td>U</td>\n",
       "      <td>2.0</td>\n",
       "      <td>74501.76</td>\n",
       "      <td>4.0</td>\n",
       "      <td>4.0</td>\n",
       "      <td>NaN</td>\n",
       "      <td>608382845_15867284400</td>\n",
       "      <td>763720438_10060797590_885597</td>\n",
       "      <td>start</td>\n",
       "      <td>2017-04-05 13:41:04</td>\n",
       "      <td>60-69</td>\n",
       "    </tr>\n",
       "    <tr>\n",
       "      <th>449787</th>\n",
       "      <td>2489338</td>\n",
       "      <td>5.0</td>\n",
       "      <td>66.0</td>\n",
       "      <td>17.5</td>\n",
       "      <td>U</td>\n",
       "      <td>2.0</td>\n",
       "      <td>17869.95</td>\n",
       "      <td>4.0</td>\n",
       "      <td>4.0</td>\n",
       "      <td>NaN</td>\n",
       "      <td>87972764_45157109967</td>\n",
       "      <td>732886383_69956933920_978787</td>\n",
       "      <td>confirm</td>\n",
       "      <td>2017-04-05 12:23:01</td>\n",
       "      <td>None</td>\n",
       "    </tr>\n",
       "    <tr>\n",
       "      <th>449793</th>\n",
       "      <td>7993686</td>\n",
       "      <td>4.0</td>\n",
       "      <td>56.0</td>\n",
       "      <td>38.5</td>\n",
       "      <td>U</td>\n",
       "      <td>3.0</td>\n",
       "      <td>1411062.68</td>\n",
       "      <td>5.0</td>\n",
       "      <td>5.0</td>\n",
       "      <td>NaN</td>\n",
       "      <td>43214017_97463037638</td>\n",
       "      <td>836828058_85095473377_98507</td>\n",
       "      <td>start</td>\n",
       "      <td>2017-04-03 21:41:39</td>\n",
       "      <td>30-39</td>\n",
       "    </tr>\n",
       "  </tbody>\n",
       "</table>\n",
       "<p>24123 rows × 15 columns</p>\n",
       "</div>"
      ],
      "text/plain": [
       "        client_id  clnt_tenure_yr  clnt_tenure_mnth  clnt_age gendr  \\\n",
       "0          836976             6.0              73.0      60.5     U   \n",
       "11        2304905             7.0              94.0      58.0     U   \n",
       "17        1439522             5.0              64.0      32.0     U   \n",
       "24        3727881             5.0              71.0      30.5     U   \n",
       "31         272934             5.0              66.0      58.5     U   \n",
       "...           ...             ...               ...       ...   ...   \n",
       "449722    7217125            14.0             178.0      58.5     U   \n",
       "449757    7807844             5.0              70.0      37.0     U   \n",
       "449763    4851159             6.0              79.0      60.0     U   \n",
       "449787    2489338             5.0              66.0      17.5     U   \n",
       "449793    7993686             4.0              56.0      38.5     U   \n",
       "\n",
       "        num_accts         bal  calls_6_mnth  logons_6_mnth Variation  \\\n",
       "0             2.0    45105.30           6.0            9.0      Test   \n",
       "11            2.0   110860.30           6.0            9.0   Control   \n",
       "17            2.0    52467.79           6.0            9.0      Test   \n",
       "24            2.0    23915.60           0.0            3.0   Control   \n",
       "31            2.0    27021.42           2.0            5.0   Control   \n",
       "...           ...         ...           ...            ...       ...   \n",
       "449722        2.0   319382.04           5.0            6.0       NaN   \n",
       "449757        2.0   493497.05           2.0            2.0       NaN   \n",
       "449763        2.0    74501.76           4.0            4.0       NaN   \n",
       "449787        2.0    17869.95           4.0            4.0       NaN   \n",
       "449793        3.0  1411062.68           5.0            5.0       NaN   \n",
       "\n",
       "                   visitor_id                      visit_id process_step  \\\n",
       "0        427070339_1413275162   228976764_46825473280_96584      confirm   \n",
       "11      336210275_56978226960  724930510_65323235593_692754      confirm   \n",
       "17      245908175_84333642537  898099666_87299892721_263146       step_3   \n",
       "24      875448077_54387937735  717519432_65547872352_613051      confirm   \n",
       "31      227827901_46893415084  468902637_55778357932_556682      confirm   \n",
       "...                       ...                           ...          ...   \n",
       "449722  804185273_12155135965  587718517_26548356217_474607      confirm   \n",
       "449757   22703806_12091389151  582197818_99560699743_991536       step_1   \n",
       "449763  608382845_15867284400  763720438_10060797590_885597        start   \n",
       "449787   87972764_45157109967  732886383_69956933920_978787      confirm   \n",
       "449793   43214017_97463037638   836828058_85095473377_98507        start   \n",
       "\n",
       "                  date_time age_category  \n",
       "0       2017-04-02 11:51:13        60-69  \n",
       "11      2017-05-21 11:07:16        50-59  \n",
       "17      2017-04-06 09:29:59        30-39  \n",
       "24      2017-03-29 14:00:45        30-39  \n",
       "31      2017-04-05 16:53:48        50-59  \n",
       "...                     ...          ...  \n",
       "449722  2017-04-05 14:01:39        50-59  \n",
       "449757  2017-04-19 11:14:13        30-39  \n",
       "449763  2017-04-05 13:41:04        60-69  \n",
       "449787  2017-04-05 12:23:01         None  \n",
       "449793  2017-04-03 21:41:39        30-39  \n",
       "\n",
       "[24123 rows x 15 columns]"
      ]
     },
     "execution_count": 23,
     "metadata": {},
     "output_type": "execute_result"
    }
   ],
   "source": [
    "age_no_duplicates[age_no_duplicates[\"gendr\"]==\"U\"]"
   ]
  },
  {
   "cell_type": "code",
   "execution_count": 128,
   "id": "18728754-fa10-43ef-80f9-08eacf46cab8",
   "metadata": {},
   "outputs": [
    {
     "data": {
      "text/html": [
       "<div>\n",
       "<style scoped>\n",
       "    .dataframe tbody tr th:only-of-type {\n",
       "        vertical-align: middle;\n",
       "    }\n",
       "\n",
       "    .dataframe tbody tr th {\n",
       "        vertical-align: top;\n",
       "    }\n",
       "\n",
       "    .dataframe thead th {\n",
       "        text-align: right;\n",
       "    }\n",
       "</style>\n",
       "<table border=\"1\" class=\"dataframe\">\n",
       "  <thead>\n",
       "    <tr style=\"text-align: right;\">\n",
       "      <th></th>\n",
       "      <th>client_id</th>\n",
       "      <th>clnt_tenure_yr</th>\n",
       "      <th>clnt_tenure_mnth</th>\n",
       "      <th>clnt_age</th>\n",
       "      <th>gendr</th>\n",
       "      <th>num_accts</th>\n",
       "      <th>bal</th>\n",
       "      <th>calls_6_mnth</th>\n",
       "      <th>logons_6_mnth</th>\n",
       "      <th>Variation</th>\n",
       "      <th>visitor_id</th>\n",
       "      <th>visit_id</th>\n",
       "      <th>process_step</th>\n",
       "      <th>date_time</th>\n",
       "      <th>age_category</th>\n",
       "      <th>year_category</th>\n",
       "    </tr>\n",
       "  </thead>\n",
       "  <tbody>\n",
       "    <tr>\n",
       "      <th>113202</th>\n",
       "      <td>4806791</td>\n",
       "      <td>11.0</td>\n",
       "      <td>136.0</td>\n",
       "      <td>40.0</td>\n",
       "      <td>X</td>\n",
       "      <td>2.0</td>\n",
       "      <td>31437.35</td>\n",
       "      <td>6.0</td>\n",
       "      <td>9.0</td>\n",
       "      <td>Test</td>\n",
       "      <td>316120809_86844311793</td>\n",
       "      <td>316095528_64525084093_492640</td>\n",
       "      <td>step_1</td>\n",
       "      <td>2017-05-01 23:34:41</td>\n",
       "      <td>40-49</td>\n",
       "      <td>10-15</td>\n",
       "    </tr>\n",
       "    <tr>\n",
       "      <th>124218</th>\n",
       "      <td>5537155</td>\n",
       "      <td>9.0</td>\n",
       "      <td>113.0</td>\n",
       "      <td>26.0</td>\n",
       "      <td>X</td>\n",
       "      <td>2.0</td>\n",
       "      <td>25380.34</td>\n",
       "      <td>1.0</td>\n",
       "      <td>4.0</td>\n",
       "      <td>Test</td>\n",
       "      <td>98218388_22992346905</td>\n",
       "      <td>627280679_80449138882_747178</td>\n",
       "      <td>start</td>\n",
       "      <td>2017-04-14 10:11:21</td>\n",
       "      <td>18-29</td>\n",
       "      <td>5-10</td>\n",
       "    </tr>\n",
       "    <tr>\n",
       "      <th>341249</th>\n",
       "      <td>1807720</td>\n",
       "      <td>9.0</td>\n",
       "      <td>110.0</td>\n",
       "      <td>52.0</td>\n",
       "      <td>X</td>\n",
       "      <td>3.0</td>\n",
       "      <td>25710.63</td>\n",
       "      <td>4.0</td>\n",
       "      <td>5.0</td>\n",
       "      <td>NaN</td>\n",
       "      <td>93205447_4970662866</td>\n",
       "      <td>843145725_36074583475_120288</td>\n",
       "      <td>step_2</td>\n",
       "      <td>2017-04-06 14:22:58</td>\n",
       "      <td>50-59</td>\n",
       "      <td>5-10</td>\n",
       "    </tr>\n",
       "  </tbody>\n",
       "</table>\n",
       "</div>"
      ],
      "text/plain": [
       "        client_id  clnt_tenure_yr  clnt_tenure_mnth  clnt_age gendr  \\\n",
       "113202    4806791            11.0             136.0      40.0     X   \n",
       "124218    5537155             9.0             113.0      26.0     X   \n",
       "341249    1807720             9.0             110.0      52.0     X   \n",
       "\n",
       "        num_accts       bal  calls_6_mnth  logons_6_mnth Variation  \\\n",
       "113202        2.0  31437.35           6.0            9.0      Test   \n",
       "124218        2.0  25380.34           1.0            4.0      Test   \n",
       "341249        3.0  25710.63           4.0            5.0       NaN   \n",
       "\n",
       "                   visitor_id                      visit_id process_step  \\\n",
       "113202  316120809_86844311793  316095528_64525084093_492640       step_1   \n",
       "124218   98218388_22992346905  627280679_80449138882_747178        start   \n",
       "341249    93205447_4970662866  843145725_36074583475_120288       step_2   \n",
       "\n",
       "                  date_time age_category year_category  \n",
       "113202  2017-05-01 23:34:41        40-49         10-15  \n",
       "124218  2017-04-14 10:11:21        18-29          5-10  \n",
       "341249  2017-04-06 14:22:58        50-59          5-10  "
      ]
     },
     "execution_count": 128,
     "metadata": {},
     "output_type": "execute_result"
    }
   ],
   "source": [
    "age_no_duplicates[age_no_duplicates[\"gendr\"] == \"X\"]"
   ]
  },
  {
   "cell_type": "code",
   "execution_count": 24,
   "id": "6012518c-2c57-4f17-a00b-5cdc675cf78b",
   "metadata": {},
   "outputs": [],
   "source": [
    "age_no_duplicates[\"gendr\"].value_counts()\n",
    "\n",
    "gender = age_no_duplicates[\"gendr\"].value_counts(normalize=True) * 100\n"
   ]
  },
  {
   "cell_type": "code",
   "execution_count": 25,
   "id": "cda199f5-7669-4d60-ab6e-17e402f77268",
   "metadata": {},
   "outputs": [
    {
     "data": {
      "text/plain": [
       "<Figure size 800x600 with 0 Axes>"
      ]
     },
     "metadata": {},
     "output_type": "display_data"
    },
    {
     "data": {
      "image/png": "[encoded data removed]",
      "text/plain": [
       "<Figure size 640x480 with 1 Axes>"
      ]
     },
     "metadata": {
      "needs_background": "light"
     },
     "output_type": "display_data"
    }
   ],
   "source": [
    "import os\n",
    "import matplotlib.pyplot as plt\n",
    "import seaborn as sns\n",
    "\n",
    "# Assuming age_no_duplicates is a pandas DataFrame that contains the 'gendr' column\n",
    "\n",
    "# Calculate the percentage for each gender\n",
    "gender_percentage = age_no_duplicates[\"gendr\"].value_counts(normalize=True) * 100\n",
    "\n",
    "# Set style and background\n",
    "sns.set_style(\"white\")  # No gridlines\n",
    "plt.figure(figsize=(8, 6))\n",
    "plt.figure(facecolor='None')  # Transparent background\n",
    "\n",
    "# Define the maroon color with alpha 0.7\n",
    "#maroon_color_rgba = (128/255, 0, 0, 0.7)  # RGBA values for #800000 with alpha 0.7\n",
    "\n",
    "# Create the bar plot with maroon color and transparency\n",
    "bars = plt.bar(gender_percentage.index, gender_percentage.values, \n",
    "               color=\"#976255\", edgecolor='gray', linewidth=1.5)\n",
    "\n",
    "# Set the x-axis and y-axis labels\n",
    "plt.xlabel('Gender')\n",
    "plt.ylabel('Percentage (%)')\n",
    "plt.ylim(0, 40)  # Setting the y-axis limit for better visualization\n",
    "\n",
    "# Add percentage labels on top of each bar\n",
    "for bar, value in zip(bars, gender_percentage.values):\n",
    "    plt.text(bar.get_x() + bar.get_width() / 2, bar.get_height() + 1, f\"{value:.1f}%\", ha='center', va='bottom')\n",
    "\n",
    "# Remove spines\n",
    "sns.despine()\n",
    "\n",
    "# Save the plot with transparent background\n",
    "save_path = \"/Users/joaosousa/Desktop/Ironhack/5th_week/project_2/images\"\n",
    "plt.savefig(os.path.join(save_path, 'gender_distribution.png'), dpi=300, bbox_inches='tight', transparent=True)\n",
    "\n",
    "# Show the plot\n",
    "plt.show()\n"
   ]
  },
  {
   "cell_type": "code",
   "execution_count": 26,
   "id": "854112ce-d429-4fb8-abd8-d34bccad8e64",
   "metadata": {},
   "outputs": [
    {
     "data": {
      "text/plain": [
       "<Figure size 800x600 with 0 Axes>"
      ]
     },
     "metadata": {},
     "output_type": "display_data"
    },
    {
     "data": {
      "image/png": "[encoded data removed]",
      "text/plain": [
       "<Figure size 640x480 with 1 Axes>"
      ]
     },
     "metadata": {
      "needs_background": "light"
     },
     "output_type": "display_data"
    }
   ],
   "source": [
    "import os\n",
    "import matplotlib.pyplot as plt\n",
    "import seaborn as sns\n",
    "\n",
    "# Data\n",
    "gender_data = {'U': 34.164200, 'M': 33.611863, 'F': 32.219689, 'X': 0.004249}\n",
    "categories = list(gender_data.keys())\n",
    "values = list(gender_data.values())\n",
    "\n",
    "# Define colors with transparency\n",
    "control_color = '#006400'  # Dark green\n",
    "test_color = '#800000'  # Maroon\n",
    "\n",
    "# Set style and background\n",
    "sns.set_style(\"white\")  # No gridlines\n",
    "plt.figure(figsize=(8, 6))\n",
    "plt.figure(facecolor='None')  # Transparent background\n",
    "\n",
    "# Define the maroon color with alpha 0.7\n",
    "maroon_color_rgba = (128/255, 0, 0, 0.7)  # RGBA values for #800000 with alpha 0.7\n",
    "\n",
    "# Create the bar plot with maroon color and transparency\n",
    "bars = plt.bar(categories, values, color=[maroon_color_rgba], edgecolor='gray', linewidth=1.5)\n",
    "\n",
    "# Set the x-axis and y-axis labels\n",
    "plt.xlabel('Gender')\n",
    "plt.ylabel('Percentage (%)')\n",
    "plt.ylim(0, 40)  # Setting the y-axis limit for better visualization\n",
    "\n",
    "# Add percentage labels on top of each bar\n",
    "for bar, value in zip(bars, values):\n",
    "    plt.text(bar.get_x() + bar.get_width() / 2, bar.get_height() + 1, f\"{value:.2f}%\", ha='center', va='bottom')\n",
    "\n",
    "# Remove spines\n",
    "sns.despine()\n",
    "\n",
    "# Save the plot with transparent background\n",
    "save_path = \"/Users/joaosousa/Desktop/Ironhack/5th_week/project_2/images\"\n",
    "plt.savefig(os.path.join(save_path, 'gender_distribution.png'), dpi=300, bbox_inches='tight', transparent=True)\n",
    "\n",
    "# Show the plot\n",
    "plt.show()\n"
   ]
  },
  {
   "cell_type": "code",
   "execution_count": 27,
   "id": "f9d88a60-94b6-4d29-82f7-1f66a064210d",
   "metadata": {},
   "outputs": [],
   "source": [
    "def categorize_yr(year):\n",
    "    if year <= 5:\n",
    "        return '0-5'\n",
    "    elif 5 <= year < 10:\n",
    "        return '5-10'\n",
    "    elif 10 <= year < 15:\n",
    "        return '10-15'\n",
    "    elif 15 <= year < 20:\n",
    "        return '15-20'\n",
    "    elif 20 <= year < 25:\n",
    "        return '20-25'\n",
    "    elif year >= 25:\n",
    "        return '≥ 25'"
   ]
  },
  {
   "cell_type": "code",
   "execution_count": null,
   "id": "0d3f0374-55a6-4579-91ae-921944efaabe",
   "metadata": {},
   "outputs": [],
   "source": []
  },
  {
   "cell_type": "code",
   "execution_count": 28,
   "id": "3b87c93b-5ed7-4ffe-b9f4-8fee5fae8c58",
   "metadata": {},
   "outputs": [
    {
     "name": "stderr",
     "output_type": "stream",
     "text": [
      "/var/folders/d8/knczg5hs597_plsphx_dp9kh0000gn/T/ipykernel_2387/2239833442.py:1: SettingWithCopyWarning: \n",
      "A value is trying to be set on a copy of a slice from a DataFrame.\n",
      "Try using .loc[row_indexer,col_indexer] = value instead\n",
      "\n",
      "See the caveats in the documentation: https://pandas.pydata.org/pandas-docs/stable/user_guide/indexing.html#returning-a-view-versus-a-copy\n",
      "  age_no_duplicates['year_category'] = age_no_duplicates['clnt_tenure_yr'].apply(categorize_yr)\n"
     ]
    }
   ],
   "source": [
    "age_no_duplicates['year_category'] = age_no_duplicates['clnt_tenure_yr'].apply(categorize_yr)\n"
   ]
  },
  {
   "cell_type": "code",
   "execution_count": 29,
   "id": "56f7085c-26a9-45a5-b5b9-9825d3389f40",
   "metadata": {},
   "outputs": [
    {
     "name": "stderr",
     "output_type": "stream",
     "text": [
      "/var/folders/d8/knczg5hs597_plsphx_dp9kh0000gn/T/ipykernel_2387/595333039.py:12: FutureWarning: \n",
      "\n",
      "Passing `palette` without assigning `hue` is deprecated and will be removed in v0.14.0. Assign the `x` variable to `hue` and set `legend=False` for the same effect.\n",
      "\n",
      "  sns.barplot(x=year_percentage_ordered.index, y=year_percentage_ordered.values, palette='viridis')\n"
     ]
    },
    {
     "data": {
      "image/png": "[encoded data removed]",
      "text/plain": [
       "<Figure size 1000x600 with 1 Axes>"
      ]
     },
     "metadata": {},
     "output_type": "display_data"
    }
   ],
   "source": [
    "# Calculate the percentage for each year category\n",
    "year_percentage = age_no_duplicates['year_category'].value_counts(normalize=True) * 100\n",
    "\n",
    "# Define the order of year categories\n",
    "year_order = ['0-5', '5-10', '10-15', '15-20', '20-25', '≥ 25']\n",
    "\n",
    "# Reindex to ensure the correct order\n",
    "year_percentage_ordered = year_percentage.reindex(year_order).fillna(0)\n",
    "\n",
    "# Plot the bar chart\n",
    "plt.figure(figsize=(10, 6))\n",
    "sns.barplot(x=year_percentage_ordered.index, y=year_percentage_ordered.values, palette='viridis')\n",
    "\n",
    "# Add titles and labels\n",
    "plt.title('Percentage of Clients by Tenure Year Category')\n",
    "plt.xlabel('Tenure Year Category')\n",
    "plt.ylabel('Percentage (%)')\n",
    "\n",
    "# Add percentage labels on top of each bar\n",
    "for index, value in enumerate(year_percentage_ordered.values):\n",
    "    plt.text(index, value, f'{value:.1f}%', ha='center', va='bottom')\n",
    "\n",
    "# Show the plot\n",
    "plt.show()\n"
   ]
  },
  {
   "cell_type": "code",
   "execution_count": 30,
   "id": "9de38ede-207a-4036-95fe-f9d18cf8f687",
   "metadata": {},
   "outputs": [
    {
     "data": {
      "image/png": "[encoded data removed]",
      "text/plain": [
       "<Figure size 1000x600 with 1 Axes>"
      ]
     },
     "metadata": {
      "needs_background": "light"
     },
     "output_type": "display_data"
    }
   ],
   "source": [
    "import os\n",
    "import matplotlib.pyplot as plt\n",
    "\n",
    "# Calculate the percentage for each year category\n",
    "year_percentage = age_no_duplicates['year_category'].value_counts(normalize=True) * 100\n",
    "\n",
    "# Define the order of year categories\n",
    "year_order = ['0-5', '5-10', '10-15', '15-20', '20-25', '≥ 25']\n",
    "\n",
    "# Reindex to ensure the correct order\n",
    "year_percentage_ordered = year_percentage.reindex(year_order).fillna(0)\n",
    "\n",
    "# Plot the bar chart\n",
    "plt.figure(figsize=(10, 6))\n",
    "\n",
    "# Create the bar plot\n",
    "bars = plt.bar(year_percentage_ordered.index, year_percentage_ordered.values, color='#976255')\n",
    "\n",
    "# Add titles and labels\n",
    "#plt.title('Percentage of Clients by Tenure Year Category')\n",
    "plt.xlabel('Tenure Year Category')\n",
    "plt.ylabel('Percentage (%)')\n",
    "\n",
    "# Add percentage labels on top of each bar\n",
    "for index, value in enumerate(year_percentage_ordered.values):\n",
    "    plt.text(index, value, f'{value:.1f}%', ha='center', va='bottom')\n",
    "\n",
    "# Add color to the border of bars\n",
    "for bar in bars:\n",
    "    bar.set_edgecolor('gray')  # Set border color to gray\n",
    "    bar.set_linewidth(1.5)  # Set border width\n",
    "\n",
    "# Remove spines\n",
    "plt.gca().spines['top'].set_visible(False)\n",
    "plt.gca().spines['right'].set_visible(False)\n",
    "\n",
    "# Set transparent background\n",
    "plt.gcf().patch.set_facecolor('None')\n",
    "plt.gca().patch.set_alpha(0)\n",
    "\n",
    "# Define the save path\n",
    "save_path = \"/Users/joaosousa/Desktop/Ironhack/5th_week/project_2/images\"\n",
    "\n",
    "# Save the plot with transparent background\n",
    "plt.savefig(os.path.join(save_path, 'Clients by Tenure Year Category.png'), dpi=300, bbox_inches='tight', transparent=True)\n",
    "\n",
    "# Show the plot\n",
    "plt.show()\n",
    "\n"
   ]
  },
  {
   "cell_type": "code",
   "execution_count": 143,
   "id": "7484f67a-6b25-49d3-a380-3f5f7ba96e44",
   "metadata": {},
   "outputs": [],
   "source": [
    "#age_no_duplicates.to_csv('output.csv', index=False)\n",
    "\n",
    "age_no_duplicates.to_excel('clean_no_duplicates.xlsx', index=False, engine='openpyxl')\n"
   ]
  },
  {
   "cell_type": "code",
   "execution_count": 32,
   "id": "e031a3c2-5077-4ee5-acc8-ef952af0f523",
   "metadata": {},
   "outputs": [],
   "source": [
    "test_data_1 = ultimate[ultimate['Variation'] == 'Test']\n",
    "control_data= ultimate[ultimate['Variation'] == 'Control']"
   ]
  },
  {
   "cell_type": "code",
   "execution_count": 33,
   "id": "307062ff-43aa-468c-9be3-e80311458608",
   "metadata": {},
   "outputs": [
    {
     "data": {
      "text/html": [
       "<div>\n",
       "<style scoped>\n",
       "    .dataframe tbody tr th:only-of-type {\n",
       "        vertical-align: middle;\n",
       "    }\n",
       "\n",
       "    .dataframe tbody tr th {\n",
       "        vertical-align: top;\n",
       "    }\n",
       "\n",
       "    .dataframe thead th {\n",
       "        text-align: right;\n",
       "    }\n",
       "</style>\n",
       "<table border=\"1\" class=\"dataframe\">\n",
       "  <thead>\n",
       "    <tr style=\"text-align: right;\">\n",
       "      <th></th>\n",
       "      <th>client_id</th>\n",
       "      <th>clnt_tenure_yr</th>\n",
       "      <th>clnt_tenure_mnth</th>\n",
       "      <th>clnt_age</th>\n",
       "      <th>gendr</th>\n",
       "      <th>num_accts</th>\n",
       "      <th>bal</th>\n",
       "      <th>calls_6_mnth</th>\n",
       "      <th>logons_6_mnth</th>\n",
       "      <th>Variation</th>\n",
       "      <th>visitor_id</th>\n",
       "      <th>visit_id</th>\n",
       "      <th>process_step</th>\n",
       "      <th>date_time</th>\n",
       "    </tr>\n",
       "  </thead>\n",
       "  <tbody>\n",
       "    <tr>\n",
       "      <th>0</th>\n",
       "      <td>836976</td>\n",
       "      <td>6.0</td>\n",
       "      <td>73.0</td>\n",
       "      <td>60.5</td>\n",
       "      <td>U</td>\n",
       "      <td>2.0</td>\n",
       "      <td>45105.3</td>\n",
       "      <td>6.0</td>\n",
       "      <td>9.0</td>\n",
       "      <td>Test</td>\n",
       "      <td>427070339_1413275162</td>\n",
       "      <td>228976764_46825473280_96584</td>\n",
       "      <td>confirm</td>\n",
       "      <td>2017-04-02 11:51:13</td>\n",
       "    </tr>\n",
       "    <tr>\n",
       "      <th>1</th>\n",
       "      <td>836976</td>\n",
       "      <td>6.0</td>\n",
       "      <td>73.0</td>\n",
       "      <td>60.5</td>\n",
       "      <td>U</td>\n",
       "      <td>2.0</td>\n",
       "      <td>45105.3</td>\n",
       "      <td>6.0</td>\n",
       "      <td>9.0</td>\n",
       "      <td>Test</td>\n",
       "      <td>427070339_1413275162</td>\n",
       "      <td>228976764_46825473280_96584</td>\n",
       "      <td>confirm</td>\n",
       "      <td>2017-04-02 11:47:50</td>\n",
       "    </tr>\n",
       "    <tr>\n",
       "      <th>2</th>\n",
       "      <td>836976</td>\n",
       "      <td>6.0</td>\n",
       "      <td>73.0</td>\n",
       "      <td>60.5</td>\n",
       "      <td>U</td>\n",
       "      <td>2.0</td>\n",
       "      <td>45105.3</td>\n",
       "      <td>6.0</td>\n",
       "      <td>9.0</td>\n",
       "      <td>Test</td>\n",
       "      <td>427070339_1413275162</td>\n",
       "      <td>228976764_46825473280_96584</td>\n",
       "      <td>confirm</td>\n",
       "      <td>2017-04-02 11:46:45</td>\n",
       "    </tr>\n",
       "    <tr>\n",
       "      <th>3</th>\n",
       "      <td>836976</td>\n",
       "      <td>6.0</td>\n",
       "      <td>73.0</td>\n",
       "      <td>60.5</td>\n",
       "      <td>U</td>\n",
       "      <td>2.0</td>\n",
       "      <td>45105.3</td>\n",
       "      <td>6.0</td>\n",
       "      <td>9.0</td>\n",
       "      <td>Test</td>\n",
       "      <td>427070339_1413275162</td>\n",
       "      <td>228976764_46825473280_96584</td>\n",
       "      <td>step_3</td>\n",
       "      <td>2017-04-02 11:23:08</td>\n",
       "    </tr>\n",
       "    <tr>\n",
       "      <th>4</th>\n",
       "      <td>836976</td>\n",
       "      <td>6.0</td>\n",
       "      <td>73.0</td>\n",
       "      <td>60.5</td>\n",
       "      <td>U</td>\n",
       "      <td>2.0</td>\n",
       "      <td>45105.3</td>\n",
       "      <td>6.0</td>\n",
       "      <td>9.0</td>\n",
       "      <td>Test</td>\n",
       "      <td>427070339_1413275162</td>\n",
       "      <td>228976764_46825473280_96584</td>\n",
       "      <td>step_2</td>\n",
       "      <td>2017-04-02 11:22:24</td>\n",
       "    </tr>\n",
       "  </tbody>\n",
       "</table>\n",
       "</div>"
      ],
      "text/plain": [
       "   client_id  clnt_tenure_yr  clnt_tenure_mnth  clnt_age gendr  num_accts  \\\n",
       "0     836976             6.0              73.0      60.5     U        2.0   \n",
       "1     836976             6.0              73.0      60.5     U        2.0   \n",
       "2     836976             6.0              73.0      60.5     U        2.0   \n",
       "3     836976             6.0              73.0      60.5     U        2.0   \n",
       "4     836976             6.0              73.0      60.5     U        2.0   \n",
       "\n",
       "       bal  calls_6_mnth  logons_6_mnth Variation            visitor_id  \\\n",
       "0  45105.3           6.0            9.0      Test  427070339_1413275162   \n",
       "1  45105.3           6.0            9.0      Test  427070339_1413275162   \n",
       "2  45105.3           6.0            9.0      Test  427070339_1413275162   \n",
       "3  45105.3           6.0            9.0      Test  427070339_1413275162   \n",
       "4  45105.3           6.0            9.0      Test  427070339_1413275162   \n",
       "\n",
       "                      visit_id process_step            date_time  \n",
       "0  228976764_46825473280_96584      confirm  2017-04-02 11:51:13  \n",
       "1  228976764_46825473280_96584      confirm  2017-04-02 11:47:50  \n",
       "2  228976764_46825473280_96584      confirm  2017-04-02 11:46:45  \n",
       "3  228976764_46825473280_96584       step_3  2017-04-02 11:23:08  \n",
       "4  228976764_46825473280_96584       step_2  2017-04-02 11:22:24  "
      ]
     },
     "execution_count": 33,
     "metadata": {},
     "output_type": "execute_result"
    }
   ],
   "source": [
    "test_data_1.head()"
   ]
  },
  {
   "cell_type": "code",
   "execution_count": 34,
   "id": "e8ec5c78-418c-429d-87c6-2c721c81fd7f",
   "metadata": {},
   "outputs": [],
   "source": [
    "#creating a df for test_data_1  to try differents approaches\n",
    "\n",
    "tested = test_data_1.copy()\n"
   ]
  },
  {
   "cell_type": "code",
   "execution_count": 35,
   "id": "3acca1fd-77d8-4099-88e8-edcf23c21fcc",
   "metadata": {},
   "outputs": [],
   "source": [
    "# create a new column for process_step with numbers instead of words\n",
    "name_to_value = {\n",
    "    \"start\": \"1\",\n",
    "    \"step_1\": \"2\",\n",
    "    \"step_2\": \"3\",\n",
    "    \"step_3\": \"4\",\n",
    "    \"confirm\": \"5\"\n",
    "\n",
    "}\n",
    "tested['process_step_n'] = tested['process_step'].map(name_to_value)\n",
    "\n",
    "# transforming date_time in datetime64[ns] types\n",
    "tested['date_time'] = pd.to_datetime(tested['date_time'])\n",
    "\n",
    "# sorting the data set by order descending of this columns \n",
    "tested.sort_values(by=[\"client_id\", \"date_time\", \"process_step_n\"], ascending=[False, False, False], inplace=True)\n",
    "\n"
   ]
  },
  {
   "cell_type": "code",
   "execution_count": 132,
   "id": "15df6dba-c0e9-4bed-9d60-c4977280e29a",
   "metadata": {},
   "outputs": [
    {
     "data": {
      "text/plain": [
       "client_id                    int64\n",
       "clnt_tenure_yr             float64\n",
       "clnt_tenure_mnth           float64\n",
       "clnt_age                   float64\n",
       "gendr                       object\n",
       "num_accts                  float64\n",
       "bal                        float64\n",
       "calls_6_mnth               float64\n",
       "logons_6_mnth              float64\n",
       "Variation                   object\n",
       "visitor_id                  object\n",
       "visit_id                    object\n",
       "process_step                object\n",
       "date_time           datetime64[ns]\n",
       "process_step_n              object\n",
       "dtype: object"
      ]
     },
     "execution_count": 132,
     "metadata": {},
     "output_type": "execute_result"
    }
   ],
   "source": [
    "tested.dtypes\n"
   ]
  },
  {
   "cell_type": "code",
   "execution_count": 133,
   "id": "3d097a90-7704-4e1f-a80c-4ff92e196f60",
   "metadata": {},
   "outputs": [],
   "source": [
    "tested_excel = tested.groupby('client_id').first().reset_index()"
   ]
  },
  {
   "cell_type": "code",
   "execution_count": 142,
   "id": "7cfb2287-2717-42b1-b8ec-846387ae165e",
   "metadata": {},
   "outputs": [],
   "source": [
    "tested_excel.to_excel('test.xlsx', index=False, engine='openpyxl')\n"
   ]
  },
  {
   "cell_type": "code",
   "execution_count": 153,
   "id": "edea1664-cd3a-4b6e-903e-3d6b24a72c19",
   "metadata": {},
   "outputs": [
    {
     "data": {
      "text/plain": [
       "process_step\n",
       "confirm    18165\n",
       "start       5577\n",
       "step_1      1652\n",
       "step_3      1002\n",
       "step_2       572\n",
       "Name: count, dtype: int64"
      ]
     },
     "execution_count": 153,
     "metadata": {},
     "output_type": "execute_result"
    }
   ],
   "source": [
    "tested_excel[\"process_step\"].value_counts()"
   ]
  },
  {
   "cell_type": "code",
   "execution_count": 37,
   "id": "52d3cbdc-4c20-4e92-bb83-a3f6667580b9",
   "metadata": {},
   "outputs": [],
   "source": [
    "#filter by process step \"start\" \n",
    "\n",
    "filtered_data_start = tested[tested['process_step_n'] == \"1\"]\n",
    "\n",
    "#creating new df for all the values of \"start\"\n",
    "\n",
    "start_test_data = filtered_data_start.groupby('client_id').first()[[\"visit_id\", 'date_time']]\n",
    "\n",
    "# Reset index to make 'client_id' a column again\n",
    "start_test_data = start_test_data.reset_index()\n"
   ]
  },
  {
   "cell_type": "code",
   "execution_count": 160,
   "id": "2bc1336c-1756-4e84-98d6-4b7f58971b09",
   "metadata": {},
   "outputs": [
    {
     "data": {
      "text/plain": [
       "0"
      ]
     },
     "execution_count": 160,
     "metadata": {},
     "output_type": "execute_result"
    }
   ],
   "source": [
    "start_test_data.duplicated().sum()"
   ]
  },
  {
   "cell_type": "code",
   "execution_count": 38,
   "id": "0443bef5-7bd5-484a-9dcc-68eec1feedcc",
   "metadata": {},
   "outputs": [],
   "source": [
    "#filter by process step \"step1\" \n",
    "\n",
    "filtered_data_step1 = tested[tested['process_step_n'] == \"2\"]\n",
    "\n",
    "#creating new df for all the values of \"step1\"\n",
    "\n",
    "step1_test_data = filtered_data_step1.groupby('client_id').first()[[\"visit_id\", 'date_time']]\n",
    "\n",
    "# Reset index to make 'client_id' a column again\n",
    "step1_test_data = step1_test_data.reset_index()\n"
   ]
  },
  {
   "cell_type": "code",
   "execution_count": 149,
   "id": "43b60d81-74a2-4923-b59f-336fde397550",
   "metadata": {},
   "outputs": [
    {
     "data": {
      "text/plain": [
       "24267"
      ]
     },
     "execution_count": 149,
     "metadata": {},
     "output_type": "execute_result"
    }
   ],
   "source": [
    "step1_test_data[\"client_id\"].count()"
   ]
  },
  {
   "cell_type": "code",
   "execution_count": 39,
   "id": "1f12b666-a34c-49b3-ba4b-5c18891d9359",
   "metadata": {},
   "outputs": [
    {
     "data": {
      "text/html": [
       "<div>\n",
       "<style scoped>\n",
       "    .dataframe tbody tr th:only-of-type {\n",
       "        vertical-align: middle;\n",
       "    }\n",
       "\n",
       "    .dataframe tbody tr th {\n",
       "        vertical-align: top;\n",
       "    }\n",
       "\n",
       "    .dataframe thead th {\n",
       "        text-align: right;\n",
       "    }\n",
       "</style>\n",
       "<table border=\"1\" class=\"dataframe\">\n",
       "  <thead>\n",
       "    <tr style=\"text-align: right;\">\n",
       "      <th></th>\n",
       "      <th>client_id</th>\n",
       "      <th>visit_id</th>\n",
       "      <th>date_time</th>\n",
       "    </tr>\n",
       "  </thead>\n",
       "  <tbody>\n",
       "    <tr>\n",
       "      <th>0</th>\n",
       "      <td>555</td>\n",
       "      <td>637149525_38041617439_716659</td>\n",
       "      <td>2017-04-15 12:58:03</td>\n",
       "    </tr>\n",
       "    <tr>\n",
       "      <th>1</th>\n",
       "      <td>647</td>\n",
       "      <td>40369564_40101682850_311847</td>\n",
       "      <td>2017-04-12 15:41:35</td>\n",
       "    </tr>\n",
       "    <tr>\n",
       "      <th>2</th>\n",
       "      <td>1336</td>\n",
       "      <td>583743392_96265099036_939815</td>\n",
       "      <td>2017-05-08 06:05:37</td>\n",
       "    </tr>\n",
       "    <tr>\n",
       "      <th>3</th>\n",
       "      <td>1346</td>\n",
       "      <td>27144337_83739845380_214282</td>\n",
       "      <td>2017-06-06 18:23:54</td>\n",
       "    </tr>\n",
       "    <tr>\n",
       "      <th>4</th>\n",
       "      <td>1516</td>\n",
       "      <td>255400977_38039535960_779641</td>\n",
       "      <td>2017-04-06 22:15:20</td>\n",
       "    </tr>\n",
       "    <tr>\n",
       "      <th>...</th>\n",
       "      <td>...</td>\n",
       "      <td>...</td>\n",
       "      <td>...</td>\n",
       "    </tr>\n",
       "    <tr>\n",
       "      <th>24262</th>\n",
       "      <td>9999150</td>\n",
       "      <td>982803842_91891255980_123078</td>\n",
       "      <td>2017-05-29 16:55:18</td>\n",
       "    </tr>\n",
       "    <tr>\n",
       "      <th>24263</th>\n",
       "      <td>9999400</td>\n",
       "      <td>288904166_90826265353_276104</td>\n",
       "      <td>2017-04-20 05:21:50</td>\n",
       "    </tr>\n",
       "    <tr>\n",
       "      <th>24264</th>\n",
       "      <td>9999626</td>\n",
       "      <td>182723364_27031318473_880901</td>\n",
       "      <td>2017-05-14 09:07:59</td>\n",
       "    </tr>\n",
       "    <tr>\n",
       "      <th>24265</th>\n",
       "      <td>9999729</td>\n",
       "      <td>870243567_56915814033_814203</td>\n",
       "      <td>2017-05-08 16:08:30</td>\n",
       "    </tr>\n",
       "    <tr>\n",
       "      <th>24266</th>\n",
       "      <td>9999832</td>\n",
       "      <td>472154369_16714624241_585315</td>\n",
       "      <td>2017-05-16 16:46:11</td>\n",
       "    </tr>\n",
       "  </tbody>\n",
       "</table>\n",
       "<p>24267 rows × 3 columns</p>\n",
       "</div>"
      ],
      "text/plain": [
       "       client_id                      visit_id           date_time\n",
       "0            555  637149525_38041617439_716659 2017-04-15 12:58:03\n",
       "1            647   40369564_40101682850_311847 2017-04-12 15:41:35\n",
       "2           1336  583743392_96265099036_939815 2017-05-08 06:05:37\n",
       "3           1346   27144337_83739845380_214282 2017-06-06 18:23:54\n",
       "4           1516  255400977_38039535960_779641 2017-04-06 22:15:20\n",
       "...          ...                           ...                 ...\n",
       "24262    9999150  982803842_91891255980_123078 2017-05-29 16:55:18\n",
       "24263    9999400  288904166_90826265353_276104 2017-04-20 05:21:50\n",
       "24264    9999626  182723364_27031318473_880901 2017-05-14 09:07:59\n",
       "24265    9999729  870243567_56915814033_814203 2017-05-08 16:08:30\n",
       "24266    9999832  472154369_16714624241_585315 2017-05-16 16:46:11\n",
       "\n",
       "[24267 rows x 3 columns]"
      ]
     },
     "execution_count": 39,
     "metadata": {},
     "output_type": "execute_result"
    }
   ],
   "source": [
    "step1_test_data"
   ]
  },
  {
   "cell_type": "code",
   "execution_count": 40,
   "id": "c800ec09-6b8d-43fc-911c-74d273011f78",
   "metadata": {},
   "outputs": [],
   "source": [
    "#function to calculate the time between steps:\n",
    "\n",
    "def subtract_date_column(df1, df2):\n",
    "     # Merge DataFrames on 'client_id' with custom suffixes\n",
    "    merged_df = pd.merge(df1, df2, on='client_id', suffixes=('_step_x', '_step_y'))\n",
    "    \n",
    "    # Subtract 'date_time' column of df2 from 'date_time' column of df1\n",
    "    result_df = pd.DataFrame()\n",
    "    result_df['time_step_z'] = merged_df['date_time_step_x'] - merged_df['date_time_step_y']\n",
    "    \n",
    "    return result_df"
   ]
  },
  {
   "cell_type": "code",
   "execution_count": 41,
   "id": "3b8b9a17-47ee-49e9-9388-d03a0b511be7",
   "metadata": {},
   "outputs": [],
   "source": [
    "step_1_time_1 = subtract_date_column(step1_test_data, start_test_data)"
   ]
  },
  {
   "cell_type": "code",
   "execution_count": 42,
   "id": "9b8d91ab-0c80-4944-b567-8463f88f8e17",
   "metadata": {},
   "outputs": [],
   "source": [
    "step_1_time_1 ['days'] = step_1_time_1 ['time_step_z'].dt.days\n",
    "# Convert hours and minutes to seconds and add them to the total seconds\n",
    "step_1_time_1 ['seconds'] = step_1_time_1 ['time_step_z'].dt.components['hours'] * 3600 + \\\n",
    "                        step_1_time_1 ['time_step_z'].dt.components['minutes'] * 60 + \\\n",
    "                        step_1_time_1 ['time_step_z'].dt.components['seconds']"
   ]
  },
  {
   "cell_type": "code",
   "execution_count": 187,
   "id": "eb77acff-2e6c-4830-8c5c-5d7d1b0e2edd",
   "metadata": {},
   "outputs": [],
   "source": [
    "#filtering for those took less than one day\n",
    "filter_step_1 = step_1_time_1[(step_1_time_1['days'] == 0)]\n",
    "filter_step_1 = filter_step_1[(filter_step_1['seconds'] < 1800)]\n",
    "\n",
    "len(filter_step_1)\n",
    "#mean of time takes from going to start to step1\n",
    "step_1_mean = filter_step_1[\"seconds\"].mean()\n",
    "\n",
    "#mean of time takes from going to start to step1\n",
    "step_1_std = filter_step_1[\"seconds\"].std()"
   ]
  },
  {
   "cell_type": "code",
   "execution_count": 195,
   "id": "474218e4-f52b-428f-bb21-db0c6ad7a5d8",
   "metadata": {},
   "outputs": [
    {
     "data": {
      "text/plain": [
       "24201"
      ]
     },
     "execution_count": 195,
     "metadata": {},
     "output_type": "execute_result"
    }
   ],
   "source": [
    "step_1_time_1[\"days\"].count()"
   ]
  },
  {
   "cell_type": "code",
   "execution_count": 189,
   "id": "c80854cc-a379-4c1a-82b6-81d7ecc90459",
   "metadata": {},
   "outputs": [],
   "source": [
    "filter_step_1_error = step_1_time_1[(step_1_time_1['days'] < 0)]\n"
   ]
  },
  {
   "cell_type": "code",
   "execution_count": 198,
   "id": "816be88d-8ca5-4985-a02d-5a649d45ffc7",
   "metadata": {},
   "outputs": [
    {
     "data": {
      "text/plain": [
       "3325"
      ]
     },
     "execution_count": 198,
     "metadata": {},
     "output_type": "execute_result"
    }
   ],
   "source": [
    "filter_step_1_error[\"days\"].count()"
   ]
  },
  {
   "cell_type": "code",
   "execution_count": 282,
   "id": "c7fd93ef-a366-42f3-a4ea-712228ec0813",
   "metadata": {},
   "outputs": [],
   "source": [
    "error_step_1_test = round((filter_step_1_error[\"days\"].count() / step_1_time_1[\"days\"].count())*100,1)"
   ]
  },
  {
   "cell_type": "code",
   "execution_count": 315,
   "id": "32398623-0a4b-4ef9-a2a9-4015efe09bbc",
   "metadata": {},
   "outputs": [],
   "source": [
    "porpotion_error_step_1_test = filter_step_1_error[\"days\"].count() / step_1_time_1[\"days\"].count()"
   ]
  },
  {
   "cell_type": "code",
   "execution_count": 283,
   "id": "1dbbe149-03be-4181-9768-deb4cb44fe4c",
   "metadata": {},
   "outputs": [
    {
     "data": {
      "text/plain": [
       "13.7"
      ]
     },
     "execution_count": 283,
     "metadata": {},
     "output_type": "execute_result"
    }
   ],
   "source": [
    "error_step_1_test"
   ]
  },
  {
   "cell_type": "code",
   "execution_count": 45,
   "id": "5cf87483-6cd3-46b7-86e9-9eefc0093b6b",
   "metadata": {},
   "outputs": [],
   "source": [
    "#filter by process step \"step2\" \n",
    "\n",
    "filtered_data_step2 = tested[tested['process_step_n'] == \"3\"]\n",
    "\n",
    "#creating new df for all the values of \"step2\"\n",
    "\n",
    "step2_test_data = filtered_data_step2.groupby('client_id').first()[[\"visit_id\", 'date_time']]\n",
    "\n",
    "# Reset index to make 'client_id' a column again\n",
    "step2_test_data = step2_test_data.reset_index()"
   ]
  },
  {
   "cell_type": "code",
   "execution_count": 46,
   "id": "17ae221c-fe85-40c0-9d07-ac2f66f5146c",
   "metadata": {},
   "outputs": [],
   "source": [
    "step_2_time = subtract_date_column(step2_test_data, step1_test_data)"
   ]
  },
  {
   "cell_type": "code",
   "execution_count": 47,
   "id": "6a2d07b2-3088-4948-879d-aef0ddbb8c62",
   "metadata": {},
   "outputs": [
    {
     "data": {
      "text/html": [
       "<div>\n",
       "<style scoped>\n",
       "    .dataframe tbody tr th:only-of-type {\n",
       "        vertical-align: middle;\n",
       "    }\n",
       "\n",
       "    .dataframe tbody tr th {\n",
       "        vertical-align: top;\n",
       "    }\n",
       "\n",
       "    .dataframe thead th {\n",
       "        text-align: right;\n",
       "    }\n",
       "</style>\n",
       "<table border=\"1\" class=\"dataframe\">\n",
       "  <thead>\n",
       "    <tr style=\"text-align: right;\">\n",
       "      <th></th>\n",
       "      <th>time_step_z</th>\n",
       "    </tr>\n",
       "  </thead>\n",
       "  <tbody>\n",
       "    <tr>\n",
       "      <th>0</th>\n",
       "      <td>0 days 00:00:32</td>\n",
       "    </tr>\n",
       "    <tr>\n",
       "      <th>1</th>\n",
       "      <td>0 days 00:00:18</td>\n",
       "    </tr>\n",
       "    <tr>\n",
       "      <th>2</th>\n",
       "      <td>0 days 00:00:26</td>\n",
       "    </tr>\n",
       "    <tr>\n",
       "      <th>3</th>\n",
       "      <td>0 days 00:00:07</td>\n",
       "    </tr>\n",
       "    <tr>\n",
       "      <th>4</th>\n",
       "      <td>0 days 00:00:35</td>\n",
       "    </tr>\n",
       "    <tr>\n",
       "      <th>...</th>\n",
       "      <td>...</td>\n",
       "    </tr>\n",
       "    <tr>\n",
       "      <th>22238</th>\n",
       "      <td>0 days 00:00:26</td>\n",
       "    </tr>\n",
       "    <tr>\n",
       "      <th>22239</th>\n",
       "      <td>0 days 00:00:16</td>\n",
       "    </tr>\n",
       "    <tr>\n",
       "      <th>22240</th>\n",
       "      <td>0 days 00:00:26</td>\n",
       "    </tr>\n",
       "    <tr>\n",
       "      <th>22241</th>\n",
       "      <td>0 days 00:00:27</td>\n",
       "    </tr>\n",
       "    <tr>\n",
       "      <th>22242</th>\n",
       "      <td>0 days 00:00:10</td>\n",
       "    </tr>\n",
       "  </tbody>\n",
       "</table>\n",
       "<p>22243 rows × 1 columns</p>\n",
       "</div>"
      ],
      "text/plain": [
       "          time_step_z\n",
       "0     0 days 00:00:32\n",
       "1     0 days 00:00:18\n",
       "2     0 days 00:00:26\n",
       "3     0 days 00:00:07\n",
       "4     0 days 00:00:35\n",
       "...               ...\n",
       "22238 0 days 00:00:26\n",
       "22239 0 days 00:00:16\n",
       "22240 0 days 00:00:26\n",
       "22241 0 days 00:00:27\n",
       "22242 0 days 00:00:10\n",
       "\n",
       "[22243 rows x 1 columns]"
      ]
     },
     "execution_count": 47,
     "metadata": {},
     "output_type": "execute_result"
    }
   ],
   "source": [
    "step_2_time"
   ]
  },
  {
   "cell_type": "code",
   "execution_count": 48,
   "id": "e3e7895a-f2bf-4396-a9f9-1c0662a91530",
   "metadata": {},
   "outputs": [],
   "source": [
    "step_2_time ['days'] = step_2_time ['time_step_z'].dt.days\n",
    "# Convert hours and minutes to seconds and add them to the total seconds\n",
    "step_2_time ['seconds'] = step_2_time ['time_step_z'].dt.components['hours'] * 3600 + \\\n",
    "                        step_2_time ['time_step_z'].dt.components['minutes'] * 60 + \\\n",
    "                        step_2_time ['time_step_z'].dt.components['seconds']"
   ]
  },
  {
   "cell_type": "code",
   "execution_count": 49,
   "id": "0c0fb631-6317-43c2-a5cd-412da3b9bf15",
   "metadata": {},
   "outputs": [],
   "source": [
    "#filtering for those took less than one day\n",
    "filter_step_2 = step_2_time[(step_2_time['days'] == 0)]\n",
    "filter_step_2 = filter_step_2[(filter_step_2['seconds'] < 1800)]\n",
    "\n",
    "#mean of time takes from going to step1 to step2\n",
    "step_2_mean = filter_step_2[\"seconds\"].mean()\n",
    "\n",
    "#mean of time takes from going to step1 to step2\n",
    "step_2_std =filter_step_2[\"seconds\"].std()"
   ]
  },
  {
   "cell_type": "code",
   "execution_count": 207,
   "id": "8e58bef3-ca12-4839-adb8-79305eb6b7ff",
   "metadata": {},
   "outputs": [],
   "source": [
    "filter_step_2_error = step_2_time[(step_2_time['days'] < 0)]\n"
   ]
  },
  {
   "cell_type": "code",
   "execution_count": 294,
   "id": "077e0433-2314-4f8b-a537-2366b912cf04",
   "metadata": {},
   "outputs": [],
   "source": [
    "error_step_2_test = round((filter_step_2_error[\"days\"].count() / step_2_time[\"days\"].count())*100,2)"
   ]
  },
  {
   "cell_type": "code",
   "execution_count": 317,
   "id": "52cceda5-7278-4339-a212-e7f3f74dff7e",
   "metadata": {},
   "outputs": [],
   "source": [
    "porpotion_error_step_2_test = filter_step_2_error[\"days\"].count() / step_2_time[\"days\"].count()\n"
   ]
  },
  {
   "cell_type": "code",
   "execution_count": 295,
   "id": "0d8a7f08-3c3a-4c09-9c12-72d28bff4c33",
   "metadata": {},
   "outputs": [
    {
     "data": {
      "text/plain": [
       "5.92"
      ]
     },
     "execution_count": 295,
     "metadata": {},
     "output_type": "execute_result"
    }
   ],
   "source": [
    "error_step_2_test"
   ]
  },
  {
   "cell_type": "code",
   "execution_count": 50,
   "id": "fb230548-f867-45a0-971d-55baeadb541d",
   "metadata": {},
   "outputs": [],
   "source": [
    "#filter by process step \"step3\" \n",
    "\n",
    "filtered_data_step3 = tested[tested['process_step_n'] == \"4\"]\n",
    "\n",
    "#creating new df for all the values of \"step3\"\n",
    "\n",
    "step3_test_data = filtered_data_step3.groupby('client_id').first()[[\"visit_id\", 'date_time']]\n",
    "\n",
    "# Reset index to make 'client_id' a column again\n",
    "step3_test_data = step3_test_data.reset_index()"
   ]
  },
  {
   "cell_type": "code",
   "execution_count": 51,
   "id": "500c38d2-aab4-4e5a-8239-277944e45fda",
   "metadata": {},
   "outputs": [
    {
     "data": {
      "text/html": [
       "<div>\n",
       "<style scoped>\n",
       "    .dataframe tbody tr th:only-of-type {\n",
       "        vertical-align: middle;\n",
       "    }\n",
       "\n",
       "    .dataframe tbody tr th {\n",
       "        vertical-align: top;\n",
       "    }\n",
       "\n",
       "    .dataframe thead th {\n",
       "        text-align: right;\n",
       "    }\n",
       "</style>\n",
       "<table border=\"1\" class=\"dataframe\">\n",
       "  <thead>\n",
       "    <tr style=\"text-align: right;\">\n",
       "      <th></th>\n",
       "      <th>client_id</th>\n",
       "      <th>visit_id</th>\n",
       "      <th>date_time</th>\n",
       "    </tr>\n",
       "  </thead>\n",
       "  <tbody>\n",
       "    <tr>\n",
       "      <th>0</th>\n",
       "      <td>555</td>\n",
       "      <td>637149525_38041617439_716659</td>\n",
       "      <td>2017-04-15 13:00:14</td>\n",
       "    </tr>\n",
       "    <tr>\n",
       "      <th>1</th>\n",
       "      <td>647</td>\n",
       "      <td>40369564_40101682850_311847</td>\n",
       "      <td>2017-04-12 15:45:02</td>\n",
       "    </tr>\n",
       "    <tr>\n",
       "      <th>2</th>\n",
       "      <td>1336</td>\n",
       "      <td>583743392_96265099036_939815</td>\n",
       "      <td>2017-05-08 06:06:54</td>\n",
       "    </tr>\n",
       "    <tr>\n",
       "      <th>3</th>\n",
       "      <td>1346</td>\n",
       "      <td>27144337_83739845380_214282</td>\n",
       "      <td>2017-06-06 18:28:43</td>\n",
       "    </tr>\n",
       "    <tr>\n",
       "      <th>4</th>\n",
       "      <td>1516</td>\n",
       "      <td>255400977_38039535960_779641</td>\n",
       "      <td>2017-04-06 22:26:02</td>\n",
       "    </tr>\n",
       "    <tr>\n",
       "      <th>...</th>\n",
       "      <td>...</td>\n",
       "      <td>...</td>\n",
       "      <td>...</td>\n",
       "    </tr>\n",
       "    <tr>\n",
       "      <th>20876</th>\n",
       "      <td>9998851</td>\n",
       "      <td>310744937_17135608286_213964</td>\n",
       "      <td>2017-04-05 12:08:12</td>\n",
       "    </tr>\n",
       "    <tr>\n",
       "      <th>20877</th>\n",
       "      <td>9998964</td>\n",
       "      <td>699981922_52880598802_858635</td>\n",
       "      <td>2017-04-05 23:48:48</td>\n",
       "    </tr>\n",
       "    <tr>\n",
       "      <th>20878</th>\n",
       "      <td>9999009</td>\n",
       "      <td>149965839_24823291142_245569</td>\n",
       "      <td>2017-03-31 07:18:38</td>\n",
       "    </tr>\n",
       "    <tr>\n",
       "      <th>20879</th>\n",
       "      <td>9999400</td>\n",
       "      <td>288904166_90826265353_276104</td>\n",
       "      <td>2017-04-20 05:23:03</td>\n",
       "    </tr>\n",
       "    <tr>\n",
       "      <th>20880</th>\n",
       "      <td>9999729</td>\n",
       "      <td>870243567_56915814033_814203</td>\n",
       "      <td>2017-05-08 16:09:19</td>\n",
       "    </tr>\n",
       "  </tbody>\n",
       "</table>\n",
       "<p>20881 rows × 3 columns</p>\n",
       "</div>"
      ],
      "text/plain": [
       "       client_id                      visit_id           date_time\n",
       "0            555  637149525_38041617439_716659 2017-04-15 13:00:14\n",
       "1            647   40369564_40101682850_311847 2017-04-12 15:45:02\n",
       "2           1336  583743392_96265099036_939815 2017-05-08 06:06:54\n",
       "3           1346   27144337_83739845380_214282 2017-06-06 18:28:43\n",
       "4           1516  255400977_38039535960_779641 2017-04-06 22:26:02\n",
       "...          ...                           ...                 ...\n",
       "20876    9998851  310744937_17135608286_213964 2017-04-05 12:08:12\n",
       "20877    9998964  699981922_52880598802_858635 2017-04-05 23:48:48\n",
       "20878    9999009  149965839_24823291142_245569 2017-03-31 07:18:38\n",
       "20879    9999400  288904166_90826265353_276104 2017-04-20 05:23:03\n",
       "20880    9999729  870243567_56915814033_814203 2017-05-08 16:09:19\n",
       "\n",
       "[20881 rows x 3 columns]"
      ]
     },
     "execution_count": 51,
     "metadata": {},
     "output_type": "execute_result"
    }
   ],
   "source": [
    "step3_test_data"
   ]
  },
  {
   "cell_type": "code",
   "execution_count": 52,
   "id": "e585765a-bb0e-4c9c-a071-51b5fee59609",
   "metadata": {},
   "outputs": [],
   "source": [
    "step_3_time = subtract_date_column(step3_test_data, step2_test_data)"
   ]
  },
  {
   "cell_type": "code",
   "execution_count": 53,
   "id": "37417838-c9b1-469c-aecd-2a46a1deb1c8",
   "metadata": {},
   "outputs": [
    {
     "data": {
      "text/html": [
       "<div>\n",
       "<style scoped>\n",
       "    .dataframe tbody tr th:only-of-type {\n",
       "        vertical-align: middle;\n",
       "    }\n",
       "\n",
       "    .dataframe tbody tr th {\n",
       "        vertical-align: top;\n",
       "    }\n",
       "\n",
       "    .dataframe thead th {\n",
       "        text-align: right;\n",
       "    }\n",
       "</style>\n",
       "<table border=\"1\" class=\"dataframe\">\n",
       "  <thead>\n",
       "    <tr style=\"text-align: right;\">\n",
       "      <th></th>\n",
       "      <th>time_step_z</th>\n",
       "    </tr>\n",
       "  </thead>\n",
       "  <tbody>\n",
       "    <tr>\n",
       "      <th>0</th>\n",
       "      <td>0 days 00:01:39</td>\n",
       "    </tr>\n",
       "    <tr>\n",
       "      <th>1</th>\n",
       "      <td>0 days 00:03:09</td>\n",
       "    </tr>\n",
       "    <tr>\n",
       "      <th>2</th>\n",
       "      <td>0 days 00:00:51</td>\n",
       "    </tr>\n",
       "    <tr>\n",
       "      <th>3</th>\n",
       "      <td>0 days 00:04:42</td>\n",
       "    </tr>\n",
       "    <tr>\n",
       "      <th>4</th>\n",
       "      <td>0 days 00:10:07</td>\n",
       "    </tr>\n",
       "    <tr>\n",
       "      <th>...</th>\n",
       "      <td>...</td>\n",
       "    </tr>\n",
       "    <tr>\n",
       "      <th>20829</th>\n",
       "      <td>0 days 00:01:41</td>\n",
       "    </tr>\n",
       "    <tr>\n",
       "      <th>20830</th>\n",
       "      <td>0 days 00:01:47</td>\n",
       "    </tr>\n",
       "    <tr>\n",
       "      <th>20831</th>\n",
       "      <td>0 days 00:00:19</td>\n",
       "    </tr>\n",
       "    <tr>\n",
       "      <th>20832</th>\n",
       "      <td>0 days 00:00:46</td>\n",
       "    </tr>\n",
       "    <tr>\n",
       "      <th>20833</th>\n",
       "      <td>0 days 00:00:39</td>\n",
       "    </tr>\n",
       "  </tbody>\n",
       "</table>\n",
       "<p>20834 rows × 1 columns</p>\n",
       "</div>"
      ],
      "text/plain": [
       "          time_step_z\n",
       "0     0 days 00:01:39\n",
       "1     0 days 00:03:09\n",
       "2     0 days 00:00:51\n",
       "3     0 days 00:04:42\n",
       "4     0 days 00:10:07\n",
       "...               ...\n",
       "20829 0 days 00:01:41\n",
       "20830 0 days 00:01:47\n",
       "20831 0 days 00:00:19\n",
       "20832 0 days 00:00:46\n",
       "20833 0 days 00:00:39\n",
       "\n",
       "[20834 rows x 1 columns]"
      ]
     },
     "execution_count": 53,
     "metadata": {},
     "output_type": "execute_result"
    }
   ],
   "source": [
    "step_3_time"
   ]
  },
  {
   "cell_type": "code",
   "execution_count": 54,
   "id": "af216abc-c67b-4484-b016-7600d64a91f0",
   "metadata": {},
   "outputs": [],
   "source": [
    "step_3_time ['days'] = step_3_time ['time_step_z'].dt.days\n",
    "# Convert hours and minutes to seconds and add them to the total seconds\n",
    "step_3_time ['seconds'] = step_3_time ['time_step_z'].dt.components['hours'] * 3600 + \\\n",
    "                        step_3_time ['time_step_z'].dt.components['minutes'] * 60 + \\\n",
    "                        step_3_time ['time_step_z'].dt.components['seconds']"
   ]
  },
  {
   "cell_type": "code",
   "execution_count": 55,
   "id": "02d16582-096d-496a-aee1-a4b6b0d462a1",
   "metadata": {},
   "outputs": [],
   "source": [
    "#filtering for those took less than one day\n",
    "filter_step_3 = step_3_time[(step_3_time['days'] == 0)]\n",
    "filter_step_3 = filter_step_3[(filter_step_3['seconds'] < 1800)]\n",
    "\n",
    "#mean of time takes from going to step2 to step3\n",
    "step_3_mean = filter_step_3[\"seconds\"].mean()\n",
    "\n",
    "#mean of time takes from going to step2 to step3\n",
    "step_3_std = filter_step_3[\"seconds\"].std()"
   ]
  },
  {
   "cell_type": "code",
   "execution_count": 212,
   "id": "ff80ce0a-a4c5-4332-8329-9559622c4df3",
   "metadata": {},
   "outputs": [],
   "source": [
    "filter_step_3_error = filter_step_3[(filter_step_3['days'] < 0)]\n"
   ]
  },
  {
   "cell_type": "code",
   "execution_count": 293,
   "id": "1538911d-e2d8-4590-adde-e50190f69e5a",
   "metadata": {},
   "outputs": [],
   "source": [
    "error_step_3_test = round((filter_step_3_error[\"days\"].count() / step_3_time[\"days\"].count())*100,2)"
   ]
  },
  {
   "cell_type": "code",
   "execution_count": 288,
   "id": "ecb8d307-d4df-49c5-ab69-5064897b1335",
   "metadata": {},
   "outputs": [
    {
     "data": {
      "text/plain": [
       "0.0"
      ]
     },
     "execution_count": 288,
     "metadata": {},
     "output_type": "execute_result"
    }
   ],
   "source": [
    "error_step_3_test"
   ]
  },
  {
   "cell_type": "code",
   "execution_count": 318,
   "id": "260cb168-db30-4019-95a4-96efd40aaf8d",
   "metadata": {},
   "outputs": [],
   "source": [
    "porpotion_error_step_3_test=filter_step_3_error[\"days\"].count() / step_3_time[\"days\"].count()"
   ]
  },
  {
   "cell_type": "code",
   "execution_count": 56,
   "id": "ee81f76e-0354-4956-ac44-d3181be3dc0b",
   "metadata": {},
   "outputs": [],
   "source": [
    "#filter by process step \"confirm\" \n",
    "\n",
    "filtered_data_confirm = tested[tested['process_step_n'] == \"5\"]\n",
    "\n",
    "#creating new df for all the values of \"confirm\"\n",
    "\n",
    "confirm_test_data = filtered_data_confirm.groupby('client_id').first()[[\"visit_id\", 'date_time', 'gendr']]\n",
    "\n",
    "# Reset index to make 'client_id' a column again\n",
    "confirm_test_data = confirm_test_data.reset_index()\n"
   ]
  },
  {
   "cell_type": "code",
   "execution_count": 57,
   "id": "72a8aad9-bafb-4ec7-a728-43181b6683dc",
   "metadata": {},
   "outputs": [
    {
     "data": {
      "text/plain": [
       "gendr\n",
       "U    6505\n",
       "M    6354\n",
       "F    5828\n",
       "Name: count, dtype: int64"
      ]
     },
     "execution_count": 57,
     "metadata": {},
     "output_type": "execute_result"
    }
   ],
   "source": [
    "confirm_test_data[\"gendr\"].value_counts()"
   ]
  },
  {
   "cell_type": "code",
   "execution_count": 58,
   "id": "7700df42-cd42-4c73-8d2f-caa1281764e8",
   "metadata": {},
   "outputs": [],
   "source": [
    "step_confirm_time = subtract_date_column(confirm_test_data, step3_test_data)"
   ]
  },
  {
   "cell_type": "code",
   "execution_count": 59,
   "id": "2a7636f5-0bf2-4561-9bde-083c61328d77",
   "metadata": {},
   "outputs": [
    {
     "data": {
      "text/html": [
       "<div>\n",
       "<style scoped>\n",
       "    .dataframe tbody tr th:only-of-type {\n",
       "        vertical-align: middle;\n",
       "    }\n",
       "\n",
       "    .dataframe tbody tr th {\n",
       "        vertical-align: top;\n",
       "    }\n",
       "\n",
       "    .dataframe thead th {\n",
       "        text-align: right;\n",
       "    }\n",
       "</style>\n",
       "<table border=\"1\" class=\"dataframe\">\n",
       "  <thead>\n",
       "    <tr style=\"text-align: right;\">\n",
       "      <th></th>\n",
       "      <th>time_step_z</th>\n",
       "    </tr>\n",
       "  </thead>\n",
       "  <tbody>\n",
       "    <tr>\n",
       "      <th>0</th>\n",
       "      <td>0 days 00:00:20</td>\n",
       "    </tr>\n",
       "    <tr>\n",
       "      <th>1</th>\n",
       "      <td>0 days 00:02:43</td>\n",
       "    </tr>\n",
       "    <tr>\n",
       "      <th>2</th>\n",
       "      <td>0 days 02:16:06</td>\n",
       "    </tr>\n",
       "    <tr>\n",
       "      <th>3</th>\n",
       "      <td>0 days 00:04:16</td>\n",
       "    </tr>\n",
       "    <tr>\n",
       "      <th>4</th>\n",
       "      <td>0 days 00:00:30</td>\n",
       "    </tr>\n",
       "    <tr>\n",
       "      <th>...</th>\n",
       "      <td>...</td>\n",
       "    </tr>\n",
       "    <tr>\n",
       "      <th>18440</th>\n",
       "      <td>0 days 00:00:31</td>\n",
       "    </tr>\n",
       "    <tr>\n",
       "      <th>18441</th>\n",
       "      <td>0 days 00:01:14</td>\n",
       "    </tr>\n",
       "    <tr>\n",
       "      <th>18442</th>\n",
       "      <td>0 days 00:01:58</td>\n",
       "    </tr>\n",
       "    <tr>\n",
       "      <th>18443</th>\n",
       "      <td>0 days 00:00:24</td>\n",
       "    </tr>\n",
       "    <tr>\n",
       "      <th>18444</th>\n",
       "      <td>0 days 00:00:21</td>\n",
       "    </tr>\n",
       "  </tbody>\n",
       "</table>\n",
       "<p>18445 rows × 1 columns</p>\n",
       "</div>"
      ],
      "text/plain": [
       "          time_step_z\n",
       "0     0 days 00:00:20\n",
       "1     0 days 00:02:43\n",
       "2     0 days 02:16:06\n",
       "3     0 days 00:04:16\n",
       "4     0 days 00:00:30\n",
       "...               ...\n",
       "18440 0 days 00:00:31\n",
       "18441 0 days 00:01:14\n",
       "18442 0 days 00:01:58\n",
       "18443 0 days 00:00:24\n",
       "18444 0 days 00:00:21\n",
       "\n",
       "[18445 rows x 1 columns]"
      ]
     },
     "execution_count": 59,
     "metadata": {},
     "output_type": "execute_result"
    }
   ],
   "source": [
    "step_confirm_time"
   ]
  },
  {
   "cell_type": "code",
   "execution_count": 60,
   "id": "184ec583-a69c-4551-8c6a-4dae1548892d",
   "metadata": {},
   "outputs": [],
   "source": [
    "step_confirm_time ['days'] = step_confirm_time ['time_step_z'].dt.days\n",
    "# Convert hours and minutes to seconds and add them to the total seconds\n",
    "step_confirm_time ['seconds'] = step_confirm_time ['time_step_z'].dt.components['hours'] * 3600 + \\\n",
    "                        step_confirm_time ['time_step_z'].dt.components['minutes'] * 60 + \\\n",
    "                        step_confirm_time ['time_step_z'].dt.components['seconds']"
   ]
  },
  {
   "cell_type": "code",
   "execution_count": 61,
   "id": "fcd97ce6-2aa6-43f5-a9c8-736854ed427b",
   "metadata": {},
   "outputs": [],
   "source": [
    "#filtering for those took less than one day\n",
    "filter_confirm = step_confirm_time[(step_confirm_time['days'] == 0)]\n",
    "\n",
    "filter_confirm = step_confirm_time[(step_confirm_time['seconds'] < 1800)]\n",
    "\n",
    "#mean of time takes from going to step2 to step3\n",
    "step_confirm_mean = filter_confirm[\"seconds\"].mean()\n",
    "\n",
    "#mean of time takes from going to step2 to step3\n",
    "step_confirm_std = filter_confirm[\"seconds\"].std()"
   ]
  },
  {
   "cell_type": "code",
   "execution_count": 220,
   "id": "116b59ae-07ec-4a17-b80c-3f71271015fb",
   "metadata": {},
   "outputs": [],
   "source": [
    "filter_confirm_error = step_confirm_time[(step_confirm_time['days'] < 0)]\n"
   ]
  },
  {
   "cell_type": "code",
   "execution_count": 291,
   "id": "2494672a-ed98-4a00-aca8-6febc4eacd7b",
   "metadata": {},
   "outputs": [],
   "source": [
    "error_confirm_test = round((filter_confirm_error[\"days\"].count() / step_confirm_time[\"days\"].count())*100,2)"
   ]
  },
  {
   "cell_type": "code",
   "execution_count": 292,
   "id": "594d7f61-43c0-4546-9ddf-5faf81d955e8",
   "metadata": {},
   "outputs": [
    {
     "data": {
      "text/plain": [
       "0.04"
      ]
     },
     "execution_count": 292,
     "metadata": {},
     "output_type": "execute_result"
    }
   ],
   "source": [
    "error_confirm_test"
   ]
  },
  {
   "cell_type": "code",
   "execution_count": 336,
   "id": "b90a9f89-7063-4d32-9626-a805f9838df3",
   "metadata": {},
   "outputs": [],
   "source": [
    "porpotion_error_confirm_test = filter_confirm_error[\"days\"].count() / step_confirm_time[\"days\"].count()\n"
   ]
  },
  {
   "cell_type": "code",
   "execution_count": 62,
   "id": "34a5a25b-352c-4ca8-aee5-5260a4273ecb",
   "metadata": {},
   "outputs": [
    {
     "data": {
      "text/plain": [
       "128.823415225963"
      ]
     },
     "execution_count": 62,
     "metadata": {},
     "output_type": "execute_result"
    }
   ],
   "source": [
    "step_confirm_mean"
   ]
  },
  {
   "cell_type": "code",
   "execution_count": 63,
   "id": "dc5d29e0-416b-4470-89f4-2e25ab1ca083",
   "metadata": {},
   "outputs": [
    {
     "data": {
      "text/html": [
       "<div>\n",
       "<style scoped>\n",
       "    .dataframe tbody tr th:only-of-type {\n",
       "        vertical-align: middle;\n",
       "    }\n",
       "\n",
       "    .dataframe tbody tr th {\n",
       "        vertical-align: top;\n",
       "    }\n",
       "\n",
       "    .dataframe thead th {\n",
       "        text-align: right;\n",
       "    }\n",
       "</style>\n",
       "<table border=\"1\" class=\"dataframe\">\n",
       "  <thead>\n",
       "    <tr style=\"text-align: right;\">\n",
       "      <th></th>\n",
       "      <th>time_step_z</th>\n",
       "      <th>days</th>\n",
       "      <th>seconds</th>\n",
       "    </tr>\n",
       "  </thead>\n",
       "  <tbody>\n",
       "    <tr>\n",
       "      <th>0</th>\n",
       "      <td>0 days 00:00:20</td>\n",
       "      <td>0</td>\n",
       "      <td>20</td>\n",
       "    </tr>\n",
       "    <tr>\n",
       "      <th>1</th>\n",
       "      <td>0 days 00:02:43</td>\n",
       "      <td>0</td>\n",
       "      <td>163</td>\n",
       "    </tr>\n",
       "    <tr>\n",
       "      <th>3</th>\n",
       "      <td>0 days 00:04:16</td>\n",
       "      <td>0</td>\n",
       "      <td>256</td>\n",
       "    </tr>\n",
       "    <tr>\n",
       "      <th>4</th>\n",
       "      <td>0 days 00:00:30</td>\n",
       "      <td>0</td>\n",
       "      <td>30</td>\n",
       "    </tr>\n",
       "    <tr>\n",
       "      <th>5</th>\n",
       "      <td>0 days 00:00:56</td>\n",
       "      <td>0</td>\n",
       "      <td>56</td>\n",
       "    </tr>\n",
       "    <tr>\n",
       "      <th>...</th>\n",
       "      <td>...</td>\n",
       "      <td>...</td>\n",
       "      <td>...</td>\n",
       "    </tr>\n",
       "    <tr>\n",
       "      <th>18440</th>\n",
       "      <td>0 days 00:00:31</td>\n",
       "      <td>0</td>\n",
       "      <td>31</td>\n",
       "    </tr>\n",
       "    <tr>\n",
       "      <th>18441</th>\n",
       "      <td>0 days 00:01:14</td>\n",
       "      <td>0</td>\n",
       "      <td>74</td>\n",
       "    </tr>\n",
       "    <tr>\n",
       "      <th>18442</th>\n",
       "      <td>0 days 00:01:58</td>\n",
       "      <td>0</td>\n",
       "      <td>118</td>\n",
       "    </tr>\n",
       "    <tr>\n",
       "      <th>18443</th>\n",
       "      <td>0 days 00:00:24</td>\n",
       "      <td>0</td>\n",
       "      <td>24</td>\n",
       "    </tr>\n",
       "    <tr>\n",
       "      <th>18444</th>\n",
       "      <td>0 days 00:00:21</td>\n",
       "      <td>0</td>\n",
       "      <td>21</td>\n",
       "    </tr>\n",
       "  </tbody>\n",
       "</table>\n",
       "<p>16485 rows × 3 columns</p>\n",
       "</div>"
      ],
      "text/plain": [
       "          time_step_z  days  seconds\n",
       "0     0 days 00:00:20     0       20\n",
       "1     0 days 00:02:43     0      163\n",
       "3     0 days 00:04:16     0      256\n",
       "4     0 days 00:00:30     0       30\n",
       "5     0 days 00:00:56     0       56\n",
       "...               ...   ...      ...\n",
       "18440 0 days 00:00:31     0       31\n",
       "18441 0 days 00:01:14     0       74\n",
       "18442 0 days 00:01:58     0      118\n",
       "18443 0 days 00:00:24     0       24\n",
       "18444 0 days 00:00:21     0       21\n",
       "\n",
       "[16485 rows x 3 columns]"
      ]
     },
     "execution_count": 63,
     "metadata": {},
     "output_type": "execute_result"
    }
   ],
   "source": [
    "filter_confirm"
   ]
  },
  {
   "cell_type": "code",
   "execution_count": 64,
   "id": "ad18349b-9b86-4695-ba7b-1058f6899d0b",
   "metadata": {},
   "outputs": [],
   "source": [
    "confirm_test_age = filtered_data_start.groupby('client_id').first()[[\"visit_id\", 'date_time', \"clnt_age\"]]\n",
    "confirm_test_age = confirm_test_age.reset_index()"
   ]
  },
  {
   "cell_type": "code",
   "execution_count": 65,
   "id": "47b0033a-aef4-43bd-84c8-7eb0c2b648c9",
   "metadata": {},
   "outputs": [
    {
     "data": {
      "text/plain": [
       "client_id             int64\n",
       "visit_id             object\n",
       "date_time    datetime64[ns]\n",
       "clnt_age            float64\n",
       "dtype: object"
      ]
     },
     "execution_count": 65,
     "metadata": {},
     "output_type": "execute_result"
    }
   ],
   "source": [
    "confirm_test_age.dtypes"
   ]
  },
  {
   "cell_type": "code",
   "execution_count": 66,
   "id": "a0e2c737-f0aa-4750-8c1f-a3c82f6f6add",
   "metadata": {},
   "outputs": [],
   "source": [
    "confirm_test_age['date'] = confirm_test_age['date_time'].dt.date\n",
    "confirm_test_age['time'] = confirm_test_age['date_time'].dt.time\n"
   ]
  },
  {
   "cell_type": "code",
   "execution_count": 67,
   "id": "5e29d579-4b6e-462c-ad48-690de84a2706",
   "metadata": {},
   "outputs": [
    {
     "data": {
      "text/plain": [
       "47.06"
      ]
     },
     "execution_count": 67,
     "metadata": {},
     "output_type": "execute_result"
    }
   ],
   "source": [
    "round(confirm_test_age['clnt_age'].mean(),2)"
   ]
  },
  {
   "cell_type": "code",
   "execution_count": 68,
   "id": "bc7bea02-3816-4628-ad40-45f84d51dd71",
   "metadata": {},
   "outputs": [
    {
     "data": {
      "image/png": "[encoded data removed]",
      "text/plain": [
       "<Figure size 1000x600 with 1 Axes>"
      ]
     },
     "metadata": {},
     "output_type": "display_data"
    }
   ],
   "source": [
    "import matplotlib.pyplot as plt\n",
    "import numpy as np\n",
    "\n",
    "# List of means and standard deviations\n",
    "step_means = [step_1_mean, step_2_mean, step_3_mean, step_confirm_mean]\n",
    "step_stds = [step_1_std, step_2_std, step_3_std, step_confirm_std]\n",
    "steps = ['step1', 'step2', 'step3', 'confirm']\n",
    "\n",
    "# Create the bar plot\n",
    "x_pos = np.arange(len(steps))\n",
    "plt.figure(figsize=(10, 6))\n",
    "\n",
    "# Define asymmetric error bars: no error below, std above\n",
    "error_bars = [0, 0, 0, 0], step_stds\n",
    "\n",
    "plt.bar(x_pos, step_means, yerr=error_bars, capsize=5, alpha=0.7, color='b')\n",
    "\n",
    "# Add labels and title\n",
    "plt.xlabel('Process Step')\n",
    "plt.ylabel('Time (seconds)')\n",
    "plt.title('Mean and Standard Deviation of Time Spent on Each Step')\n",
    "plt.xticks(x_pos, steps)\n",
    "plt.show()"
   ]
  },
  {
   "cell_type": "code",
   "execution_count": 69,
   "id": "299ac7cb-84c6-4baa-b361-61e732213b1f",
   "metadata": {},
   "outputs": [
    {
     "data": {
      "image/png": "[encoded data removed]",
      "text/plain": [
       "<Figure size 1000x600 with 1 Axes>"
      ]
     },
     "metadata": {
      "needs_background": "light"
     },
     "output_type": "display_data"
    }
   ],
   "source": [
    "import numpy as np\n",
    "import matplotlib.pyplot as plt\n",
    "\n",
    "# List of means and standard deviations\n",
    "step_means = [step_1_mean, step_2_mean, step_3_mean, step_confirm_mean]\n",
    "step_stds = [step_1_std, step_2_std, step_3_std, step_confirm_std]\n",
    "steps = ['step1', 'step2', 'step3', 'confirm']\n",
    "\n",
    "# Create the bar plot\n",
    "x_pos = np.arange(len(steps))\n",
    "plt.figure(figsize=(10, 6), facecolor='None')  # Transparent background\n",
    "\n",
    "# Define asymmetric error bars: no error below, std above\n",
    "error_bars = [0, 0, 0, 0], step_stds\n",
    "\n",
    "# Define light maroon color using RGBA values\n",
    "#light_maroon_rgba = (128/255, 0, 0, 1)  # Adding alpha channel (1 for fully opaque)\n",
    "maroon_hex = \"#800000\"\n",
    "\n",
    "# Create the bar plot with maroon color and borders\n",
    "plt.bar(x_pos, step_means, yerr=error_bars, capsize=5, alpha=0.7, color=maroon_hex, edgecolor='gray', linewidth=1.5)\n",
    "\n",
    "\n",
    "# Remove gridlines\n",
    "plt.grid(False)\n",
    "sns.despine()\n",
    "\n",
    "# Add labels and title\n",
    "plt.xlabel('Process Step')\n",
    "plt.ylabel('Time (seconds)')\n",
    "plt.title('Mean and Standard Deviation of Time Spent on Each Step')\n",
    "plt.xticks(x_pos, steps)\n",
    "# Save the plot with transparent background\n",
    "plt.savefig(os.path.join(save_path, 'Mean and Standard Deviation(TEST).png'), dpi=300, bbox_inches='tight', transparent=True)\n",
    "\n",
    "# Show the plot\n",
    "plt.show()\n"
   ]
  },
  {
   "cell_type": "code",
   "execution_count": 70,
   "id": "d33c68e1-3b45-463a-89ee-7d35ef52e2c3",
   "metadata": {},
   "outputs": [],
   "source": [
    "percentage = tested[tested[\"process_step_n\"]==\"5\"]"
   ]
  },
  {
   "cell_type": "code",
   "execution_count": 71,
   "id": "fc0953dd-4e45-4a3c-aa02-aa11f8a9c4b6",
   "metadata": {},
   "outputs": [
    {
     "data": {
      "text/html": [
       "<div>\n",
       "<style scoped>\n",
       "    .dataframe tbody tr th:only-of-type {\n",
       "        vertical-align: middle;\n",
       "    }\n",
       "\n",
       "    .dataframe tbody tr th {\n",
       "        vertical-align: top;\n",
       "    }\n",
       "\n",
       "    .dataframe thead th {\n",
       "        text-align: right;\n",
       "    }\n",
       "</style>\n",
       "<table border=\"1\" class=\"dataframe\">\n",
       "  <thead>\n",
       "    <tr style=\"text-align: right;\">\n",
       "      <th></th>\n",
       "      <th>client_id</th>\n",
       "      <th>clnt_tenure_yr</th>\n",
       "      <th>clnt_tenure_mnth</th>\n",
       "      <th>clnt_age</th>\n",
       "      <th>gendr</th>\n",
       "      <th>num_accts</th>\n",
       "      <th>bal</th>\n",
       "      <th>calls_6_mnth</th>\n",
       "      <th>logons_6_mnth</th>\n",
       "      <th>Variation</th>\n",
       "      <th>visitor_id</th>\n",
       "      <th>visit_id</th>\n",
       "      <th>process_step</th>\n",
       "      <th>date_time</th>\n",
       "      <th>process_step_n</th>\n",
       "    </tr>\n",
       "  </thead>\n",
       "  <tbody>\n",
       "    <tr>\n",
       "      <th>310195</th>\n",
       "      <td>9999729</td>\n",
       "      <td>10.0</td>\n",
       "      <td>124.0</td>\n",
       "      <td>31.0</td>\n",
       "      <td>F</td>\n",
       "      <td>3.0</td>\n",
       "      <td>107059.74</td>\n",
       "      <td>6.0</td>\n",
       "      <td>9.0</td>\n",
       "      <td>Test</td>\n",
       "      <td>834634258_21862004160</td>\n",
       "      <td>870243567_56915814033_814203</td>\n",
       "      <td>confirm</td>\n",
       "      <td>2017-05-08 16:09:40</td>\n",
       "      <td>5</td>\n",
       "    </tr>\n",
       "    <tr>\n",
       "      <th>194625</th>\n",
       "      <td>9999400</td>\n",
       "      <td>7.0</td>\n",
       "      <td>86.0</td>\n",
       "      <td>28.5</td>\n",
       "      <td>U</td>\n",
       "      <td>2.0</td>\n",
       "      <td>51787.04</td>\n",
       "      <td>0.0</td>\n",
       "      <td>3.0</td>\n",
       "      <td>Test</td>\n",
       "      <td>915967319_19082377501</td>\n",
       "      <td>288904166_90826265353_276104</td>\n",
       "      <td>confirm</td>\n",
       "      <td>2017-04-20 05:23:27</td>\n",
       "      <td>5</td>\n",
       "    </tr>\n",
       "    <tr>\n",
       "      <th>75816</th>\n",
       "      <td>9999009</td>\n",
       "      <td>18.0</td>\n",
       "      <td>216.0</td>\n",
       "      <td>68.5</td>\n",
       "      <td>M</td>\n",
       "      <td>3.0</td>\n",
       "      <td>2055381.29</td>\n",
       "      <td>6.0</td>\n",
       "      <td>9.0</td>\n",
       "      <td>Test</td>\n",
       "      <td>212849256_28644888524</td>\n",
       "      <td>149965839_24823291142_245569</td>\n",
       "      <td>confirm</td>\n",
       "      <td>2017-03-31 07:20:36</td>\n",
       "      <td>5</td>\n",
       "    </tr>\n",
       "    <tr>\n",
       "      <th>288603</th>\n",
       "      <td>9998964</td>\n",
       "      <td>5.0</td>\n",
       "      <td>71.0</td>\n",
       "      <td>45.5</td>\n",
       "      <td>U</td>\n",
       "      <td>3.0</td>\n",
       "      <td>91766.49</td>\n",
       "      <td>6.0</td>\n",
       "      <td>9.0</td>\n",
       "      <td>Test</td>\n",
       "      <td>502193753_63097042630</td>\n",
       "      <td>699981922_52880598802_858635</td>\n",
       "      <td>confirm</td>\n",
       "      <td>2017-04-05 23:50:02</td>\n",
       "      <td>5</td>\n",
       "    </tr>\n",
       "    <tr>\n",
       "      <th>43941</th>\n",
       "      <td>9998851</td>\n",
       "      <td>4.0</td>\n",
       "      <td>58.0</td>\n",
       "      <td>23.5</td>\n",
       "      <td>U</td>\n",
       "      <td>2.0</td>\n",
       "      <td>38473.54</td>\n",
       "      <td>3.0</td>\n",
       "      <td>6.0</td>\n",
       "      <td>Test</td>\n",
       "      <td>660529049_81285947655</td>\n",
       "      <td>310744937_17135608286_213964</td>\n",
       "      <td>confirm</td>\n",
       "      <td>2017-04-05 12:08:43</td>\n",
       "      <td>5</td>\n",
       "    </tr>\n",
       "    <tr>\n",
       "      <th>...</th>\n",
       "      <td>...</td>\n",
       "      <td>...</td>\n",
       "      <td>...</td>\n",
       "      <td>...</td>\n",
       "      <td>...</td>\n",
       "      <td>...</td>\n",
       "      <td>...</td>\n",
       "      <td>...</td>\n",
       "      <td>...</td>\n",
       "      <td>...</td>\n",
       "      <td>...</td>\n",
       "      <td>...</td>\n",
       "      <td>...</td>\n",
       "      <td>...</td>\n",
       "      <td>...</td>\n",
       "    </tr>\n",
       "    <tr>\n",
       "      <th>105335</th>\n",
       "      <td>1336</td>\n",
       "      <td>48.0</td>\n",
       "      <td>576.0</td>\n",
       "      <td>42.0</td>\n",
       "      <td>M</td>\n",
       "      <td>4.0</td>\n",
       "      <td>130537.18</td>\n",
       "      <td>6.0</td>\n",
       "      <td>9.0</td>\n",
       "      <td>Test</td>\n",
       "      <td>920624746_32603333901</td>\n",
       "      <td>614001770_19101025926_112779</td>\n",
       "      <td>confirm</td>\n",
       "      <td>2017-05-08 08:23:00</td>\n",
       "      <td>5</td>\n",
       "    </tr>\n",
       "    <tr>\n",
       "      <th>105336</th>\n",
       "      <td>1336</td>\n",
       "      <td>48.0</td>\n",
       "      <td>576.0</td>\n",
       "      <td>42.0</td>\n",
       "      <td>M</td>\n",
       "      <td>4.0</td>\n",
       "      <td>130537.18</td>\n",
       "      <td>6.0</td>\n",
       "      <td>9.0</td>\n",
       "      <td>Test</td>\n",
       "      <td>920624746_32603333901</td>\n",
       "      <td>614001770_19101025926_112779</td>\n",
       "      <td>confirm</td>\n",
       "      <td>2017-05-08 08:21:38</td>\n",
       "      <td>5</td>\n",
       "    </tr>\n",
       "    <tr>\n",
       "      <th>105337</th>\n",
       "      <td>1336</td>\n",
       "      <td>48.0</td>\n",
       "      <td>576.0</td>\n",
       "      <td>42.0</td>\n",
       "      <td>M</td>\n",
       "      <td>4.0</td>\n",
       "      <td>130537.18</td>\n",
       "      <td>6.0</td>\n",
       "      <td>9.0</td>\n",
       "      <td>Test</td>\n",
       "      <td>920624746_32603333901</td>\n",
       "      <td>583743392_96265099036_939815</td>\n",
       "      <td>confirm</td>\n",
       "      <td>2017-05-08 06:08:43</td>\n",
       "      <td>5</td>\n",
       "    </tr>\n",
       "    <tr>\n",
       "      <th>9745</th>\n",
       "      <td>647</td>\n",
       "      <td>12.0</td>\n",
       "      <td>151.0</td>\n",
       "      <td>57.5</td>\n",
       "      <td>M</td>\n",
       "      <td>2.0</td>\n",
       "      <td>30525.80</td>\n",
       "      <td>0.0</td>\n",
       "      <td>4.0</td>\n",
       "      <td>Test</td>\n",
       "      <td>66758770_53988066587</td>\n",
       "      <td>40369564_40101682850_311847</td>\n",
       "      <td>confirm</td>\n",
       "      <td>2017-04-12 15:47:45</td>\n",
       "      <td>5</td>\n",
       "    </tr>\n",
       "    <tr>\n",
       "      <th>255457</th>\n",
       "      <td>555</td>\n",
       "      <td>3.0</td>\n",
       "      <td>46.0</td>\n",
       "      <td>29.5</td>\n",
       "      <td>U</td>\n",
       "      <td>2.0</td>\n",
       "      <td>25454.66</td>\n",
       "      <td>2.0</td>\n",
       "      <td>6.0</td>\n",
       "      <td>Test</td>\n",
       "      <td>402506806_56087378777</td>\n",
       "      <td>637149525_38041617439_716659</td>\n",
       "      <td>confirm</td>\n",
       "      <td>2017-04-15 13:00:34</td>\n",
       "      <td>5</td>\n",
       "    </tr>\n",
       "  </tbody>\n",
       "</table>\n",
       "<p>25722 rows × 15 columns</p>\n",
       "</div>"
      ],
      "text/plain": [
       "        client_id  clnt_tenure_yr  clnt_tenure_mnth  clnt_age gendr  \\\n",
       "310195    9999729            10.0             124.0      31.0     F   \n",
       "194625    9999400             7.0              86.0      28.5     U   \n",
       "75816     9999009            18.0             216.0      68.5     M   \n",
       "288603    9998964             5.0              71.0      45.5     U   \n",
       "43941     9998851             4.0              58.0      23.5     U   \n",
       "...           ...             ...               ...       ...   ...   \n",
       "105335       1336            48.0             576.0      42.0     M   \n",
       "105336       1336            48.0             576.0      42.0     M   \n",
       "105337       1336            48.0             576.0      42.0     M   \n",
       "9745          647            12.0             151.0      57.5     M   \n",
       "255457        555             3.0              46.0      29.5     U   \n",
       "\n",
       "        num_accts         bal  calls_6_mnth  logons_6_mnth Variation  \\\n",
       "310195        3.0   107059.74           6.0            9.0      Test   \n",
       "194625        2.0    51787.04           0.0            3.0      Test   \n",
       "75816         3.0  2055381.29           6.0            9.0      Test   \n",
       "288603        3.0    91766.49           6.0            9.0      Test   \n",
       "43941         2.0    38473.54           3.0            6.0      Test   \n",
       "...           ...         ...           ...            ...       ...   \n",
       "105335        4.0   130537.18           6.0            9.0      Test   \n",
       "105336        4.0   130537.18           6.0            9.0      Test   \n",
       "105337        4.0   130537.18           6.0            9.0      Test   \n",
       "9745          2.0    30525.80           0.0            4.0      Test   \n",
       "255457        2.0    25454.66           2.0            6.0      Test   \n",
       "\n",
       "                   visitor_id                      visit_id process_step  \\\n",
       "310195  834634258_21862004160  870243567_56915814033_814203      confirm   \n",
       "194625  915967319_19082377501  288904166_90826265353_276104      confirm   \n",
       "75816   212849256_28644888524  149965839_24823291142_245569      confirm   \n",
       "288603  502193753_63097042630  699981922_52880598802_858635      confirm   \n",
       "43941   660529049_81285947655  310744937_17135608286_213964      confirm   \n",
       "...                       ...                           ...          ...   \n",
       "105335  920624746_32603333901  614001770_19101025926_112779      confirm   \n",
       "105336  920624746_32603333901  614001770_19101025926_112779      confirm   \n",
       "105337  920624746_32603333901  583743392_96265099036_939815      confirm   \n",
       "9745     66758770_53988066587   40369564_40101682850_311847      confirm   \n",
       "255457  402506806_56087378777  637149525_38041617439_716659      confirm   \n",
       "\n",
       "                 date_time process_step_n  \n",
       "310195 2017-05-08 16:09:40              5  \n",
       "194625 2017-04-20 05:23:27              5  \n",
       "75816  2017-03-31 07:20:36              5  \n",
       "288603 2017-04-05 23:50:02              5  \n",
       "43941  2017-04-05 12:08:43              5  \n",
       "...                    ...            ...  \n",
       "105335 2017-05-08 08:23:00              5  \n",
       "105336 2017-05-08 08:21:38              5  \n",
       "105337 2017-05-08 06:08:43              5  \n",
       "9745   2017-04-12 15:47:45              5  \n",
       "255457 2017-04-15 13:00:34              5  \n",
       "\n",
       "[25722 rows x 15 columns]"
      ]
     },
     "execution_count": 71,
     "metadata": {},
     "output_type": "execute_result"
    }
   ],
   "source": [
    "percentage"
   ]
  },
  {
   "cell_type": "code",
   "execution_count": 73,
   "id": "b056853b-ab17-42f6-a3a5-cbadbb2071f4",
   "metadata": {},
   "outputs": [],
   "source": [
    "control_test = control_data.copy()\n",
    "\n",
    "control_test_1 = control_data.copy()\n",
    "\n"
   ]
  },
  {
   "cell_type": "code",
   "execution_count": 74,
   "id": "c75c2aa1-b2e0-4da9-a1ad-861885fac361",
   "metadata": {},
   "outputs": [],
   "source": [
    "# create a new column for process_step with numbers instead of words\n",
    "name_to_value = {\n",
    "    \"start\": \"1\",\n",
    "    \"step_1\": \"2\",\n",
    "    \"step_2\": \"3\",\n",
    "    \"step_3\": \"4\",\n",
    "    \"confirm\": \"5\"\n",
    "\n",
    "}\n",
    "control_test_1['process_step_n'] = control_test_1['process_step'].map(name_to_value)\n",
    "\n"
   ]
  },
  {
   "cell_type": "code",
   "execution_count": 75,
   "id": "8eb22317-dd7b-402f-a9f8-96413c5b377a",
   "metadata": {},
   "outputs": [],
   "source": [
    "# transforming date_time in datetime64[ns] types\n",
    "control_test_1['date_time'] = pd.to_datetime(control_test_1['date_time'])\n",
    "\n",
    "# sorting the data set by order descending of this columns \n",
    "control_test_1.sort_values(by=[\"client_id\", \"date_time\", \"process_step_n\"], ascending=[False, False, False], inplace=True)"
   ]
  },
  {
   "cell_type": "code",
   "execution_count": 76,
   "id": "2ecc75f7-8de8-46e0-a526-d7b5a4f7a968",
   "metadata": {},
   "outputs": [
    {
     "data": {
      "text/html": [
       "<div>\n",
       "<style scoped>\n",
       "    .dataframe tbody tr th:only-of-type {\n",
       "        vertical-align: middle;\n",
       "    }\n",
       "\n",
       "    .dataframe tbody tr th {\n",
       "        vertical-align: top;\n",
       "    }\n",
       "\n",
       "    .dataframe thead th {\n",
       "        text-align: right;\n",
       "    }\n",
       "</style>\n",
       "<table border=\"1\" class=\"dataframe\">\n",
       "  <thead>\n",
       "    <tr style=\"text-align: right;\">\n",
       "      <th></th>\n",
       "      <th>client_id</th>\n",
       "      <th>clnt_tenure_yr</th>\n",
       "      <th>clnt_tenure_mnth</th>\n",
       "      <th>clnt_age</th>\n",
       "      <th>gendr</th>\n",
       "      <th>num_accts</th>\n",
       "      <th>bal</th>\n",
       "      <th>calls_6_mnth</th>\n",
       "      <th>logons_6_mnth</th>\n",
       "      <th>Variation</th>\n",
       "      <th>visitor_id</th>\n",
       "      <th>visit_id</th>\n",
       "      <th>process_step</th>\n",
       "      <th>date_time</th>\n",
       "      <th>process_step_n</th>\n",
       "    </tr>\n",
       "  </thead>\n",
       "  <tbody>\n",
       "    <tr>\n",
       "      <th>27204</th>\n",
       "      <td>9998921</td>\n",
       "      <td>15.0</td>\n",
       "      <td>189.0</td>\n",
       "      <td>38.0</td>\n",
       "      <td>F</td>\n",
       "      <td>2.0</td>\n",
       "      <td>30644.10</td>\n",
       "      <td>4.0</td>\n",
       "      <td>7.0</td>\n",
       "      <td>Control</td>\n",
       "      <td>960034051_85687824805</td>\n",
       "      <td>378424178_59565976155_8051</td>\n",
       "      <td>start</td>\n",
       "      <td>2017-04-18 11:26:31</td>\n",
       "      <td>1</td>\n",
       "    </tr>\n",
       "    <tr>\n",
       "      <th>143002</th>\n",
       "      <td>9998346</td>\n",
       "      <td>50.0</td>\n",
       "      <td>602.0</td>\n",
       "      <td>61.5</td>\n",
       "      <td>F</td>\n",
       "      <td>2.0</td>\n",
       "      <td>149881.38</td>\n",
       "      <td>6.0</td>\n",
       "      <td>9.0</td>\n",
       "      <td>Control</td>\n",
       "      <td>292425655_16607136645</td>\n",
       "      <td>189177304_69869411700_783154</td>\n",
       "      <td>confirm</td>\n",
       "      <td>2017-03-29 15:37:28</td>\n",
       "      <td>5</td>\n",
       "    </tr>\n",
       "    <tr>\n",
       "      <th>143001</th>\n",
       "      <td>9998346</td>\n",
       "      <td>50.0</td>\n",
       "      <td>602.0</td>\n",
       "      <td>61.5</td>\n",
       "      <td>F</td>\n",
       "      <td>2.0</td>\n",
       "      <td>149881.38</td>\n",
       "      <td>6.0</td>\n",
       "      <td>9.0</td>\n",
       "      <td>Control</td>\n",
       "      <td>292425655_16607136645</td>\n",
       "      <td>189177304_69869411700_783154</td>\n",
       "      <td>step_3</td>\n",
       "      <td>2017-03-29 15:37:28</td>\n",
       "      <td>4</td>\n",
       "    </tr>\n",
       "    <tr>\n",
       "      <th>143003</th>\n",
       "      <td>9998346</td>\n",
       "      <td>50.0</td>\n",
       "      <td>602.0</td>\n",
       "      <td>61.5</td>\n",
       "      <td>F</td>\n",
       "      <td>2.0</td>\n",
       "      <td>149881.38</td>\n",
       "      <td>6.0</td>\n",
       "      <td>9.0</td>\n",
       "      <td>Control</td>\n",
       "      <td>292425655_16607136645</td>\n",
       "      <td>189177304_69869411700_783154</td>\n",
       "      <td>step_3</td>\n",
       "      <td>2017-03-29 15:37:28</td>\n",
       "      <td>4</td>\n",
       "    </tr>\n",
       "    <tr>\n",
       "      <th>143004</th>\n",
       "      <td>9998346</td>\n",
       "      <td>50.0</td>\n",
       "      <td>602.0</td>\n",
       "      <td>61.5</td>\n",
       "      <td>F</td>\n",
       "      <td>2.0</td>\n",
       "      <td>149881.38</td>\n",
       "      <td>6.0</td>\n",
       "      <td>9.0</td>\n",
       "      <td>Control</td>\n",
       "      <td>292425655_16607136645</td>\n",
       "      <td>189177304_69869411700_783154</td>\n",
       "      <td>step_3</td>\n",
       "      <td>2017-03-29 15:30:25</td>\n",
       "      <td>4</td>\n",
       "    </tr>\n",
       "    <tr>\n",
       "      <th>...</th>\n",
       "      <td>...</td>\n",
       "      <td>...</td>\n",
       "      <td>...</td>\n",
       "      <td>...</td>\n",
       "      <td>...</td>\n",
       "      <td>...</td>\n",
       "      <td>...</td>\n",
       "      <td>...</td>\n",
       "      <td>...</td>\n",
       "      <td>...</td>\n",
       "      <td>...</td>\n",
       "      <td>...</td>\n",
       "      <td>...</td>\n",
       "      <td>...</td>\n",
       "      <td>...</td>\n",
       "    </tr>\n",
       "    <tr>\n",
       "      <th>302513</th>\n",
       "      <td>1028</td>\n",
       "      <td>12.0</td>\n",
       "      <td>145.0</td>\n",
       "      <td>36.0</td>\n",
       "      <td>M</td>\n",
       "      <td>3.0</td>\n",
       "      <td>103520.22</td>\n",
       "      <td>1.0</td>\n",
       "      <td>4.0</td>\n",
       "      <td>Control</td>\n",
       "      <td>42237450_62128060588</td>\n",
       "      <td>557292053_87239438319_391157</td>\n",
       "      <td>step_3</td>\n",
       "      <td>2017-04-08 18:58:04</td>\n",
       "      <td>4</td>\n",
       "    </tr>\n",
       "    <tr>\n",
       "      <th>302514</th>\n",
       "      <td>1028</td>\n",
       "      <td>12.0</td>\n",
       "      <td>145.0</td>\n",
       "      <td>36.0</td>\n",
       "      <td>M</td>\n",
       "      <td>3.0</td>\n",
       "      <td>103520.22</td>\n",
       "      <td>1.0</td>\n",
       "      <td>4.0</td>\n",
       "      <td>Control</td>\n",
       "      <td>42237450_62128060588</td>\n",
       "      <td>557292053_87239438319_391157</td>\n",
       "      <td>step_2</td>\n",
       "      <td>2017-04-08 18:53:29</td>\n",
       "      <td>3</td>\n",
       "    </tr>\n",
       "    <tr>\n",
       "      <th>302515</th>\n",
       "      <td>1028</td>\n",
       "      <td>12.0</td>\n",
       "      <td>145.0</td>\n",
       "      <td>36.0</td>\n",
       "      <td>M</td>\n",
       "      <td>3.0</td>\n",
       "      <td>103520.22</td>\n",
       "      <td>1.0</td>\n",
       "      <td>4.0</td>\n",
       "      <td>Control</td>\n",
       "      <td>42237450_62128060588</td>\n",
       "      <td>557292053_87239438319_391157</td>\n",
       "      <td>step_1</td>\n",
       "      <td>2017-04-08 18:53:20</td>\n",
       "      <td>2</td>\n",
       "    </tr>\n",
       "    <tr>\n",
       "      <th>302516</th>\n",
       "      <td>1028</td>\n",
       "      <td>12.0</td>\n",
       "      <td>145.0</td>\n",
       "      <td>36.0</td>\n",
       "      <td>M</td>\n",
       "      <td>3.0</td>\n",
       "      <td>103520.22</td>\n",
       "      <td>1.0</td>\n",
       "      <td>4.0</td>\n",
       "      <td>Control</td>\n",
       "      <td>42237450_62128060588</td>\n",
       "      <td>557292053_87239438319_391157</td>\n",
       "      <td>step_1</td>\n",
       "      <td>2017-04-08 18:52:17</td>\n",
       "      <td>2</td>\n",
       "    </tr>\n",
       "    <tr>\n",
       "      <th>302517</th>\n",
       "      <td>1028</td>\n",
       "      <td>12.0</td>\n",
       "      <td>145.0</td>\n",
       "      <td>36.0</td>\n",
       "      <td>M</td>\n",
       "      <td>3.0</td>\n",
       "      <td>103520.22</td>\n",
       "      <td>1.0</td>\n",
       "      <td>4.0</td>\n",
       "      <td>Control</td>\n",
       "      <td>42237450_62128060588</td>\n",
       "      <td>557292053_87239438319_391157</td>\n",
       "      <td>start</td>\n",
       "      <td>2017-04-08 18:51:28</td>\n",
       "      <td>1</td>\n",
       "    </tr>\n",
       "  </tbody>\n",
       "</table>\n",
       "<p>143462 rows × 15 columns</p>\n",
       "</div>"
      ],
      "text/plain": [
       "        client_id  clnt_tenure_yr  clnt_tenure_mnth  clnt_age gendr  \\\n",
       "27204     9998921            15.0             189.0      38.0     F   \n",
       "143002    9998346            50.0             602.0      61.5     F   \n",
       "143001    9998346            50.0             602.0      61.5     F   \n",
       "143003    9998346            50.0             602.0      61.5     F   \n",
       "143004    9998346            50.0             602.0      61.5     F   \n",
       "...           ...             ...               ...       ...   ...   \n",
       "302513       1028            12.0             145.0      36.0     M   \n",
       "302514       1028            12.0             145.0      36.0     M   \n",
       "302515       1028            12.0             145.0      36.0     M   \n",
       "302516       1028            12.0             145.0      36.0     M   \n",
       "302517       1028            12.0             145.0      36.0     M   \n",
       "\n",
       "        num_accts        bal  calls_6_mnth  logons_6_mnth Variation  \\\n",
       "27204         2.0   30644.10           4.0            7.0   Control   \n",
       "143002        2.0  149881.38           6.0            9.0   Control   \n",
       "143001        2.0  149881.38           6.0            9.0   Control   \n",
       "143003        2.0  149881.38           6.0            9.0   Control   \n",
       "143004        2.0  149881.38           6.0            9.0   Control   \n",
       "...           ...        ...           ...            ...       ...   \n",
       "302513        3.0  103520.22           1.0            4.0   Control   \n",
       "302514        3.0  103520.22           1.0            4.0   Control   \n",
       "302515        3.0  103520.22           1.0            4.0   Control   \n",
       "302516        3.0  103520.22           1.0            4.0   Control   \n",
       "302517        3.0  103520.22           1.0            4.0   Control   \n",
       "\n",
       "                   visitor_id                      visit_id process_step  \\\n",
       "27204   960034051_85687824805    378424178_59565976155_8051        start   \n",
       "143002  292425655_16607136645  189177304_69869411700_783154      confirm   \n",
       "143001  292425655_16607136645  189177304_69869411700_783154       step_3   \n",
       "143003  292425655_16607136645  189177304_69869411700_783154       step_3   \n",
       "143004  292425655_16607136645  189177304_69869411700_783154       step_3   \n",
       "...                       ...                           ...          ...   \n",
       "302513   42237450_62128060588  557292053_87239438319_391157       step_3   \n",
       "302514   42237450_62128060588  557292053_87239438319_391157       step_2   \n",
       "302515   42237450_62128060588  557292053_87239438319_391157       step_1   \n",
       "302516   42237450_62128060588  557292053_87239438319_391157       step_1   \n",
       "302517   42237450_62128060588  557292053_87239438319_391157        start   \n",
       "\n",
       "                 date_time process_step_n  \n",
       "27204  2017-04-18 11:26:31              1  \n",
       "143002 2017-03-29 15:37:28              5  \n",
       "143001 2017-03-29 15:37:28              4  \n",
       "143003 2017-03-29 15:37:28              4  \n",
       "143004 2017-03-29 15:30:25              4  \n",
       "...                    ...            ...  \n",
       "302513 2017-04-08 18:58:04              4  \n",
       "302514 2017-04-08 18:53:29              3  \n",
       "302515 2017-04-08 18:53:20              2  \n",
       "302516 2017-04-08 18:52:17              2  \n",
       "302517 2017-04-08 18:51:28              1  \n",
       "\n",
       "[143462 rows x 15 columns]"
      ]
     },
     "execution_count": 76,
     "metadata": {},
     "output_type": "execute_result"
    }
   ],
   "source": [
    "control_test_1"
   ]
  },
  {
   "cell_type": "code",
   "execution_count": 139,
   "id": "d6d81a15-c8c0-4af3-9588-3cb80a40f8dc",
   "metadata": {},
   "outputs": [],
   "source": [
    "control_excel = control_test_1.groupby('client_id').first().reset_index()"
   ]
  },
  {
   "cell_type": "code",
   "execution_count": 141,
   "id": "2ef406d8-c77a-4bbd-b340-5a8920790e0b",
   "metadata": {},
   "outputs": [],
   "source": [
    "control_excel.to_excel('control_clean.xlsx', index=False, engine='openpyxl')\n"
   ]
  },
  {
   "cell_type": "code",
   "execution_count": 77,
   "id": "93256931-c268-44cb-806f-77a9f8e0003d",
   "metadata": {},
   "outputs": [],
   "source": [
    "#filter by process step \"start\" in control test\n",
    "\n",
    "filtered_data_start_control = control_test_1[control_test_1['process_step_n'] == \"1\"]\n",
    "\n",
    "#creating new df for all the values of \"start\"\n",
    "start_control_data = filtered_data_start_control.groupby('client_id').first()[['date_time']]\n",
    "\n",
    "#start_control_data = filtered_data_start_control.groupby('client_id').first()[[\"visit_id\", 'date_time']]\n",
    "\n",
    "# Reset index to make 'client_id' a column again\n",
    "start_control_data = start_control_data.reset_index()"
   ]
  },
  {
   "cell_type": "code",
   "execution_count": 78,
   "id": "8f6017b4-890a-4054-ab62-fe20c6995285",
   "metadata": {},
   "outputs": [
    {
     "data": {
      "text/html": [
       "<div>\n",
       "<style scoped>\n",
       "    .dataframe tbody tr th:only-of-type {\n",
       "        vertical-align: middle;\n",
       "    }\n",
       "\n",
       "    .dataframe tbody tr th {\n",
       "        vertical-align: top;\n",
       "    }\n",
       "\n",
       "    .dataframe thead th {\n",
       "        text-align: right;\n",
       "    }\n",
       "</style>\n",
       "<table border=\"1\" class=\"dataframe\">\n",
       "  <thead>\n",
       "    <tr style=\"text-align: right;\">\n",
       "      <th></th>\n",
       "      <th>client_id</th>\n",
       "      <th>date_time</th>\n",
       "    </tr>\n",
       "  </thead>\n",
       "  <tbody>\n",
       "    <tr>\n",
       "      <th>0</th>\n",
       "      <td>1028</td>\n",
       "      <td>2017-04-08 18:51:28</td>\n",
       "    </tr>\n",
       "    <tr>\n",
       "      <th>1</th>\n",
       "      <td>1104</td>\n",
       "      <td>2017-06-20 22:31:33</td>\n",
       "    </tr>\n",
       "    <tr>\n",
       "      <th>2</th>\n",
       "      <td>1186</td>\n",
       "      <td>2017-04-08 18:05:02</td>\n",
       "    </tr>\n",
       "    <tr>\n",
       "      <th>3</th>\n",
       "      <td>1195</td>\n",
       "      <td>2017-04-05 20:15:26</td>\n",
       "    </tr>\n",
       "    <tr>\n",
       "      <th>4</th>\n",
       "      <td>1197</td>\n",
       "      <td>2017-04-01 17:16:24</td>\n",
       "    </tr>\n",
       "    <tr>\n",
       "      <th>...</th>\n",
       "      <td>...</td>\n",
       "      <td>...</td>\n",
       "    </tr>\n",
       "    <tr>\n",
       "      <th>23392</th>\n",
       "      <td>9997125</td>\n",
       "      <td>2017-04-16 08:39:35</td>\n",
       "    </tr>\n",
       "    <tr>\n",
       "      <th>23393</th>\n",
       "      <td>9997391</td>\n",
       "      <td>2017-04-05 15:37:56</td>\n",
       "    </tr>\n",
       "    <tr>\n",
       "      <th>23394</th>\n",
       "      <td>9997470</td>\n",
       "      <td>2017-05-09 16:38:32</td>\n",
       "    </tr>\n",
       "    <tr>\n",
       "      <th>23395</th>\n",
       "      <td>9998346</td>\n",
       "      <td>2017-03-29 15:25:00</td>\n",
       "    </tr>\n",
       "    <tr>\n",
       "      <th>23396</th>\n",
       "      <td>9998921</td>\n",
       "      <td>2017-04-18 11:26:31</td>\n",
       "    </tr>\n",
       "  </tbody>\n",
       "</table>\n",
       "<p>23397 rows × 2 columns</p>\n",
       "</div>"
      ],
      "text/plain": [
       "       client_id           date_time\n",
       "0           1028 2017-04-08 18:51:28\n",
       "1           1104 2017-06-20 22:31:33\n",
       "2           1186 2017-04-08 18:05:02\n",
       "3           1195 2017-04-05 20:15:26\n",
       "4           1197 2017-04-01 17:16:24\n",
       "...          ...                 ...\n",
       "23392    9997125 2017-04-16 08:39:35\n",
       "23393    9997391 2017-04-05 15:37:56\n",
       "23394    9997470 2017-05-09 16:38:32\n",
       "23395    9998346 2017-03-29 15:25:00\n",
       "23396    9998921 2017-04-18 11:26:31\n",
       "\n",
       "[23397 rows x 2 columns]"
      ]
     },
     "execution_count": 78,
     "metadata": {},
     "output_type": "execute_result"
    }
   ],
   "source": [
    "start_control_data"
   ]
  },
  {
   "cell_type": "code",
   "execution_count": 79,
   "id": "f9ff1834-5cf3-4b76-b2e7-0fae722af1bd",
   "metadata": {},
   "outputs": [],
   "source": [
    "#filter by process step \"step1\" in control\n",
    "\n",
    "filtered_data_step1_control = control_test_1[control_test_1['process_step_n'] == \"2\"]\n",
    "\n",
    "#creating new df for all the values of \"step1\"\n",
    "\n",
    "step1_test_data_control = filtered_data_step1_control.groupby('client_id').first()[['date_time']]\n",
    "\n",
    "#step1_test_data_control = filtered_data_step1_control.groupby('client_id').first()[[\"visit_id\", 'date_time']]\n",
    "\n",
    "# Reset index to make 'client_id' a column again\n",
    "step1_test_data_control = step1_test_data_control.reset_index()\n"
   ]
  },
  {
   "cell_type": "code",
   "execution_count": 80,
   "id": "ff2b3b64-4759-41a5-9b9f-8483fc450bb8",
   "metadata": {},
   "outputs": [
    {
     "data": {
      "text/html": [
       "<div>\n",
       "<style scoped>\n",
       "    .dataframe tbody tr th:only-of-type {\n",
       "        vertical-align: middle;\n",
       "    }\n",
       "\n",
       "    .dataframe tbody tr th {\n",
       "        vertical-align: top;\n",
       "    }\n",
       "\n",
       "    .dataframe thead th {\n",
       "        text-align: right;\n",
       "    }\n",
       "</style>\n",
       "<table border=\"1\" class=\"dataframe\">\n",
       "  <thead>\n",
       "    <tr style=\"text-align: right;\">\n",
       "      <th></th>\n",
       "      <th>client_id</th>\n",
       "      <th>date_time</th>\n",
       "    </tr>\n",
       "  </thead>\n",
       "  <tbody>\n",
       "    <tr>\n",
       "      <th>0</th>\n",
       "      <td>1028</td>\n",
       "      <td>2017-04-08 19:00:26</td>\n",
       "    </tr>\n",
       "    <tr>\n",
       "      <th>1</th>\n",
       "      <td>1186</td>\n",
       "      <td>2017-04-08 18:05:13</td>\n",
       "    </tr>\n",
       "    <tr>\n",
       "      <th>2</th>\n",
       "      <td>1195</td>\n",
       "      <td>2017-04-05 20:15:59</td>\n",
       "    </tr>\n",
       "    <tr>\n",
       "      <th>3</th>\n",
       "      <td>1197</td>\n",
       "      <td>2017-04-01 17:16:28</td>\n",
       "    </tr>\n",
       "    <tr>\n",
       "      <th>4</th>\n",
       "      <td>3647</td>\n",
       "      <td>2017-06-01 15:48:13</td>\n",
       "    </tr>\n",
       "    <tr>\n",
       "      <th>...</th>\n",
       "      <td>...</td>\n",
       "      <td>...</td>\n",
       "    </tr>\n",
       "    <tr>\n",
       "      <th>20147</th>\n",
       "      <td>9997114</td>\n",
       "      <td>2017-04-14 20:17:02</td>\n",
       "    </tr>\n",
       "    <tr>\n",
       "      <th>20148</th>\n",
       "      <td>9997125</td>\n",
       "      <td>2017-04-16 08:39:45</td>\n",
       "    </tr>\n",
       "    <tr>\n",
       "      <th>20149</th>\n",
       "      <td>9997391</td>\n",
       "      <td>2017-04-05 15:38:45</td>\n",
       "    </tr>\n",
       "    <tr>\n",
       "      <th>20150</th>\n",
       "      <td>9997470</td>\n",
       "      <td>2017-05-09 16:38:34</td>\n",
       "    </tr>\n",
       "    <tr>\n",
       "      <th>20151</th>\n",
       "      <td>9998346</td>\n",
       "      <td>2017-03-29 15:29:55</td>\n",
       "    </tr>\n",
       "  </tbody>\n",
       "</table>\n",
       "<p>20152 rows × 2 columns</p>\n",
       "</div>"
      ],
      "text/plain": [
       "       client_id           date_time\n",
       "0           1028 2017-04-08 19:00:26\n",
       "1           1186 2017-04-08 18:05:13\n",
       "2           1195 2017-04-05 20:15:59\n",
       "3           1197 2017-04-01 17:16:28\n",
       "4           3647 2017-06-01 15:48:13\n",
       "...          ...                 ...\n",
       "20147    9997114 2017-04-14 20:17:02\n",
       "20148    9997125 2017-04-16 08:39:45\n",
       "20149    9997391 2017-04-05 15:38:45\n",
       "20150    9997470 2017-05-09 16:38:34\n",
       "20151    9998346 2017-03-29 15:29:55\n",
       "\n",
       "[20152 rows x 2 columns]"
      ]
     },
     "execution_count": 80,
     "metadata": {},
     "output_type": "execute_result"
    }
   ],
   "source": [
    "step1_test_data_control"
   ]
  },
  {
   "cell_type": "code",
   "execution_count": 81,
   "id": "f6a91241-fec4-49f6-9fda-35c3ad3fa4bf",
   "metadata": {},
   "outputs": [],
   "source": [
    "step_1_time_control = subtract_date_column(step1_test_data_control, start_control_data)"
   ]
  },
  {
   "cell_type": "code",
   "execution_count": 82,
   "id": "937e209e-4560-48d6-b382-9d2647b9e1f1",
   "metadata": {},
   "outputs": [
    {
     "data": {
      "text/html": [
       "<div>\n",
       "<style scoped>\n",
       "    .dataframe tbody tr th:only-of-type {\n",
       "        vertical-align: middle;\n",
       "    }\n",
       "\n",
       "    .dataframe tbody tr th {\n",
       "        vertical-align: top;\n",
       "    }\n",
       "\n",
       "    .dataframe thead th {\n",
       "        text-align: right;\n",
       "    }\n",
       "</style>\n",
       "<table border=\"1\" class=\"dataframe\">\n",
       "  <thead>\n",
       "    <tr style=\"text-align: right;\">\n",
       "      <th></th>\n",
       "      <th>time_step_z</th>\n",
       "    </tr>\n",
       "  </thead>\n",
       "  <tbody>\n",
       "    <tr>\n",
       "      <th>0</th>\n",
       "      <td>0 days 00:08:58</td>\n",
       "    </tr>\n",
       "    <tr>\n",
       "      <th>1</th>\n",
       "      <td>0 days 00:00:11</td>\n",
       "    </tr>\n",
       "    <tr>\n",
       "      <th>2</th>\n",
       "      <td>0 days 00:00:33</td>\n",
       "    </tr>\n",
       "    <tr>\n",
       "      <th>3</th>\n",
       "      <td>0 days 00:00:04</td>\n",
       "    </tr>\n",
       "    <tr>\n",
       "      <th>4</th>\n",
       "      <td>-1 days +23:46:50</td>\n",
       "    </tr>\n",
       "    <tr>\n",
       "      <th>...</th>\n",
       "      <td>...</td>\n",
       "    </tr>\n",
       "    <tr>\n",
       "      <th>20077</th>\n",
       "      <td>0 days 00:00:29</td>\n",
       "    </tr>\n",
       "    <tr>\n",
       "      <th>20078</th>\n",
       "      <td>0 days 00:00:10</td>\n",
       "    </tr>\n",
       "    <tr>\n",
       "      <th>20079</th>\n",
       "      <td>0 days 00:00:49</td>\n",
       "    </tr>\n",
       "    <tr>\n",
       "      <th>20080</th>\n",
       "      <td>0 days 00:00:02</td>\n",
       "    </tr>\n",
       "    <tr>\n",
       "      <th>20081</th>\n",
       "      <td>0 days 00:04:55</td>\n",
       "    </tr>\n",
       "  </tbody>\n",
       "</table>\n",
       "<p>20082 rows × 1 columns</p>\n",
       "</div>"
      ],
      "text/plain": [
       "            time_step_z\n",
       "0       0 days 00:08:58\n",
       "1       0 days 00:00:11\n",
       "2       0 days 00:00:33\n",
       "3       0 days 00:00:04\n",
       "4     -1 days +23:46:50\n",
       "...                 ...\n",
       "20077   0 days 00:00:29\n",
       "20078   0 days 00:00:10\n",
       "20079   0 days 00:00:49\n",
       "20080   0 days 00:00:02\n",
       "20081   0 days 00:04:55\n",
       "\n",
       "[20082 rows x 1 columns]"
      ]
     },
     "execution_count": 82,
     "metadata": {},
     "output_type": "execute_result"
    }
   ],
   "source": [
    "step_1_time_control "
   ]
  },
  {
   "cell_type": "code",
   "execution_count": 83,
   "id": "e19f4b7e-859f-4dc4-9640-0bf71cffc14a",
   "metadata": {},
   "outputs": [],
   "source": [
    "step_1_time_control ['days'] = step_1_time_control ['time_step_z'].dt.days\n",
    "# Convert hours and minutes to seconds and add them to the total seconds\n",
    "step_1_time_control ['seconds'] = step_1_time_control ['time_step_z'].dt.components['hours'] * 3600 + \\\n",
    "                        step_1_time_control ['time_step_z'].dt.components['minutes'] * 60 + \\\n",
    "                        step_1_time_control ['time_step_z'].dt.components['seconds']\n"
   ]
  },
  {
   "cell_type": "code",
   "execution_count": 84,
   "id": "1a28b3cc-1ead-4075-803e-89694a0ca030",
   "metadata": {},
   "outputs": [],
   "source": [
    "#filtering for those took less than one day and one hour\n",
    "filter_step_1_control = step_1_time_control[(step_1_time_control['days'] == 0)]\n",
    "filter_step_1_control = step_1_time_control[(step_1_time_control['seconds'] < 1800)]\n",
    "\n",
    "#mean of time takes from going to start to step1\n",
    "step_1_mean_control = filter_step_1_control[\"seconds\"].mean()\n",
    "\n",
    "#mean of time takes from going to start to step1\n",
    "step_1_std_control = filter_step_1_control[\"seconds\"].std()"
   ]
  },
  {
   "cell_type": "code",
   "execution_count": 85,
   "id": "e6afe9c0-b896-4295-b971-29f38ceeea24",
   "metadata": {},
   "outputs": [
    {
     "data": {
      "text/plain": [
       "53.07391871209115"
      ]
     },
     "execution_count": 85,
     "metadata": {},
     "output_type": "execute_result"
    }
   ],
   "source": [
    "step_1_mean_control"
   ]
  },
  {
   "cell_type": "code",
   "execution_count": 86,
   "id": "05fa4230-7237-4661-b44d-2ed88e0b405c",
   "metadata": {},
   "outputs": [
    {
     "data": {
      "text/plain": [
       "121.14556367006901"
      ]
     },
     "execution_count": 86,
     "metadata": {},
     "output_type": "execute_result"
    }
   ],
   "source": [
    "step_1_std_control"
   ]
  },
  {
   "cell_type": "code",
   "execution_count": 231,
   "id": "11adc6d8-da06-4395-a92d-85da54f211a2",
   "metadata": {},
   "outputs": [],
   "source": [
    "filter_step_1_control_error = step_1_time_control[(step_1_time_control['days'] < 0)]\n"
   ]
  },
  {
   "cell_type": "code",
   "execution_count": 322,
   "id": "9b24b49a-33ca-4c36-96a3-66a34a4b85e4",
   "metadata": {},
   "outputs": [],
   "source": [
    "error_step_1_control = round((filter_step_1_control_error[\"days\"].count() / step_1_time_control[\"days\"].count())* 100,2)"
   ]
  },
  {
   "cell_type": "code",
   "execution_count": 323,
   "id": "7106f989-53ec-447d-aa28-7262b2212e49",
   "metadata": {},
   "outputs": [
    {
     "data": {
      "text/plain": [
       "12.1"
      ]
     },
     "execution_count": 323,
     "metadata": {},
     "output_type": "execute_result"
    }
   ],
   "source": [
    "error_step_1_control"
   ]
  },
  {
   "cell_type": "code",
   "execution_count": 324,
   "id": "6501b350-2a68-4636-8bda-542d9ab1be79",
   "metadata": {},
   "outputs": [],
   "source": [
    "porpotion_error_step_1_control=filter_step_1_control_error[\"days\"].count() / step_1_time_control[\"days\"].count()"
   ]
  },
  {
   "cell_type": "code",
   "execution_count": 87,
   "id": "eb68081c-c741-448b-aad4-5ac3e45b626a",
   "metadata": {},
   "outputs": [],
   "source": [
    "#filter by process step \"step2\" \n",
    "\n",
    "filtered_data_step2_control = control_test_1[control_test_1['process_step_n'] == \"3\"]\n",
    "\n",
    "#creating new df for all the values of \"step2\"\n",
    "\n",
    "step2_test_data_control = filtered_data_step2_control.groupby('client_id').first()[[\"visit_id\", 'date_time']]\n",
    "\n",
    "# Reset index to make 'client_id' a column again\n",
    "step2_test_data_control = step2_test_data_control.reset_index()\n"
   ]
  },
  {
   "cell_type": "code",
   "execution_count": 88,
   "id": "d6e5be58-bb36-4ecf-a70a-9dfcd710a8f0",
   "metadata": {},
   "outputs": [],
   "source": [
    "step_2_time_control = subtract_date_column(step2_test_data_control, step1_test_data_control)\n"
   ]
  },
  {
   "cell_type": "code",
   "execution_count": 89,
   "id": "3db08e65-90af-4b48-adbc-5d5e81eabf14",
   "metadata": {},
   "outputs": [],
   "source": [
    "step_2_time_control ['days'] = step_2_time_control ['time_step_z'].dt.days\n",
    "# Convert hours and minutes to seconds and add them to the total seconds\n",
    "step_2_time_control ['seconds'] = step_2_time_control ['time_step_z'].dt.components['hours'] * 3600 + \\\n",
    "                        step_2_time_control ['time_step_z'].dt.components['minutes'] * 60 + \\\n",
    "                        step_2_time_control ['time_step_z'].dt.components['seconds']\n"
   ]
  },
  {
   "cell_type": "code",
   "execution_count": 90,
   "id": "1179edd7-6038-4696-9bd3-9625b17f7dac",
   "metadata": {},
   "outputs": [],
   "source": [
    "#filtering for those took less than one day\n",
    "filter_step_2_control = step_2_time_control[(step_2_time_control['days'] == 0)]\n",
    "filter_step_2_control = step_2_time_control[(step_2_time_control['seconds'] < 1800)]\n",
    "\n",
    "#mean of time takes from going to step1 to step2\n",
    "step_2_mean_control = filter_step_2_control[\"seconds\"].mean()\n",
    "\n",
    "#mean of time takes from going to step1 to step2\n",
    "step_2_std_control =filter_step_2_control[\"seconds\"].std()"
   ]
  },
  {
   "cell_type": "code",
   "execution_count": 298,
   "id": "cfc5817c-ae30-4d1a-b13e-a95c2f532af6",
   "metadata": {},
   "outputs": [],
   "source": [
    "filter_step_2_control_error = step_2_time_control[(step_2_time_control['days'] < 0)]\n",
    "error_step_2_control = round((filter_step_2_control_error[\"days\"].count() / step_2_time_control[\"days\"].count())*100,2)"
   ]
  },
  {
   "cell_type": "code",
   "execution_count": 299,
   "id": "28f2dcc3-a319-4fc2-b49a-b198cc8b4fe8",
   "metadata": {},
   "outputs": [
    {
     "data": {
      "text/plain": [
       "9.31"
      ]
     },
     "execution_count": 299,
     "metadata": {},
     "output_type": "execute_result"
    }
   ],
   "source": [
    "error_step_2_control"
   ]
  },
  {
   "cell_type": "code",
   "execution_count": 325,
   "id": "0e10b8af-89fc-42e6-99cc-4204d25d5e28",
   "metadata": {},
   "outputs": [],
   "source": [
    "porpotion_error_step_2_control=filter_step_2_control_error[\"days\"].count() / step_2_time_control[\"days\"].count()"
   ]
  },
  {
   "cell_type": "code",
   "execution_count": 91,
   "id": "42a91d83-ef5c-4d77-b5b0-cf5917adbbac",
   "metadata": {},
   "outputs": [
    {
     "data": {
      "text/plain": [
       "53.16642068599091"
      ]
     },
     "execution_count": 91,
     "metadata": {},
     "output_type": "execute_result"
    }
   ],
   "source": [
    "step_2_mean_control"
   ]
  },
  {
   "cell_type": "code",
   "execution_count": 92,
   "id": "0097594a-f380-41e6-8d06-5a505771e5af",
   "metadata": {},
   "outputs": [
    {
     "data": {
      "text/plain": [
       "104.30302838289654"
      ]
     },
     "execution_count": 92,
     "metadata": {},
     "output_type": "execute_result"
    }
   ],
   "source": [
    "step_2_std_control"
   ]
  },
  {
   "cell_type": "code",
   "execution_count": 93,
   "id": "d55dcb64-6c46-4d54-9d39-4da029562fd5",
   "metadata": {},
   "outputs": [],
   "source": [
    "#filter by process step \"step3\" in control\n",
    "\n",
    "filtered_data_step3_control = control_test_1[control_test_1['process_step_n'] == \"4\"]\n",
    "\n",
    "#creating new df for all the values of \"step3\"\n",
    "\n",
    "step3_test_data_control = filtered_data_step3_control.groupby('client_id').first()[[\"visit_id\", 'date_time']]\n",
    "\n",
    "# Reset index to make 'client_id' a column again\n",
    "step3_test_data_control = step3_test_data_control.reset_index()"
   ]
  },
  {
   "cell_type": "code",
   "execution_count": 94,
   "id": "469155fa-f5b3-4f43-9379-c8eaa22ba3f8",
   "metadata": {},
   "outputs": [],
   "source": [
    "step_3_time_control = subtract_date_column(step3_test_data_control, step2_test_data_control)"
   ]
  },
  {
   "cell_type": "code",
   "execution_count": 95,
   "id": "dd861174-96cc-4720-b44d-03a1abf25070",
   "metadata": {},
   "outputs": [],
   "source": [
    "step_3_time_control ['days'] = step_3_time_control ['time_step_z'].dt.days\n",
    "# Convert hours and minutes to seconds and add them to the total seconds\n",
    "step_3_time_control ['seconds'] = step_3_time_control ['time_step_z'].dt.components['hours'] * 3600 + \\\n",
    "                        step_3_time_control ['time_step_z'].dt.components['minutes'] * 60 + \\\n",
    "                        step_3_time_control ['time_step_z'].dt.components['seconds']\n",
    "\n",
    "\n",
    "#filtering for those took less than one day\n",
    "filter_step_3_control = step_3_time_control[(step_3_time_control['days'] == 0)]\n",
    "filter_step_3_control = step_3_time_control[(step_3_time_control['seconds'] < 1800)]\n",
    "\n",
    "#mean of time takes from going to step2 to step3\n",
    "step_3_mean_control = filter_step_3_control[\"seconds\"].mean()\n",
    "\n",
    "#mean of time takes from going to step2 to step3\n",
    "step_3_std_control = filter_step_3_control[\"seconds\"].std()"
   ]
  },
  {
   "cell_type": "code",
   "execution_count": 300,
   "id": "f8d8ee4e-1b0e-44c8-96d7-642065f63861",
   "metadata": {},
   "outputs": [],
   "source": [
    "filter_step_3_control_error = step_3_time_control[(step_3_time_control['days'] < 0)]\n",
    "error_step_3_control = round((filter_step_3_control_error[\"days\"].count() / step_3_time_control[\"days\"].count()) *100,2)"
   ]
  },
  {
   "cell_type": "code",
   "execution_count": 301,
   "id": "f206c048-3808-4dd8-85e9-550fc7bd285d",
   "metadata": {},
   "outputs": [
    {
     "data": {
      "text/plain": [
       "1.55"
      ]
     },
     "execution_count": 301,
     "metadata": {},
     "output_type": "execute_result"
    }
   ],
   "source": [
    "error_step_3_control"
   ]
  },
  {
   "cell_type": "code",
   "execution_count": 326,
   "id": "442d93b1-3c54-41da-b1e0-c2d6d64b4d3f",
   "metadata": {},
   "outputs": [],
   "source": [
    "porpotion_error_step_3_control=filter_step_3_control_error[\"days\"].count() / step_3_time_control[\"days\"].count()"
   ]
  },
  {
   "cell_type": "code",
   "execution_count": 96,
   "id": "acb41d26-29a4-4c04-9372-b0dd6b12a36d",
   "metadata": {},
   "outputs": [
    {
     "data": {
      "text/plain": [
       "97.58430198426676"
      ]
     },
     "execution_count": 96,
     "metadata": {},
     "output_type": "execute_result"
    }
   ],
   "source": [
    "step_3_mean_control"
   ]
  },
  {
   "cell_type": "code",
   "execution_count": 97,
   "id": "67f98564-f294-4186-91ba-a9a29ce50957",
   "metadata": {},
   "outputs": [
    {
     "data": {
      "text/plain": [
       "116.38479498571134"
      ]
     },
     "execution_count": 97,
     "metadata": {},
     "output_type": "execute_result"
    }
   ],
   "source": [
    "step_3_std_control"
   ]
  },
  {
   "cell_type": "code",
   "execution_count": 98,
   "id": "749ceec5-f657-4ee6-b480-563f6e8a868f",
   "metadata": {},
   "outputs": [],
   "source": [
    "#filter by process step \"confirm\" in control\n",
    "\n",
    "filtered_data_confirm_control = control_test_1[control_test_1['process_step_n'] == \"5\"]\n",
    "\n",
    "#creating new df for all the values of \"confirm\"\n",
    "\n",
    "confirm_test_data_control = filtered_data_confirm_control.groupby('client_id').first()[[\"visit_id\", 'date_time', \"clnt_tenure_yr\"]]\n",
    "\n",
    "# Reset index to make 'client_id' a column again\n",
    "confirm_test_data_control = confirm_test_data_control.reset_index()\n"
   ]
  },
  {
   "cell_type": "code",
   "execution_count": 99,
   "id": "c263c91a-6e1d-42da-98fb-35544af95f61",
   "metadata": {},
   "outputs": [
    {
     "data": {
      "text/plain": [
       "count    15434.000000\n",
       "mean        12.044577\n",
       "std          6.895163\n",
       "min          2.000000\n",
       "25%          6.000000\n",
       "50%         11.000000\n",
       "75%         16.000000\n",
       "max         55.000000\n",
       "Name: clnt_tenure_yr, dtype: float64"
      ]
     },
     "execution_count": 99,
     "metadata": {},
     "output_type": "execute_result"
    }
   ],
   "source": [
    "confirm_test_data_control[\"clnt_tenure_yr\"].describe()"
   ]
  },
  {
   "cell_type": "code",
   "execution_count": 100,
   "id": "a8ddaac0-b684-45ef-b721-2fa4f5d21c74",
   "metadata": {},
   "outputs": [],
   "source": [
    "step_confirm_time_control = subtract_date_column(confirm_test_data_control, step3_test_data_control)\n"
   ]
  },
  {
   "cell_type": "code",
   "execution_count": 101,
   "id": "29e442f6-9329-4296-b595-15eb8958c172",
   "metadata": {},
   "outputs": [],
   "source": [
    "step_confirm_time_control  ['days'] = step_confirm_time_control  ['time_step_z'].dt.days\n",
    "# Convert hours and minutes to seconds and add them to the total seconds\n",
    "step_confirm_time_control  ['seconds'] = step_confirm_time_control  ['time_step_z'].dt.components['hours'] * 3600 + \\\n",
    "                        step_confirm_time_control  ['time_step_z'].dt.components['minutes'] * 60 + \\\n",
    "                        step_confirm_time_control  ['time_step_z'].dt.components['seconds']\n"
   ]
  },
  {
   "cell_type": "code",
   "execution_count": 102,
   "id": "e7d955f4-b5fa-455b-93d7-0a5a1ab8607d",
   "metadata": {},
   "outputs": [],
   "source": [
    "#filtering for those took less than one day\n",
    "filter_confirm_control = step_confirm_time_control[(step_confirm_time_control['days'] == 0)]\n",
    "\n",
    "filter_confirm_control = step_confirm_time_control[(step_confirm_time_control['seconds'] < 1800)]\n",
    "\n",
    "#mean of time takes from going to step2 to step3\n",
    "step_confirm_mean_control = filter_confirm_control[\"seconds\"].mean()\n",
    "\n",
    "#mean of time takes from going to step2 to step3\n",
    "step_confirm_std_control = filter_confirm_control[\"seconds\"].std()"
   ]
  },
  {
   "cell_type": "code",
   "execution_count": 302,
   "id": "a1645815-8d87-4500-a73a-7fb683cb9328",
   "metadata": {},
   "outputs": [],
   "source": [
    "filter_confirm_control_error = step_confirm_time_control[(step_confirm_time_control['days'] < 0)]\n",
    "error_confirm_control = round((filter_confirm_control_error[\"days\"].count() / step_confirm_time_control[\"days\"].count())*100,2)"
   ]
  },
  {
   "cell_type": "code",
   "execution_count": 303,
   "id": "2b616280-b5ed-472e-8f5f-c4f10b58fbaf",
   "metadata": {},
   "outputs": [
    {
     "data": {
      "text/plain": [
       "0.03"
      ]
     },
     "execution_count": 303,
     "metadata": {},
     "output_type": "execute_result"
    }
   ],
   "source": [
    "error_confirm_control"
   ]
  },
  {
   "cell_type": "code",
   "execution_count": 334,
   "id": "351d03b5-4a59-4ddf-97d3-09e5cb40579c",
   "metadata": {},
   "outputs": [],
   "source": [
    "propotion_error_confirm_control = filter_confirm_control_error[\"days\"].count() / step_confirm_time_control[\"days\"].count()"
   ]
  },
  {
   "cell_type": "code",
   "execution_count": 103,
   "id": "39d65b3f-8245-4a8e-a2fe-8c14017c6b63",
   "metadata": {},
   "outputs": [
    {
     "data": {
      "text/plain": [
       "133.25762780359668"
      ]
     },
     "execution_count": 103,
     "metadata": {},
     "output_type": "execute_result"
    }
   ],
   "source": [
    "step_confirm_mean_control "
   ]
  },
  {
   "cell_type": "code",
   "execution_count": 104,
   "id": "c616f235-d138-4a32-8a51-760403d0ec54",
   "metadata": {},
   "outputs": [],
   "source": [
    "confirm_control_age = filtered_data_start_control.groupby('client_id').first()[[\"visit_id\", 'date_time', \"clnt_age\"]]\n",
    "confirm_control_age = confirm_control_age.reset_index()"
   ]
  },
  {
   "cell_type": "code",
   "execution_count": 105,
   "id": "0285178c-0187-4966-9902-bbf641c9be24",
   "metadata": {},
   "outputs": [
    {
     "data": {
      "text/plain": [
       "47.49"
      ]
     },
     "execution_count": 105,
     "metadata": {},
     "output_type": "execute_result"
    }
   ],
   "source": [
    "round(confirm_control_age[\"clnt_age\"].mean(),2)"
   ]
  },
  {
   "cell_type": "code",
   "execution_count": 106,
   "id": "3b989600-617d-4b1e-a899-1d6a6aa206d9",
   "metadata": {},
   "outputs": [
    {
     "data": {
      "image/png": "[encoded data removed]",
      "text/plain": [
       "<Figure size 1000x600 with 1 Axes>"
      ]
     },
     "metadata": {},
     "output_type": "display_data"
    }
   ],
   "source": [
    "import matplotlib.pyplot as plt\n",
    "import numpy as np\n",
    "\n",
    "# List of means and standard deviations\n",
    "step_means_control = [step_1_mean_control, step_2_mean_control, step_3_mean_control, step_confirm_mean_control]\n",
    "step_stds_control = [step_1_std_control, step_2_std_control, step_3_std_control, step_confirm_std_control]\n",
    "steps = ['step1', 'step2', 'step3', 'confirm']\n",
    "\n",
    "# Create the bar plot\n",
    "x_pos = np.arange(len(steps))\n",
    "plt.figure(figsize=(10, 6))\n",
    "\n",
    "# Define asymmetric error bars: no error below, std above\n",
    "error_bars = [0, 0, 0, 0], step_stds\n",
    "\n",
    "plt.bar(x_pos, step_means_control, yerr=error_bars, capsize=5, alpha=0.7, color='green')\n",
    "\n",
    "# Add labels and title\n",
    "plt.xlabel('Process Step')\n",
    "plt.ylabel('Time (seconds)')\n",
    "plt.title('Mean and Standard Deviation of Time Spent on Each Step')\n",
    "plt.xticks(x_pos, steps)\n",
    "plt.show()"
   ]
  },
  {
   "cell_type": "code",
   "execution_count": 107,
   "id": "a5af0129-a430-4c4b-b0ff-38c56c341d28",
   "metadata": {},
   "outputs": [
    {
     "data": {
      "image/png": "[encoded data removed]",
      "text/plain": [
       "<Figure size 1000x600 with 1 Axes>"
      ]
     },
     "metadata": {},
     "output_type": "display_data"
    }
   ],
   "source": [
    "import numpy as np\n",
    "import matplotlib.pyplot as plt\n",
    "\n",
    "# Control group data\n",
    "step_means_control = [step_1_mean_control, step_2_mean_control, step_3_mean_control, step_confirm_mean_control]\n",
    "step_stds_control = [step_1_std_control, step_2_std_control, step_3_std_control, step_confirm_std_control]\n",
    "\n",
    "# Test group data\n",
    "step_means = [step_1_mean, step_2_mean, step_3_mean, step_confirm_mean]\n",
    "step_stds = [step_1_std, step_2_std, step_3_std, step_confirm_std]\n",
    "\n",
    "steps = ['step1', 'step2', 'step3', 'confirm']\n",
    "x_pos = np.arange(len(steps))\n",
    "\n",
    "# Create the bar plot\n",
    "plt.figure(figsize=(10, 6))\n",
    "\n",
    "# Define asymmetric error bars: no error below, std above\n",
    "error_bars_control = [0, 0, 0, 0], step_stds_control\n",
    "error_bars_test = [0, 0, 0, 0], step_stds\n",
    "\n",
    "# Plot for control group\n",
    "plt.bar(x_pos - 0.2, step_means_control, yerr=error_bars_control, capsize=5, alpha=0.7, color='green', width=0.4, label='Control Group')\n",
    "\n",
    "# Plot for test group\n",
    "plt.bar(x_pos + 0.2, step_means, yerr=error_bars_test, capsize=5 , color='#976255', width=0.4, label='Test Group')\n",
    "\n",
    "# Add labels and title\n",
    "plt.xlabel('Process Step')\n",
    "plt.ylabel('Time (seconds)')\n",
    "plt.title('Mean and Standard Deviation of Time Spent on Each Step')\n",
    "plt.xticks(x_pos, steps)\n",
    "plt.legend()\n",
    "\n",
    "# Show the plot\n",
    "plt.show()\n"
   ]
  },
  {
   "cell_type": "code",
   "execution_count": 108,
   "id": "97b3ef54-6e73-4179-a4c7-e208e0171992",
   "metadata": {},
   "outputs": [
    {
     "data": {
      "image/png": "[encoded data removed]",
      "text/plain": [
       "<Figure size 1000x600 with 1 Axes>"
      ]
     },
     "metadata": {
      "needs_background": "light"
     },
     "output_type": "display_data"
    }
   ],
   "source": [
    "import numpy as np\n",
    "import matplotlib.pyplot as plt\n",
    "\n",
    "# Control group data\n",
    "step_means_control = [step_1_mean_control, step_2_mean_control, step_3_mean_control, step_confirm_mean_control]\n",
    "step_stds_control = [step_1_std_control, step_2_std_control, step_3_std_control, step_confirm_std_control]\n",
    "\n",
    "# Test group data\n",
    "step_means = [step_1_mean, step_2_mean, step_3_mean, step_confirm_mean]\n",
    "step_stds = [step_1_std, step_2_std, step_3_std, step_confirm_std]\n",
    "\n",
    "steps = ['step1', 'step2', 'step3', 'confirm']\n",
    "x_pos = np.arange(len(steps))\n",
    "\n",
    "# Create the bar plot\n",
    "plt.figure(figsize=(10, 6))\n",
    "\n",
    "# Define asymmetric error bars: no error below, std above\n",
    "error_bars_control = [0, 0, 0, 0], step_stds_control\n",
    "error_bars_test = [0, 0, 0, 0], step_stds\n",
    "\n",
    "# Plot for control group\n",
    "plt.bar(x_pos - 0.2, step_means_control, yerr=error_bars_control, capsize=5, alpha=0.7, color='darkgreen', width=0.4, label='Control Group')\n",
    "\n",
    "# Plot for test group\n",
    "plt.bar(x_pos + 0.2, step_means, yerr=error_bars_test, capsize=5, color='#976255', width=0.4, label='Test Group')\n",
    "\n",
    "# Add labels and title\n",
    "plt.xlabel('Process Step')\n",
    "plt.ylabel('Time (seconds)')\n",
    "#plt.title('Mean and Standard Deviation of Time Spent on Each Step')\n",
    "plt.xticks(x_pos, steps)\n",
    "plt.legend()\n",
    "\n",
    "# Remove gridlines and spines\n",
    "plt.grid(False)\n",
    "plt.gca().spines['top'].set_visible(False)\n",
    "plt.gca().spines['right'].set_visible(False)\n",
    "plt.gca().spines['left'].set_visible(True)\n",
    "plt.gca().spines['bottom'].set_visible(True)\n",
    "\n",
    "# Make background transparent\n",
    "plt.gcf().patch.set_facecolor('None')\n",
    "\n",
    "plt.savefig(os.path.join(save_path, 'Mean and Standard Deviation(controlvstest).png'), dpi=300, bbox_inches='tight', transparent=True)\n",
    "\n",
    "\n",
    "# Show the plot\n",
    "plt.show()\n"
   ]
  },
  {
   "cell_type": "code",
   "execution_count": 109,
   "id": "d4911e07-9e6b-4334-9a81-32bf0a922f75",
   "metadata": {},
   "outputs": [],
   "source": [
    "#calculating the propotion of confirms for \"test\"\n",
    "\n",
    "\n",
    "x_test = tested.copy()\n",
    "y_test = tested.copy()\n",
    "\n",
    "x_test = x_test[x_test[\"process_step_n\"] == \"5\"]\n",
    "percentage_test = x_test.drop_duplicates(subset=['client_id'], keep='first')\n",
    "\n",
    "y_test = y_test.drop_duplicates(subset=['client_id'], keep='first')\n",
    "\n",
    "sum_drop_test = percentage_test.value_counts().sum()\n",
    "sum_confirms_test = y_test.value_counts().sum()\n",
    "\n",
    "proportion_confirm_test = round((sum_drop_test / sum_confirms_test)*100, 2)"
   ]
  },
  {
   "cell_type": "code",
   "execution_count": 110,
   "id": "efa5198b-6990-45de-aac5-1f3b1f8ec2d0",
   "metadata": {},
   "outputs": [],
   "source": [
    "proportion_confirm_test_1 = round((sum_drop_test / sum_confirms_test), 2)"
   ]
  },
  {
   "cell_type": "code",
   "execution_count": 111,
   "id": "959f5d08-a4ce-4c6d-8c18-b6c3917f71c1",
   "metadata": {},
   "outputs": [
    {
     "data": {
      "text/plain": [
       "0.69"
      ]
     },
     "execution_count": 111,
     "metadata": {},
     "output_type": "execute_result"
    }
   ],
   "source": []
  },
  {
   "cell_type": "code",
   "execution_count": 112,
   "id": "9f3d7d8e-3aa3-4e40-90d7-7923ffb37c47",
   "metadata": {},
   "outputs": [],
   "source": [
    "#calculating the propotion of confirms for \"control\"\n"
   ]
  },
  {
   "cell_type": "code",
   "execution_count": 113,
   "id": "08e84f95-25ed-48e6-a0e7-c1e4ee94f9d7",
   "metadata": {},
   "outputs": [],
   "source": [
    "drop_control = control_test_1.copy()"
   ]
  },
  {
   "cell_type": "code",
   "execution_count": 114,
   "id": "c116546a-8b5e-4dd4-bc42-aaf86879173b",
   "metadata": {},
   "outputs": [],
   "source": [
    "x = drop_control[drop_control[\"process_step_n\"] == \"5\"]\n",
    "x_drop = x.drop_duplicates(subset=['client_id'], keep='first')\n",
    "\n",
    "y = drop_control.drop_duplicates(subset=[\"client_id\"], keep =\"first\")\n",
    "\n",
    "sum_x = x_drop.value_counts().sum()\n",
    "sum_y = y.value_counts().sum()\n",
    "\n",
    "proportion_confirm_control = round((sum_x/sum_y )*100, 2)"
   ]
  },
  {
   "cell_type": "code",
   "execution_count": 115,
   "id": "94d94131-1ea2-4d50-b021-cb1f0afe70c9",
   "metadata": {},
   "outputs": [
    {
     "data": {
      "text/plain": [
       "15428"
      ]
     },
     "execution_count": 115,
     "metadata": {},
     "output_type": "execute_result"
    }
   ],
   "source": [
    "x_drop.value_counts().sum()"
   ]
  },
  {
   "cell_type": "code",
   "execution_count": 116,
   "id": "0434548f-81cb-4dc5-9768-62013fc86109",
   "metadata": {},
   "outputs": [],
   "source": [
    "proportion_confirm_control_1 = round((sum_x/sum_y ), 2)"
   ]
  },
  {
   "cell_type": "code",
   "execution_count": 117,
   "id": "b2242fd1-2657-4f25-8356-88b5129ab784",
   "metadata": {},
   "outputs": [
    {
     "data": {
      "text/plain": [
       "0.66"
      ]
     },
     "execution_count": 117,
     "metadata": {},
     "output_type": "execute_result"
    }
   ],
   "source": [
    "proportion_confirm_control_1"
   ]
  },
  {
   "cell_type": "code",
   "execution_count": 118,
   "id": "06702023-5404-4e9b-9829-8be935190e31",
   "metadata": {},
   "outputs": [
    {
     "data": {
      "text/plain": [
       "65.58"
      ]
     },
     "execution_count": 118,
     "metadata": {},
     "output_type": "execute_result"
    }
   ],
   "source": [
    "proportion_confirm_control "
   ]
  },
  {
   "cell_type": "code",
   "execution_count": 119,
   "id": "69519abd-9e4f-492d-b074-18fcff15c45a",
   "metadata": {},
   "outputs": [
    {
     "data": {
      "image/png": "[encoded data removed]",
      "text/plain": [
       "<Figure size 800x500 with 1 Axes>"
      ]
     },
     "metadata": {},
     "output_type": "display_data"
    }
   ],
   "source": [
    "import matplotlib.pyplot as plt\n",
    "\n",
    "# Data\n",
    "categories = ['Control', 'Test']\n",
    "values = [proportion_confirm_control, proportion_confirm_test]\n",
    "\n",
    "# Create the bar graph\n",
    "plt.figure(figsize=(8, 5))\n",
    "plt.bar(categories, values, color=['darkgreen', '#800000'])\n",
    "plt.xlabel('Group')\n",
    "plt.ylabel('Percentage')\n",
    "plt.title('Comparison of Confirmation Proportions')\n",
    "plt.ylim(0, 100)  # Setting the y-axis limit from 0 to 100 for better visualization\n",
    "\n",
    "# Display the percentage value on top of each bar\n",
    "for i, v in enumerate(values):\n",
    "    plt.text(i, v + 1, f\"{v}%\", ha='center', fontweight='normal')\n",
    "\n",
    "\n",
    "# Show the plot\n",
    "plt.show()\n"
   ]
  },
  {
   "cell_type": "code",
   "execution_count": 121,
   "id": "8487e744-bc85-4cd8-ab5d-8b9201ff755a",
   "metadata": {},
   "outputs": [
    {
     "name": "stdout",
     "output_type": "stream",
     "text": [
      "Test statistic (z): -5.894563830033553\n",
      "P-value: 3.756723598868916e-09\n",
      "Reject the null hypothesis: There is a significant difference between the two proportions.\n"
     ]
    }
   ],
   "source": [
    "# Applying a two-proportion z-test.This test compares two population proportions to see if they are significantly different from each other.\n",
    "\n",
    "import scipy.stats as stats\n",
    "\n",
    "# Example data (replace with your actual data)\n",
    "p1 = proportion_confirm_control_1  # proportion of control group reaching the last step\n",
    "p2 = proportion_confirm_test_1\n",
    "n1 = sum_x   # sample size of control group\n",
    "n2 = sum_drop_test   # sample size of test group\n",
    "\n",
    "# Number of successes\n",
    "x1 = p1 * n1\n",
    "x2 = p2 * n2\n",
    "\n",
    "# Pooled proportion\n",
    "p_pool = (x1 + x2) / (n1 + n2)\n",
    "\n",
    "# Standard error\n",
    "se = np.sqrt(p_pool * (1 - p_pool) * (1/n1 + 1/n2))\n",
    "\n",
    "# Test statistic\n",
    "z = (p1 - p2) / se\n",
    "\n",
    "# P-value\n",
    "p_value = 2 * (1 - stats.norm.cdf(abs(z)))\n",
    "\n",
    "# Output results\n",
    "print(f\"Test statistic (z): {z}\")\n",
    "print(f\"P-value: {p_value}\")\n",
    "\n",
    "# Conclusion\n",
    "alpha = 0.05\n",
    "if p_value < alpha:\n",
    "    print(\"Reject the null hypothesis: There is a significant difference between the two proportions.\")\n",
    "else:\n",
    "    print(\"Fail to reject the null hypothesis: There is no significant difference between the two proportions.\")\n"
   ]
  },
  {
   "cell_type": "code",
   "execution_count": 122,
   "id": "e2926e23-9220-4e55-a644-9774b0eb254a",
   "metadata": {},
   "outputs": [
    {
     "name": "stdout",
     "output_type": "stream",
     "text": [
      "133.25762780359668\n",
      "128.823415225963\n"
     ]
    }
   ],
   "source": [
    "print(filter_confirm_control[\"seconds\"].mean())\n",
    "print(filter_confirm[\"seconds\"].mean())"
   ]
  },
  {
   "cell_type": "code",
   "execution_count": 123,
   "id": "69386115-f50d-46e4-ac5c-33f4c2084c37",
   "metadata": {},
   "outputs": [
    {
     "name": "stdout",
     "output_type": "stream",
     "text": [
      "Independent t-test results:\n",
      "T-statistic: 2.1425929974537907\n",
      "P-value: 0.032153511138374676\n",
      "Reject the null hypothesis. There is a significant difference.\n"
     ]
    },
    {
     "data": {
      "text/plain": [
       "' Conclusion:\\nSince the t-statistic is positive, it suggests that the mean time for the confirm step in the control group is indeed higher than the mean time for the confirm step in the test group.\\nThus, the control group takes significantly longer on average to perform the confirm step compared to the test group.\\n'"
      ]
     },
     "execution_count": 123,
     "metadata": {},
     "output_type": "execute_result"
    }
   ],
   "source": [
    "#test t for comparison beteween CONFIRM in control and CONFIRM in test. \n",
    "\n",
    "from scipy import stats\n",
    "\n",
    "# Calculate mean values for each group\n",
    "mean_control = filter_confirm_control[\"seconds\"].mean()\n",
    "mean_test = filter_confirm[\"seconds\"].mean()\n",
    "\n",
    "# Perform independent t-test\n",
    "t_statistic, p_value = stats.ttest_ind(filter_confirm_control[\"seconds\"], filter_confirm[\"seconds\"], equal_var=False)\n",
    "\n",
    "# Output the results\n",
    "print(\"Independent t-test results:\")\n",
    "print(\"T-statistic:\", t_statistic)\n",
    "print(\"P-value:\", p_value)\n",
    "\n",
    "# Check for statistical significance (using alpha = 0.05)\n",
    "alpha = 0.05\n",
    "if p_value < alpha:\n",
    "    print(\"Reject the null hypothesis. There is a significant difference.\")\n",
    "else:\n",
    "    print(\"Fail to reject the null hypothesis. There is no significant difference.\")\n",
    "\n",
    "\"\"\" Conclusion:\n",
    "Since the t-statistic is positive, it suggests that the mean time for the confirm step in the control group is indeed higher than the mean time for the confirm step in the test group.\n",
    "Thus, the control group takes significantly longer on average to perform the confirm step compared to the test group.\n",
    "\"\"\"\n"
   ]
  },
  {
   "cell_type": "code",
   "execution_count": 124,
   "id": "2881c699-49d0-456b-9332-87c01f09e1e1",
   "metadata": {},
   "outputs": [
    {
     "name": "stdout",
     "output_type": "stream",
     "text": [
      "Independent t-test results:\n",
      "T-statistic: 7.422602155329982\n",
      "P-value: 1.173298379582298e-13\n",
      "Reject the null hypothesis. There is a significant difference.\n"
     ]
    }
   ],
   "source": [
    "#test t for comparison beteween step1 in control and step1 in test. \n",
    "\n",
    "from scipy import stats\n",
    "\n",
    "# Calculate mean values for each group\n",
    "mean_control = filter_step_1_control[\"seconds\"].mean()\n",
    "mean_test = filter_step_1[\"seconds\"].mean()\n",
    "\n",
    "# Perform independent t-test\n",
    "t_statistic, p_value = stats.ttest_ind(filter_step_1_control[\"seconds\"], filter_step_1[\"seconds\"], equal_var=False)\n",
    "\n",
    "# Output the results\n",
    "print(\"Independent t-test results:\")\n",
    "print(\"T-statistic:\", t_statistic)\n",
    "print(\"P-value:\", p_value)\n",
    "\n",
    "# Check for statistical significance (using alpha = 0.05)\n",
    "alpha = 0.05\n",
    "if p_value < alpha:\n",
    "    print(\"Reject the null hypothesis. There is a significant difference.\")\n",
    "else:\n",
    "    print(\"Fail to reject the null hypothesis. There is no significant difference.\")\n",
    "\n"
   ]
  },
  {
   "cell_type": "code",
   "execution_count": 125,
   "id": "48e606c4-a2c7-40a1-8519-7a8073724c2f",
   "metadata": {},
   "outputs": [
    {
     "name": "stdout",
     "output_type": "stream",
     "text": [
      "Independent t-test results:\n",
      "T-statistic: 6.956482886227313\n",
      "P-value: 3.552532391841653e-12\n",
      "Reject the null hypothesis. There is a significant difference.\n"
     ]
    }
   ],
   "source": [
    "#test t for comparison beteween step2 in control and step2 in test. \n",
    "\n",
    "from scipy import stats\n",
    "\n",
    "# Calculate mean values for each group\n",
    "mean_control = filter_step_2_control[\"seconds\"].mean()\n",
    "mean_test = filter_step_2[\"seconds\"].mean()\n",
    "\n",
    "# Perform independent t-test\n",
    "t_statistic, p_value = stats.ttest_ind(filter_step_2_control[\"seconds\"], filter_step_2[\"seconds\"], equal_var=False)\n",
    "\n",
    "# Output the results\n",
    "print(\"Independent t-test results:\")\n",
    "print(\"T-statistic:\", t_statistic)\n",
    "print(\"P-value:\", p_value)\n",
    "\n",
    "# Check for statistical significance (using alpha = 0.05)\n",
    "alpha = 0.05\n",
    "if p_value < alpha:\n",
    "    print(\"Reject the null hypothesis. There is a significant difference.\")\n",
    "else:\n",
    "    print(\"Fail to reject the null hypothesis. There is no significant difference.\")\n"
   ]
  },
  {
   "cell_type": "code",
   "execution_count": 126,
   "id": "cf762d65-a045-46d9-a176-6f44a8da675b",
   "metadata": {},
   "outputs": [
    {
     "name": "stdout",
     "output_type": "stream",
     "text": [
      "Independent t-test results:\n",
      "T-statistic: 1.8680795901816438\n",
      "P-value: 0.061759216563849355\n",
      "Fail to reject the null hypothesis. There is no significant difference.\n"
     ]
    }
   ],
   "source": [
    "#test t for comparison beteween step3 in control and step3 in test. \n",
    "\n",
    "\n",
    "from scipy import stats\n",
    "\n",
    "# Calculate mean values for each group\n",
    "mean_control = filter_step_3_control[\"seconds\"].mean()\n",
    "mean_test = filter_step_3[\"seconds\"].mean()\n",
    "\n",
    "# Perform independent t-test\n",
    "t_statistic, p_value = stats.ttest_ind(filter_step_3_control[\"seconds\"], filter_step_3[\"seconds\"], equal_var=False)\n",
    "\n",
    "# Output the results\n",
    "print(\"Independent t-test results:\")\n",
    "print(\"T-statistic:\", t_statistic)\n",
    "print(\"P-value:\", p_value)\n",
    "\n",
    "# Check for statistical significance (using alpha = 0.05)\n",
    "alpha = 0.05\n",
    "if p_value < alpha:\n",
    "    print(\"Reject the null hypothesis. There is a significant difference.\")\n",
    "else:\n",
    "    print(\"Fail to reject the null hypothesis. There is no significant difference.\")\n"
   ]
  },
  {
   "cell_type": "code",
   "execution_count": 339,
   "id": "18eb18c8-91a3-4e4e-be66-b7adfcb959cb",
   "metadata": {},
   "outputs": [
    {
     "data": {
      "text/plain": [
       "<matplotlib.legend.Legend at 0x22dbf2410>"
      ]
     },
     "execution_count": 339,
     "metadata": {},
     "output_type": "execute_result"
    },
    {
     "data": {
      "image/png": "[encoded data removed]",
      "text/plain": [
       "<Figure size 640x480 with 1 Axes>"
      ]
     },
     "metadata": {},
     "output_type": "display_data"
    }
   ],
   "source": [
    "# Combine test and control data\n",
    "test_data = [\n",
    "    error_step_1_test, error_step_2_test, error_step_3_test, error_confirm_test\n",
    "] \n",
    "control_data = [\n",
    "    error_step_1_control, error_step_2_control, error_step_3_control, error_confirm_control\n",
    "]\n",
    "\n",
    "# Number of data points\n",
    "num_points = len(test_data)\n",
    "\n",
    "# Width of each bar\n",
    "bar_width = 0.35\n",
    "\n",
    "# x-axis locations for the groups\n",
    "index = np.arange(num_points)\n",
    "\n",
    "# Custom colors\n",
    "control_color = '#006400'  # Dark green\n",
    "test_color = '#976255'     # Maroon\n",
    "\n",
    "# Plotting the bars\n",
    "fig, ax = plt.subplots()\n",
    "bars_control = ax.bar(index, control_data, bar_width, label='Control Data', color=control_color+ '99')\n",
    "bars_test = ax.bar(index + bar_width, test_data, bar_width, label='Test Data', color=test_color)\n",
    "\n",
    "# Function to add labels on top of each bar\n",
    "def add_labels(bars):\n",
    "    for bar in bars:\n",
    "        height = bar.get_height()\n",
    "        ax.annotate(f'{height}',\n",
    "                    xy=(bar.get_x() + bar.get_width() / 2, height),\n",
    "                    xytext=(0, 3),  # 3 points vertical offset\n",
    "                    textcoords=\"offset points\",\n",
    "                    ha='center', va='bottom')\n",
    "\n",
    "# Add percentage labels on top of each bar\n",
    "add_labels(bars_control)\n",
    "add_labels(bars_test)\n",
    "\n",
    "# Adding labels\n",
    "plt.xlabel('Steps')\n",
    "plt.ylabel('Errors in percentage (%)')\n",
    "#plt.title('Comparison of Test and Control Data')\n",
    "\n",
    "# Customize ticks and spines\n",
    "plt.xticks(index + bar_width / 2, ['Step 1', 'Step 2', 'Step 3', 'Confirm'])\n",
    "plt.gca().spines['top'].set_visible(False)\n",
    "plt.gca().spines['right'].set_visible(False)\n",
    "\n",
    "# Adding legend outside the plot\n",
    "plt.legend(loc='center left', bbox_to_anchor=(1, 0.5))\n",
    "\n",
    "plt.savefig(os.path.join(save_path, 'error(controlvstest).png'), dpi=300, bbox_inches='tight', transparent=True)\n",
    "\n",
    "# Adding legend\n",
    "plt.legend()"
   ]
  },
  {
   "cell_type": "code",
   "execution_count": 328,
   "id": "9c0cf128-61a6-4d7c-b4fb-bb3015846fb0",
   "metadata": {},
   "outputs": [
    {
     "name": "stdout",
     "output_type": "stream",
     "text": [
      "Test statistic (z): -4.479473956210134\n",
      "P-value: 7.482721892770883e-06\n",
      "Reject the null hypothesis: There is a significant difference between the two proportions.\n"
     ]
    }
   ],
   "source": [
    "# Applying a two-proportion z-test.This test compares two population proportions to see if they are significantly different from each other.\n",
    "\n",
    "import scipy.stats as stats\n",
    "\n",
    "# Example data (replace with your actual data)\n",
    "p1 = porpotion_error_step_1_control  # proportion of control group reaching the last step\n",
    "p2 = porpotion_error_step_1_test\n",
    "n1 = sum_x   # sample size of control group\n",
    "n2 = sum_drop_test   # sample size of test group\n",
    "\n",
    "# Number of successes\n",
    "x1 = p1 * n1\n",
    "x2 = p2 * n2\n",
    "\n",
    "# Pooled proportion\n",
    "p_pool = (x1 + x2) / (n1 + n2)\n",
    "\n",
    "# Standard error\n",
    "se = np.sqrt(p_pool * (1 - p_pool) * (1/n1 + 1/n2))\n",
    "\n",
    "# Test statistic\n",
    "z = (p1 - p2) / se\n",
    "\n",
    "# P-value\n",
    "p_value = 2 * (1 - stats.norm.cdf(abs(z)))\n",
    "\n",
    "# Output results\n",
    "print(f\"Test statistic (z): {z}\")\n",
    "print(f\"P-value: {p_value}\")\n",
    "\n",
    "# Conclusion\n",
    "alpha = 0.05\n",
    "if p_value < alpha:\n",
    "    print(\"Reject the null hypothesis: There is a significant difference between the two proportions.\")\n",
    "else:\n",
    "    print(\"Fail to reject the null hypothesis: There is no significant difference between the two proportions.\")\n"
   ]
  },
  {
   "cell_type": "code",
   "execution_count": 331,
   "id": "ff0f478a-c339-458b-9248-5ea3716a0c90",
   "metadata": {},
   "outputs": [
    {
     "name": "stdout",
     "output_type": "stream",
     "text": [
      "Test statistic (z): 11.866399559250784\n",
      "P-value: 0.0\n",
      "Reject the null hypothesis: There is a significant difference between the two proportions.\n"
     ]
    }
   ],
   "source": [
    "# Applying a two-proportion z-test.This test compares two population proportions to see if they are significantly different from each other.\n",
    "\n",
    "import scipy.stats as stats\n",
    "\n",
    "# Example data (replace with your actual data)\n",
    "p1 = porpotion_error_step_2_control  # proportion of control group reaching the last step\n",
    "p2 = porpotion_error_step_2_test\n",
    "n1 = sum_x   # sample size of control group\n",
    "n2 = sum_drop_test   # sample size of test group\n",
    "\n",
    "# Number of successes\n",
    "x1 = p1 * n1\n",
    "x2 = p2 * n2\n",
    "\n",
    "# Pooled proportion\n",
    "p_pool = (x1 + x2) / (n1 + n2)\n",
    "\n",
    "# Standard error\n",
    "se = np.sqrt(p_pool * (1 - p_pool) * (1/n1 + 1/n2))\n",
    "\n",
    "# Test statistic\n",
    "z = (p1 - p2) / se\n",
    "\n",
    "# P-value\n",
    "p_value = 2 * (1 - stats.norm.cdf(abs(z)))\n",
    "\n",
    "# Output results\n",
    "print(f\"Test statistic (z): {z}\")\n",
    "print(f\"P-value: {p_value}\")\n",
    "\n",
    "# Conclusion\n",
    "alpha = 0.05\n",
    "if p_value < alpha:\n",
    "    print(\"Reject the null hypothesis: There is a significant difference between the two proportions.\")\n",
    "else:\n",
    "    print(\"Fail to reject the null hypothesis: There is no significant difference between the two proportions.\")\n"
   ]
  },
  {
   "cell_type": "code",
   "execution_count": 330,
   "id": "10ba4c4d-8755-4c44-a9cc-ba6a3fea15f6",
   "metadata": {},
   "outputs": [
    {
     "name": "stdout",
     "output_type": "stream",
     "text": [
      "Test statistic (z): 17.076175512360955\n",
      "P-value: 0.0\n",
      "Reject the null hypothesis: There is a significant difference between the two proportions.\n"
     ]
    }
   ],
   "source": [
    "# Applying a two-proportion z-test.This test compares two population proportions to see if they are significantly different from each other.\n",
    "\n",
    "import scipy.stats as stats\n",
    "\n",
    "# Example data (replace with your actual data)\n",
    "p1 = porpotion_error_step_3_control  # proportion of control group reaching the last step\n",
    "p2 = porpotion_error_step_3_test\n",
    "n1 = sum_x   # sample size of control group\n",
    "n2 = sum_drop_test   # sample size of test group\n",
    "\n",
    "# Number of successes\n",
    "x1 = p1 * n1\n",
    "x2 = p2 * n2\n",
    "\n",
    "# Pooled proportion\n",
    "p_pool = (x1 + x2) / (n1 + n2)\n",
    "\n",
    "# Standard error\n",
    "se = np.sqrt(p_pool * (1 - p_pool) * (1/n1 + 1/n2))\n",
    "\n",
    "# Test statistic\n",
    "z = (p1 - p2) / se\n",
    "\n",
    "# P-value\n",
    "p_value = 2 * (1 - stats.norm.cdf(abs(z)))\n",
    "\n",
    "# Output results\n",
    "print(f\"Test statistic (z): {z}\")\n",
    "print(f\"P-value: {p_value}\")\n",
    "\n",
    "# Conclusion\n",
    "alpha = 0.05\n",
    "if p_value < alpha:\n",
    "    print(\"Reject the null hypothesis: There is a significant difference between the two proportions.\")\n",
    "else:\n",
    "    print(\"Fail to reject the null hypothesis: There is no significant difference between the two proportions.\")\n"
   ]
  },
  {
   "cell_type": "code",
   "execution_count": 338,
   "id": "aa03b53d-fe69-4a25-8b32-bb6239f5d06d",
   "metadata": {},
   "outputs": [
    {
     "name": "stdout",
     "output_type": "stream",
     "text": [
      "Test statistic (z): -0.5038657057027275\n",
      "P-value: 0.6143557512205557\n",
      "Fail to reject the null hypothesis: There is no significant difference between the two proportions.\n"
     ]
    }
   ],
   "source": [
    "# Applying a two-proportion z-test.This test compares two population proportions to see if they are significantly different from each other.\n",
    "\n",
    "import scipy.stats as stats\n",
    "\n",
    "# Example data (replace with your actual data)\n",
    "p1 = propotion_error_confirm_control  # proportion of control group reaching the last step\n",
    "p2 = porpotion_error_confirm_test\n",
    "n1 = sum_x   # sample size of control group\n",
    "n2 = sum_drop_test   # sample size of test group\n",
    "\n",
    "# Number of successes\n",
    "x1 = p1 * n1\n",
    "x2 = p2 * n2\n",
    "\n",
    "# Pooled proportion\n",
    "p_pool = (x1 + x2) / (n1 + n2)\n",
    "\n",
    "# Standard error\n",
    "se = np.sqrt(p_pool * (1 - p_pool) * (1/n1 + 1/n2))\n",
    "\n",
    "# Test statistic\n",
    "z = (p1 - p2) / se\n",
    "\n",
    "# P-value\n",
    "p_value = 2 * (1 - stats.norm.cdf(abs(z)))\n",
    "\n",
    "# Output results\n",
    "print(f\"Test statistic (z): {z}\")\n",
    "print(f\"P-value: {p_value}\")\n",
    "\n",
    "# Conclusion\n",
    "alpha = 0.05\n",
    "if p_value < alpha:\n",
    "    print(\"Reject the null hypothesis: There is a significant difference between the two proportions.\")\n",
    "else:\n",
    "    print(\"Fail to reject the null hypothesis: There is no significant difference between the two proportions.\")\n"
   ]
  }
 ],
 "metadata": {
  "kernelspec": {
   "display_name": "Python 3 (ipykernel)",
   "language": "python",
   "name": "python3"
  },
  "language_info": {
   "codemirror_mode": {
    "name": "ipython",
    "version": 3
   },
   "file_extension": ".py",
   "mimetype": "text/x-python",
   "name": "python",
   "nbconvert_exporter": "python",
   "pygments_lexer": "ipython3",
   "version": "3.11.7"
  }
 },
 "nbformat": 4,
 "nbformat_minor": 5
}
