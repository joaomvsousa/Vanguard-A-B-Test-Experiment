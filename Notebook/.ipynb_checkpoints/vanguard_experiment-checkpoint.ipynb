{
 "cells": [
  {
   "cell_type": "markdown",
   "id": "daabb520-0509-4b46-b55d-97a4823bfc47",
   "metadata": {},
   "source": [
    "# Import datasets and merged it "
   ]
  },
  {
   "cell_type": "code",
   "execution_count": 2007,
   "id": "fa7d1436-e092-47d2-aa8b-ab795f6a0b74",
   "metadata": {},
   "outputs": [],
   "source": [
    "import os\n",
    "import pandas as pd\n",
    "import numpy as np\n",
    "import matplotlib.pyplot as plt\n",
    "import seaborn as sns\n",
    "import scipy.stats as stats\n",
    "\n",
    "\n",
    "url1 = \"https://raw.githubusercontent.com/data-bootcamp-v4/lessons/main/5_6_eda_inf_stats_tableau/project/files_for_project/df_final_demo.txt\"\n",
    "url2 = \"https://raw.githubusercontent.com/data-bootcamp-v4/lessons/main/5_6_eda_inf_stats_tableau/project/files_for_project/df_final_web_data_pt_1.txt\"\n",
    "url3 = \"https://raw.githubusercontent.com/data-bootcamp-v4/lessons/main/5_6_eda_inf_stats_tableau/project/files_for_project/df_final_web_data_pt_2.txt\"\n",
    "url4 = \"https://raw.githubusercontent.com/data-bootcamp-v4/lessons/main/5_6_eda_inf_stats_tableau/project/files_for_project/df_final_experiment_clients.txt\"\n",
    "\n",
    "df1 = pd.read_csv(url1)\n",
    "df2 = pd.read_csv(url2)\n",
    "df3 = pd.read_csv(url3)\n",
    "df4 = pd.read_csv(url4)\n",
    "\n",
    "\n"
   ]
  },
  {
   "cell_type": "code",
   "execution_count": 2008,
   "id": "2d04c235-7565-4051-aff5-70c117c526ed",
   "metadata": {},
   "outputs": [],
   "source": [
    "df1.to_excel('df1.xlsx', index=False, engine='openpyxl')\n",
    "df2.to_excel('df2.xlsx', index=False, engine='openpyxl')\n",
    "df3.to_excel('df3.xlsx', index=False, engine='openpyxl')\n",
    "df4.to_excel('df4.xlsx', index=False, engine='openpyxl')\n"
   ]
  },
  {
   "cell_type": "code",
   "execution_count": 2009,
   "id": "2a3f7eb6-54fe-48b1-ba78-f5ab121f3f56",
   "metadata": {},
   "outputs": [
    {
     "data": {
      "text/html": [
       "<div>\n",
       "<style scoped>\n",
       "    .dataframe tbody tr th:only-of-type {\n",
       "        vertical-align: middle;\n",
       "    }\n",
       "\n",
       "    .dataframe tbody tr th {\n",
       "        vertical-align: top;\n",
       "    }\n",
       "\n",
       "    .dataframe thead th {\n",
       "        text-align: right;\n",
       "    }\n",
       "</style>\n",
       "<table border=\"1\" class=\"dataframe\">\n",
       "  <thead>\n",
       "    <tr style=\"text-align: right;\">\n",
       "      <th></th>\n",
       "      <th>client_id</th>\n",
       "      <th>visitor_id</th>\n",
       "      <th>visit_id</th>\n",
       "      <th>process_step</th>\n",
       "      <th>date_time</th>\n",
       "    </tr>\n",
       "  </thead>\n",
       "  <tbody>\n",
       "    <tr>\n",
       "      <th>0</th>\n",
       "      <td>9988021</td>\n",
       "      <td>580560515_7732621733</td>\n",
       "      <td>781255054_21935453173_531117</td>\n",
       "      <td>step_3</td>\n",
       "      <td>2017-04-17 15:27:07</td>\n",
       "    </tr>\n",
       "    <tr>\n",
       "      <th>1</th>\n",
       "      <td>9988021</td>\n",
       "      <td>580560515_7732621733</td>\n",
       "      <td>781255054_21935453173_531117</td>\n",
       "      <td>step_2</td>\n",
       "      <td>2017-04-17 15:26:51</td>\n",
       "    </tr>\n",
       "    <tr>\n",
       "      <th>2</th>\n",
       "      <td>9988021</td>\n",
       "      <td>580560515_7732621733</td>\n",
       "      <td>781255054_21935453173_531117</td>\n",
       "      <td>step_3</td>\n",
       "      <td>2017-04-17 15:19:22</td>\n",
       "    </tr>\n",
       "    <tr>\n",
       "      <th>3</th>\n",
       "      <td>9988021</td>\n",
       "      <td>580560515_7732621733</td>\n",
       "      <td>781255054_21935453173_531117</td>\n",
       "      <td>step_2</td>\n",
       "      <td>2017-04-17 15:19:13</td>\n",
       "    </tr>\n",
       "    <tr>\n",
       "      <th>4</th>\n",
       "      <td>9988021</td>\n",
       "      <td>580560515_7732621733</td>\n",
       "      <td>781255054_21935453173_531117</td>\n",
       "      <td>step_3</td>\n",
       "      <td>2017-04-17 15:18:04</td>\n",
       "    </tr>\n",
       "  </tbody>\n",
       "</table>\n",
       "</div>"
      ],
      "text/plain": [
       "   client_id            visitor_id                      visit_id process_step  \\\n",
       "0    9988021  580560515_7732621733  781255054_21935453173_531117       step_3   \n",
       "1    9988021  580560515_7732621733  781255054_21935453173_531117       step_2   \n",
       "2    9988021  580560515_7732621733  781255054_21935453173_531117       step_3   \n",
       "3    9988021  580560515_7732621733  781255054_21935453173_531117       step_2   \n",
       "4    9988021  580560515_7732621733  781255054_21935453173_531117       step_3   \n",
       "\n",
       "             date_time  \n",
       "0  2017-04-17 15:27:07  \n",
       "1  2017-04-17 15:26:51  \n",
       "2  2017-04-17 15:19:22  \n",
       "3  2017-04-17 15:19:13  \n",
       "4  2017-04-17 15:18:04  "
      ]
     },
     "execution_count": 2009,
     "metadata": {},
     "output_type": "execute_result"
    }
   ],
   "source": [
    "df2.head()"
   ]
  },
  {
   "cell_type": "code",
   "execution_count": 2010,
   "id": "e23044fb-bdcd-4858-823a-c14d9f3499bf",
   "metadata": {},
   "outputs": [
    {
     "data": {
      "text/html": [
       "<div>\n",
       "<style scoped>\n",
       "    .dataframe tbody tr th:only-of-type {\n",
       "        vertical-align: middle;\n",
       "    }\n",
       "\n",
       "    .dataframe tbody tr th {\n",
       "        vertical-align: top;\n",
       "    }\n",
       "\n",
       "    .dataframe thead th {\n",
       "        text-align: right;\n",
       "    }\n",
       "</style>\n",
       "<table border=\"1\" class=\"dataframe\">\n",
       "  <thead>\n",
       "    <tr style=\"text-align: right;\">\n",
       "      <th></th>\n",
       "      <th>client_id</th>\n",
       "      <th>visitor_id</th>\n",
       "      <th>visit_id</th>\n",
       "      <th>process_step</th>\n",
       "      <th>date_time</th>\n",
       "    </tr>\n",
       "  </thead>\n",
       "  <tbody>\n",
       "    <tr>\n",
       "      <th>0</th>\n",
       "      <td>763412</td>\n",
       "      <td>601952081_10457207388</td>\n",
       "      <td>397475557_40440946728_419634</td>\n",
       "      <td>confirm</td>\n",
       "      <td>2017-06-06 08:56:00</td>\n",
       "    </tr>\n",
       "    <tr>\n",
       "      <th>1</th>\n",
       "      <td>6019349</td>\n",
       "      <td>442094451_91531546617</td>\n",
       "      <td>154620534_35331068705_522317</td>\n",
       "      <td>confirm</td>\n",
       "      <td>2017-06-01 11:59:27</td>\n",
       "    </tr>\n",
       "    <tr>\n",
       "      <th>2</th>\n",
       "      <td>6019349</td>\n",
       "      <td>442094451_91531546617</td>\n",
       "      <td>154620534_35331068705_522317</td>\n",
       "      <td>step_3</td>\n",
       "      <td>2017-06-01 11:58:48</td>\n",
       "    </tr>\n",
       "    <tr>\n",
       "      <th>3</th>\n",
       "      <td>6019349</td>\n",
       "      <td>442094451_91531546617</td>\n",
       "      <td>154620534_35331068705_522317</td>\n",
       "      <td>step_2</td>\n",
       "      <td>2017-06-01 11:58:08</td>\n",
       "    </tr>\n",
       "    <tr>\n",
       "      <th>4</th>\n",
       "      <td>6019349</td>\n",
       "      <td>442094451_91531546617</td>\n",
       "      <td>154620534_35331068705_522317</td>\n",
       "      <td>step_1</td>\n",
       "      <td>2017-06-01 11:57:58</td>\n",
       "    </tr>\n",
       "  </tbody>\n",
       "</table>\n",
       "</div>"
      ],
      "text/plain": [
       "   client_id             visitor_id                      visit_id  \\\n",
       "0     763412  601952081_10457207388  397475557_40440946728_419634   \n",
       "1    6019349  442094451_91531546617  154620534_35331068705_522317   \n",
       "2    6019349  442094451_91531546617  154620534_35331068705_522317   \n",
       "3    6019349  442094451_91531546617  154620534_35331068705_522317   \n",
       "4    6019349  442094451_91531546617  154620534_35331068705_522317   \n",
       "\n",
       "  process_step            date_time  \n",
       "0      confirm  2017-06-06 08:56:00  \n",
       "1      confirm  2017-06-01 11:59:27  \n",
       "2       step_3  2017-06-01 11:58:48  \n",
       "3       step_2  2017-06-01 11:58:08  \n",
       "4       step_1  2017-06-01 11:57:58  "
      ]
     },
     "execution_count": 2010,
     "metadata": {},
     "output_type": "execute_result"
    }
   ],
   "source": [
    "df3.head()"
   ]
  },
  {
   "cell_type": "code",
   "execution_count": 2011,
   "id": "48e73e2e-6b07-4627-b407-dbb0be5bf7c9",
   "metadata": {},
   "outputs": [
    {
     "data": {
      "text/html": [
       "<div>\n",
       "<style scoped>\n",
       "    .dataframe tbody tr th:only-of-type {\n",
       "        vertical-align: middle;\n",
       "    }\n",
       "\n",
       "    .dataframe tbody tr th {\n",
       "        vertical-align: top;\n",
       "    }\n",
       "\n",
       "    .dataframe thead th {\n",
       "        text-align: right;\n",
       "    }\n",
       "</style>\n",
       "<table border=\"1\" class=\"dataframe\">\n",
       "  <thead>\n",
       "    <tr style=\"text-align: right;\">\n",
       "      <th></th>\n",
       "      <th>client_id</th>\n",
       "      <th>Variation</th>\n",
       "    </tr>\n",
       "  </thead>\n",
       "  <tbody>\n",
       "    <tr>\n",
       "      <th>0</th>\n",
       "      <td>9988021</td>\n",
       "      <td>Test</td>\n",
       "    </tr>\n",
       "    <tr>\n",
       "      <th>1</th>\n",
       "      <td>8320017</td>\n",
       "      <td>Test</td>\n",
       "    </tr>\n",
       "    <tr>\n",
       "      <th>2</th>\n",
       "      <td>4033851</td>\n",
       "      <td>Control</td>\n",
       "    </tr>\n",
       "    <tr>\n",
       "      <th>3</th>\n",
       "      <td>1982004</td>\n",
       "      <td>Test</td>\n",
       "    </tr>\n",
       "    <tr>\n",
       "      <th>4</th>\n",
       "      <td>9294070</td>\n",
       "      <td>Control</td>\n",
       "    </tr>\n",
       "  </tbody>\n",
       "</table>\n",
       "</div>"
      ],
      "text/plain": [
       "   client_id Variation\n",
       "0    9988021      Test\n",
       "1    8320017      Test\n",
       "2    4033851   Control\n",
       "3    1982004      Test\n",
       "4    9294070   Control"
      ]
     },
     "execution_count": 2011,
     "metadata": {},
     "output_type": "execute_result"
    }
   ],
   "source": [
    "df4.head()"
   ]
  },
  {
   "cell_type": "code",
   "execution_count": 2012,
   "id": "2ecf708d-4bf4-46ed-9745-8ef28e5da6a6",
   "metadata": {},
   "outputs": [],
   "source": [
    "merge_df = pd.merge(df1, df4, on='client_id', how='inner')\n"
   ]
  },
  {
   "cell_type": "code",
   "execution_count": 2013,
   "id": "7b014c05-1f2b-429a-95dd-681f72514eb4",
   "metadata": {},
   "outputs": [],
   "source": [
    "combined_df = pd.concat([df2, df3], axis = 0)\n",
    "\n",
    "combined_df = combined_df.reset_index(drop=True)"
   ]
  },
  {
   "cell_type": "code",
   "execution_count": 2014,
   "id": "26da092c-8de9-48ac-b283-538247edd448",
   "metadata": {},
   "outputs": [
    {
     "data": {
      "text/html": [
       "<div>\n",
       "<style scoped>\n",
       "    .dataframe tbody tr th:only-of-type {\n",
       "        vertical-align: middle;\n",
       "    }\n",
       "\n",
       "    .dataframe tbody tr th {\n",
       "        vertical-align: top;\n",
       "    }\n",
       "\n",
       "    .dataframe thead th {\n",
       "        text-align: right;\n",
       "    }\n",
       "</style>\n",
       "<table border=\"1\" class=\"dataframe\">\n",
       "  <thead>\n",
       "    <tr style=\"text-align: right;\">\n",
       "      <th></th>\n",
       "      <th>client_id</th>\n",
       "      <th>visitor_id</th>\n",
       "      <th>visit_id</th>\n",
       "      <th>process_step</th>\n",
       "      <th>date_time</th>\n",
       "    </tr>\n",
       "  </thead>\n",
       "  <tbody>\n",
       "    <tr>\n",
       "      <th>0</th>\n",
       "      <td>9988021</td>\n",
       "      <td>580560515_7732621733</td>\n",
       "      <td>781255054_21935453173_531117</td>\n",
       "      <td>step_3</td>\n",
       "      <td>2017-04-17 15:27:07</td>\n",
       "    </tr>\n",
       "    <tr>\n",
       "      <th>1</th>\n",
       "      <td>9988021</td>\n",
       "      <td>580560515_7732621733</td>\n",
       "      <td>781255054_21935453173_531117</td>\n",
       "      <td>step_2</td>\n",
       "      <td>2017-04-17 15:26:51</td>\n",
       "    </tr>\n",
       "    <tr>\n",
       "      <th>2</th>\n",
       "      <td>9988021</td>\n",
       "      <td>580560515_7732621733</td>\n",
       "      <td>781255054_21935453173_531117</td>\n",
       "      <td>step_3</td>\n",
       "      <td>2017-04-17 15:19:22</td>\n",
       "    </tr>\n",
       "    <tr>\n",
       "      <th>3</th>\n",
       "      <td>9988021</td>\n",
       "      <td>580560515_7732621733</td>\n",
       "      <td>781255054_21935453173_531117</td>\n",
       "      <td>step_2</td>\n",
       "      <td>2017-04-17 15:19:13</td>\n",
       "    </tr>\n",
       "    <tr>\n",
       "      <th>4</th>\n",
       "      <td>9988021</td>\n",
       "      <td>580560515_7732621733</td>\n",
       "      <td>781255054_21935453173_531117</td>\n",
       "      <td>step_3</td>\n",
       "      <td>2017-04-17 15:18:04</td>\n",
       "    </tr>\n",
       "  </tbody>\n",
       "</table>\n",
       "</div>"
      ],
      "text/plain": [
       "   client_id            visitor_id                      visit_id process_step  \\\n",
       "0    9988021  580560515_7732621733  781255054_21935453173_531117       step_3   \n",
       "1    9988021  580560515_7732621733  781255054_21935453173_531117       step_2   \n",
       "2    9988021  580560515_7732621733  781255054_21935453173_531117       step_3   \n",
       "3    9988021  580560515_7732621733  781255054_21935453173_531117       step_2   \n",
       "4    9988021  580560515_7732621733  781255054_21935453173_531117       step_3   \n",
       "\n",
       "             date_time  \n",
       "0  2017-04-17 15:27:07  \n",
       "1  2017-04-17 15:26:51  \n",
       "2  2017-04-17 15:19:22  \n",
       "3  2017-04-17 15:19:13  \n",
       "4  2017-04-17 15:18:04  "
      ]
     },
     "execution_count": 2014,
     "metadata": {},
     "output_type": "execute_result"
    }
   ],
   "source": [
    "combined_df.head()"
   ]
  },
  {
   "cell_type": "code",
   "execution_count": 2015,
   "id": "ad517faf-1b22-49f2-856e-b722543d2e18",
   "metadata": {},
   "outputs": [
    {
     "data": {
      "text/html": [
       "<div>\n",
       "<style scoped>\n",
       "    .dataframe tbody tr th:only-of-type {\n",
       "        vertical-align: middle;\n",
       "    }\n",
       "\n",
       "    .dataframe tbody tr th {\n",
       "        vertical-align: top;\n",
       "    }\n",
       "\n",
       "    .dataframe thead th {\n",
       "        text-align: right;\n",
       "    }\n",
       "</style>\n",
       "<table border=\"1\" class=\"dataframe\">\n",
       "  <thead>\n",
       "    <tr style=\"text-align: right;\">\n",
       "      <th></th>\n",
       "      <th>client_id</th>\n",
       "      <th>clnt_tenure_yr</th>\n",
       "      <th>clnt_tenure_mnth</th>\n",
       "      <th>clnt_age</th>\n",
       "      <th>gendr</th>\n",
       "      <th>num_accts</th>\n",
       "      <th>bal</th>\n",
       "      <th>calls_6_mnth</th>\n",
       "      <th>logons_6_mnth</th>\n",
       "      <th>Variation</th>\n",
       "    </tr>\n",
       "  </thead>\n",
       "  <tbody>\n",
       "    <tr>\n",
       "      <th>0</th>\n",
       "      <td>836976</td>\n",
       "      <td>6.0</td>\n",
       "      <td>73.0</td>\n",
       "      <td>60.5</td>\n",
       "      <td>U</td>\n",
       "      <td>2.0</td>\n",
       "      <td>45105.30</td>\n",
       "      <td>6.0</td>\n",
       "      <td>9.0</td>\n",
       "      <td>Test</td>\n",
       "    </tr>\n",
       "    <tr>\n",
       "      <th>1</th>\n",
       "      <td>2304905</td>\n",
       "      <td>7.0</td>\n",
       "      <td>94.0</td>\n",
       "      <td>58.0</td>\n",
       "      <td>U</td>\n",
       "      <td>2.0</td>\n",
       "      <td>110860.30</td>\n",
       "      <td>6.0</td>\n",
       "      <td>9.0</td>\n",
       "      <td>Control</td>\n",
       "    </tr>\n",
       "    <tr>\n",
       "      <th>2</th>\n",
       "      <td>1439522</td>\n",
       "      <td>5.0</td>\n",
       "      <td>64.0</td>\n",
       "      <td>32.0</td>\n",
       "      <td>U</td>\n",
       "      <td>2.0</td>\n",
       "      <td>52467.79</td>\n",
       "      <td>6.0</td>\n",
       "      <td>9.0</td>\n",
       "      <td>Test</td>\n",
       "    </tr>\n",
       "    <tr>\n",
       "      <th>3</th>\n",
       "      <td>1562045</td>\n",
       "      <td>16.0</td>\n",
       "      <td>198.0</td>\n",
       "      <td>49.0</td>\n",
       "      <td>M</td>\n",
       "      <td>2.0</td>\n",
       "      <td>67454.65</td>\n",
       "      <td>3.0</td>\n",
       "      <td>6.0</td>\n",
       "      <td>Test</td>\n",
       "    </tr>\n",
       "    <tr>\n",
       "      <th>4</th>\n",
       "      <td>5126305</td>\n",
       "      <td>12.0</td>\n",
       "      <td>145.0</td>\n",
       "      <td>33.0</td>\n",
       "      <td>F</td>\n",
       "      <td>2.0</td>\n",
       "      <td>103671.75</td>\n",
       "      <td>0.0</td>\n",
       "      <td>3.0</td>\n",
       "      <td>Control</td>\n",
       "    </tr>\n",
       "  </tbody>\n",
       "</table>\n",
       "</div>"
      ],
      "text/plain": [
       "   client_id  clnt_tenure_yr  clnt_tenure_mnth  clnt_age gendr  num_accts  \\\n",
       "0     836976             6.0              73.0      60.5     U        2.0   \n",
       "1    2304905             7.0              94.0      58.0     U        2.0   \n",
       "2    1439522             5.0              64.0      32.0     U        2.0   \n",
       "3    1562045            16.0             198.0      49.0     M        2.0   \n",
       "4    5126305            12.0             145.0      33.0     F        2.0   \n",
       "\n",
       "         bal  calls_6_mnth  logons_6_mnth Variation  \n",
       "0   45105.30           6.0            9.0      Test  \n",
       "1  110860.30           6.0            9.0   Control  \n",
       "2   52467.79           6.0            9.0      Test  \n",
       "3   67454.65           3.0            6.0      Test  \n",
       "4  103671.75           0.0            3.0   Control  "
      ]
     },
     "execution_count": 2015,
     "metadata": {},
     "output_type": "execute_result"
    }
   ],
   "source": [
    "merge_df.head()"
   ]
  },
  {
   "cell_type": "code",
   "execution_count": 2016,
   "id": "c7505771-3583-4d66-aab3-ebbf022ce1b3",
   "metadata": {},
   "outputs": [],
   "source": [
    "completed_df = pd.merge(merge_df, combined_df, on='client_id', how='left')"
   ]
  },
  {
   "cell_type": "markdown",
   "id": "6f227318-8963-4aa4-85e1-b8d773d8e746",
   "metadata": {},
   "source": [
    "# Data Cleaning "
   ]
  },
  {
   "cell_type": "code",
   "execution_count": 2018,
   "id": "3e193d27-d602-4eaf-aea7-0088f551d23b",
   "metadata": {},
   "outputs": [
    {
     "name": "stderr",
     "output_type": "stream",
     "text": [
      "/var/folders/d8/knczg5hs597_plsphx_dp9kh0000gn/T/ipykernel_3544/2310313454.py:6: FutureWarning: A value is trying to be set on a copy of a DataFrame or Series through chained assignment using an inplace method.\n",
      "The behavior will change in pandas 3.0. This inplace method will never work because the intermediate object on which we are setting values always behaves as a copy.\n",
      "\n",
      "For example, when doing 'df[col].method(value, inplace=True)', try using 'df.method({col: value}, inplace=True)' or df[col] = df[col].method(value) instead, to perform the operation inplace on the original object.\n",
      "\n",
      "\n",
      "  completed_df['clnt_tenure_yr'].fillna(method='bfill', inplace=True)\n",
      "/var/folders/d8/knczg5hs597_plsphx_dp9kh0000gn/T/ipykernel_3544/2310313454.py:6: FutureWarning: Series.fillna with 'method' is deprecated and will raise in a future version. Use obj.ffill() or obj.bfill() instead.\n",
      "  completed_df['clnt_tenure_yr'].fillna(method='bfill', inplace=True)\n",
      "/var/folders/d8/knczg5hs597_plsphx_dp9kh0000gn/T/ipykernel_3544/2310313454.py:7: FutureWarning: A value is trying to be set on a copy of a DataFrame or Series through chained assignment using an inplace method.\n",
      "The behavior will change in pandas 3.0. This inplace method will never work because the intermediate object on which we are setting values always behaves as a copy.\n",
      "\n",
      "For example, when doing 'df[col].method(value, inplace=True)', try using 'df.method({col: value}, inplace=True)' or df[col] = df[col].method(value) instead, to perform the operation inplace on the original object.\n",
      "\n",
      "\n",
      "  completed_df['clnt_tenure_mnth'].fillna(method='bfill', inplace=True)\n",
      "/var/folders/d8/knczg5hs597_plsphx_dp9kh0000gn/T/ipykernel_3544/2310313454.py:7: FutureWarning: Series.fillna with 'method' is deprecated and will raise in a future version. Use obj.ffill() or obj.bfill() instead.\n",
      "  completed_df['clnt_tenure_mnth'].fillna(method='bfill', inplace=True)\n",
      "/var/folders/d8/knczg5hs597_plsphx_dp9kh0000gn/T/ipykernel_3544/2310313454.py:8: FutureWarning: A value is trying to be set on a copy of a DataFrame or Series through chained assignment using an inplace method.\n",
      "The behavior will change in pandas 3.0. This inplace method will never work because the intermediate object on which we are setting values always behaves as a copy.\n",
      "\n",
      "For example, when doing 'df[col].method(value, inplace=True)', try using 'df.method({col: value}, inplace=True)' or df[col] = df[col].method(value) instead, to perform the operation inplace on the original object.\n",
      "\n",
      "\n",
      "  completed_df['num_accts'].fillna(method='bfill', inplace=True)\n",
      "/var/folders/d8/knczg5hs597_plsphx_dp9kh0000gn/T/ipykernel_3544/2310313454.py:8: FutureWarning: Series.fillna with 'method' is deprecated and will raise in a future version. Use obj.ffill() or obj.bfill() instead.\n",
      "  completed_df['num_accts'].fillna(method='bfill', inplace=True)\n",
      "/var/folders/d8/knczg5hs597_plsphx_dp9kh0000gn/T/ipykernel_3544/2310313454.py:9: FutureWarning: A value is trying to be set on a copy of a DataFrame or Series through chained assignment using an inplace method.\n",
      "The behavior will change in pandas 3.0. This inplace method will never work because the intermediate object on which we are setting values always behaves as a copy.\n",
      "\n",
      "For example, when doing 'df[col].method(value, inplace=True)', try using 'df.method({col: value}, inplace=True)' or df[col] = df[col].method(value) instead, to perform the operation inplace on the original object.\n",
      "\n",
      "\n",
      "  completed_df['bal'].fillna(method='bfill', inplace=True)\n",
      "/var/folders/d8/knczg5hs597_plsphx_dp9kh0000gn/T/ipykernel_3544/2310313454.py:9: FutureWarning: Series.fillna with 'method' is deprecated and will raise in a future version. Use obj.ffill() or obj.bfill() instead.\n",
      "  completed_df['bal'].fillna(method='bfill', inplace=True)\n",
      "/var/folders/d8/knczg5hs597_plsphx_dp9kh0000gn/T/ipykernel_3544/2310313454.py:10: FutureWarning: A value is trying to be set on a copy of a DataFrame or Series through chained assignment using an inplace method.\n",
      "The behavior will change in pandas 3.0. This inplace method will never work because the intermediate object on which we are setting values always behaves as a copy.\n",
      "\n",
      "For example, when doing 'df[col].method(value, inplace=True)', try using 'df.method({col: value}, inplace=True)' or df[col] = df[col].method(value) instead, to perform the operation inplace on the original object.\n",
      "\n",
      "\n",
      "  completed_df['calls_6_mnth'].fillna(method='bfill', inplace=True)\n",
      "/var/folders/d8/knczg5hs597_plsphx_dp9kh0000gn/T/ipykernel_3544/2310313454.py:10: FutureWarning: Series.fillna with 'method' is deprecated and will raise in a future version. Use obj.ffill() or obj.bfill() instead.\n",
      "  completed_df['calls_6_mnth'].fillna(method='bfill', inplace=True)\n",
      "/var/folders/d8/knczg5hs597_plsphx_dp9kh0000gn/T/ipykernel_3544/2310313454.py:11: FutureWarning: A value is trying to be set on a copy of a DataFrame or Series through chained assignment using an inplace method.\n",
      "The behavior will change in pandas 3.0. This inplace method will never work because the intermediate object on which we are setting values always behaves as a copy.\n",
      "\n",
      "For example, when doing 'df[col].method(value, inplace=True)', try using 'df.method({col: value}, inplace=True)' or df[col] = df[col].method(value) instead, to perform the operation inplace on the original object.\n",
      "\n",
      "\n",
      "  completed_df['logons_6_mnth'].fillna(method='bfill', inplace=True)\n",
      "/var/folders/d8/knczg5hs597_plsphx_dp9kh0000gn/T/ipykernel_3544/2310313454.py:11: FutureWarning: Series.fillna with 'method' is deprecated and will raise in a future version. Use obj.ffill() or obj.bfill() instead.\n",
      "  completed_df['logons_6_mnth'].fillna(method='bfill', inplace=True)\n",
      "/var/folders/d8/knczg5hs597_plsphx_dp9kh0000gn/T/ipykernel_3544/2310313454.py:12: FutureWarning: A value is trying to be set on a copy of a DataFrame or Series through chained assignment using an inplace method.\n",
      "The behavior will change in pandas 3.0. This inplace method will never work because the intermediate object on which we are setting values always behaves as a copy.\n",
      "\n",
      "For example, when doing 'df[col].method(value, inplace=True)', try using 'df.method({col: value}, inplace=True)' or df[col] = df[col].method(value) instead, to perform the operation inplace on the original object.\n",
      "\n",
      "\n",
      "  completed_df['gendr'].fillna(method='bfill', inplace=True)\n",
      "/var/folders/d8/knczg5hs597_plsphx_dp9kh0000gn/T/ipykernel_3544/2310313454.py:12: FutureWarning: Series.fillna with 'method' is deprecated and will raise in a future version. Use obj.ffill() or obj.bfill() instead.\n",
      "  completed_df['gendr'].fillna(method='bfill', inplace=True)\n"
     ]
    }
   ],
   "source": [
    "#checking NaN values\n",
    "\n",
    "completed_df.isnull().sum()\n",
    "\n",
    "# fixing Nan values\n",
    "completed_df['clnt_tenure_yr'].fillna(method='bfill', inplace=True)\n",
    "completed_df['clnt_tenure_mnth'].fillna(method='bfill', inplace=True)\n",
    "completed_df['num_accts'].fillna(method='bfill', inplace=True)\n",
    "completed_df['bal'].fillna(method='bfill', inplace=True)\n",
    "completed_df['calls_6_mnth'].fillna(method='bfill', inplace=True)\n",
    "completed_df['logons_6_mnth'].fillna(method='bfill', inplace=True)\n",
    "completed_df['gendr'].fillna(method='bfill', inplace=True)"
   ]
  },
  {
   "cell_type": "code",
   "execution_count": 2019,
   "id": "c06b666e-60e4-4b89-9a02-75a5ebbaad3a",
   "metadata": {},
   "outputs": [],
   "source": [
    "#saving dataset to .xlx file \n",
    "completed_df.to_excel('completed_df.xlsx', index=False, engine='openpyxl')\n"
   ]
  },
  {
   "cell_type": "markdown",
   "id": "9e2c9d20-0213-4716-9d5e-11dc20bbec04",
   "metadata": {},
   "source": [
    "###  Analysis of Age - EDA "
   ]
  },
  {
   "cell_type": "code",
   "execution_count": 2021,
   "id": "69f2d713-3946-48e5-a2fc-e07f00c18ed5",
   "metadata": {
    "tags": []
   },
   "outputs": [],
   "source": [
    "#making a copy of dt for further analysis\n",
    "age_category = completed_df.copy()\n",
    "\n",
    "#categorizing by ages \n",
    "age_no_duplicates = age_category.drop_duplicates(subset='client_id', keep='first')"
   ]
  },
  {
   "cell_type": "code",
   "execution_count": 2022,
   "id": "8bc4ff90-dc52-47b4-a24a-eeacd0f6c1e8",
   "metadata": {},
   "outputs": [],
   "source": [
    "#function to categorize by age:\n",
    "\n",
    "def categorize_age(age):\n",
    "    #if age <= 19:\n",
    "        #return '<19'\n",
    "    if 18 < age < 30:\n",
    "        return '18-29'\n",
    "    elif 30 <= age < 40:\n",
    "        return '30-39'\n",
    "    elif 40 <= age < 50:\n",
    "        return '40-49'\n",
    "    elif 50 <= age < 60:\n",
    "        return '50-59'\n",
    "    elif 60 <= age < 70:\n",
    "        return '60-69'\n",
    "    elif age >= 70:\n",
    "        return '≥70'\n"
   ]
  },
  {
   "cell_type": "code",
   "execution_count": 2023,
   "id": "8ff3014e-acf6-4de5-ae8a-f1ddbd477ba2",
   "metadata": {},
   "outputs": [
    {
     "name": "stderr",
     "output_type": "stream",
     "text": [
      "/var/folders/d8/knczg5hs597_plsphx_dp9kh0000gn/T/ipykernel_3544/780604173.py:2: SettingWithCopyWarning: \n",
      "A value is trying to be set on a copy of a slice from a DataFrame.\n",
      "Try using .loc[row_indexer,col_indexer] = value instead\n",
      "\n",
      "See the caveats in the documentation: https://pandas.pydata.org/pandas-docs/stable/user_guide/indexing.html#returning-a-view-versus-a-copy\n",
      "  age_no_duplicates['age_category'] = age_no_duplicates['clnt_age'].apply(categorize_age)\n"
     ]
    }
   ],
   "source": [
    "#Applying the function of categorize_age\n",
    "age_no_duplicates['age_category'] = age_no_duplicates['clnt_age'].apply(categorize_age)\n",
    "\n",
    "# Categorize age in percentage \n",
    "age_counts = age_no_duplicates['age_category'].value_counts(normalize=True) * 100\n"
   ]
  },
  {
   "cell_type": "code",
   "execution_count": 2024,
   "id": "68f09ea6-16e4-4810-a53b-4aa2bb4310e4",
   "metadata": {},
   "outputs": [
    {
     "data": {
      "text/plain": [
       "<Figure size 1000x600 with 0 Axes>"
      ]
     },
     "metadata": {},
     "output_type": "display_data"
    },
    {
     "data": {
      "image/png": "[encoded data removed]",
      "text/plain": [
       "<Figure size 640x480 with 1 Axes>"
      ]
     },
     "metadata": {
      "needs_background": "light"
     },
     "output_type": "display_data"
    }
   ],
   "source": [
    "# Define the order of age categories\n",
    "age_order = ['18-29', '30-39', '40-49', '50-59', '60-69', '≥70']\n",
    "\n",
    "# Reindex to ensure the correct order\n",
    "age_percentage_ordered = age_counts.reindex(age_order).fillna(0)\n",
    "\n",
    "# Set style and background\n",
    "sns.set_style(\"white\")  # No gridlines\n",
    "plt.figure(figsize=(10, 6))\n",
    "plt.figure(facecolor='None')  # Transparent background\n",
    "\n",
    "#maroon_color_rgb= (189/255, 66/255, 46/255)  # RGB values for maroon\n",
    "\n",
    "\n",
    "# Create the bar plot with light maroon color\n",
    "sns.barplot(x=age_percentage_ordered.index, y=age_percentage_ordered.values, color=\"#976255\", edgecolor='gray', linewidth=1.5)\n",
    "\n",
    "# Add titles and labels\n",
    "#plt.title('Percentage of Clients by Age')\n",
    "plt.xlabel('Age Category')\n",
    "plt.ylabel('Percentage (%)')\n",
    "\n",
    "# Add percentage labels on top of each bar\n",
    "for index, value in enumerate(age_percentage_ordered.values):\n",
    "    plt.text(index, value, f'{value:.1f}%', ha='center', va='bottom')\n",
    "\n",
    "# Remove frame around the graph\n",
    "sns.despine()\n",
    "\n",
    "# Define the save path\n",
    "save_path = \"../images\"\n",
    "\n",
    "# Save the plot with transparent background\n",
    "plt.savefig(os.path.join(save_path, 'age_distribution.png'), dpi=300, bbox_inches='tight', transparent=True)\n",
    "\n",
    "# Show the plot\n",
    "plt.show()"
   ]
  },
  {
   "cell_type": "markdown",
   "id": "5a1de5a1-df86-4458-89ee-154692e9ebde",
   "metadata": {},
   "source": [
    "### Analysis of Gender - EDA "
   ]
  },
  {
   "cell_type": "code",
   "execution_count": 2026,
   "id": "8295ba37-4c53-4af8-a959-495dbd1f074f",
   "metadata": {},
   "outputs": [],
   "source": [
    "#determine the number of clients per gender\n",
    "age_no_duplicates[\"gendr\"].value_counts()\n",
    "\n",
    "#calculate the percentage of clients per gender\n",
    "gender = age_no_duplicates[\"gendr\"].value_counts(normalize=True) * 100\n"
   ]
  },
  {
   "cell_type": "code",
   "execution_count": 2027,
   "id": "cda199f5-7669-4d60-ab6e-17e402f77268",
   "metadata": {},
   "outputs": [
    {
     "data": {
      "text/plain": [
       "<Figure size 800x600 with 0 Axes>"
      ]
     },
     "metadata": {},
     "output_type": "display_data"
    },
    {
     "data": {
      "image/png": "[encoded data removed]",
      "text/plain": [
       "<Figure size 640x480 with 1 Axes>"
      ]
     },
     "metadata": {
      "needs_background": "light"
     },
     "output_type": "display_data"
    }
   ],
   "source": [
    "# Calculate the percentage for each gender\n",
    "gender_percentage = age_no_duplicates[\"gendr\"].value_counts(normalize=True) * 100\n",
    "\n",
    "# Set style and background\n",
    "sns.set_style(\"white\")  # No gridlines\n",
    "plt.figure(figsize=(8, 6))\n",
    "plt.figure(facecolor='None')  # Transparent background\n",
    "\n",
    "# Define the maroon color with alpha 0.7\n",
    "#maroon_color_rgba = (128/255, 0, 0, 0.7)  # RGBA values for #800000 with alpha 0.7\n",
    "\n",
    "# Create the bar plot with maroon color and transparency\n",
    "bars = plt.bar(gender_percentage.index, gender_percentage.values, \n",
    "               color=\"#976255\", edgecolor='gray', linewidth=1.5)\n",
    "\n",
    "# Set the x-axis and y-axis labels\n",
    "plt.xlabel('Gender')\n",
    "plt.ylabel('Percentage (%)')\n",
    "plt.ylim(0, 40)  # Setting the y-axis limit for better visualization\n",
    "\n",
    "# Add percentage labels on top of each bar\n",
    "for bar, value in zip(bars, gender_percentage.values):\n",
    "    plt.text(bar.get_x() + bar.get_width() / 2, bar.get_height() + 1, f\"{value:.1f}%\", ha='center', va='bottom')\n",
    "\n",
    "# Remove spines\n",
    "sns.despine()\n",
    "\n",
    "# Save the plot with transparent background\n",
    "save_path = \"../images\"\n",
    "\n",
    "plt.savefig(os.path.join(save_path, 'gender_distribution.png'), dpi=300, bbox_inches='tight', transparent=True)\n",
    "\n",
    "# Show the plot\n",
    "plt.show()\n"
   ]
  },
  {
   "cell_type": "markdown",
   "id": "621275b6-11d6-4c34-a805-b2a4195f66fb",
   "metadata": {},
   "source": [
    "### Analysis of Client Tenure - EDA "
   ]
  },
  {
   "cell_type": "code",
   "execution_count": 2029,
   "id": "a0a0e86d-78ab-4e27-a460-772a0048284f",
   "metadata": {
    "tags": []
   },
   "outputs": [
    {
     "data": {
      "text/plain": [
       "array([ 6.,  7.,  5., 16., 12., 30., 15.,  8.,  4.,  3., 10., 11., 13.,\n",
       "       14., 19., 18., 25., 23., 21., 17.,  9., 27., 24., 20., 28., 22.,\n",
       "       29., 46., 26., 32., 33., 35.,  2., 38., 31., 48., 34., 36., 51.,\n",
       "       47., 49., 37., 39., 40., 55., 42., 44., 43., 50., 54., 41., 45.,\n",
       "       52., 62.])"
      ]
     },
     "execution_count": 2029,
     "metadata": {},
     "output_type": "execute_result"
    }
   ],
   "source": [
    "#checking unique values of client tenure \n",
    "age_no_duplicates[\"clnt_tenure_yr\"].unique()"
   ]
  },
  {
   "cell_type": "code",
   "execution_count": 2030,
   "id": "f9d88a60-94b6-4d29-82f7-1f66a064210d",
   "metadata": {},
   "outputs": [],
   "source": [
    "#creating a function to categorize the client tenure\n",
    "def categorize_yr(year):\n",
    "    if year <= 5:\n",
    "        return '0-5'\n",
    "    elif 5 <= year < 10:\n",
    "        return '5-10'\n",
    "    elif 10 <= year < 15:\n",
    "        return '10-15'\n",
    "    elif 15 <= year < 20:\n",
    "        return '15-20'\n",
    "    elif 20 <= year < 25:\n",
    "        return '20-25'\n",
    "    elif year >= 25:\n",
    "        return '≥ 25'"
   ]
  },
  {
   "cell_type": "code",
   "execution_count": 2031,
   "id": "3b87c93b-5ed7-4ffe-b9f4-8fee5fae8c58",
   "metadata": {},
   "outputs": [
    {
     "name": "stderr",
     "output_type": "stream",
     "text": [
      "/var/folders/d8/knczg5hs597_plsphx_dp9kh0000gn/T/ipykernel_3544/2972811201.py:2: SettingWithCopyWarning: \n",
      "A value is trying to be set on a copy of a slice from a DataFrame.\n",
      "Try using .loc[row_indexer,col_indexer] = value instead\n",
      "\n",
      "See the caveats in the documentation: https://pandas.pydata.org/pandas-docs/stable/user_guide/indexing.html#returning-a-view-versus-a-copy\n",
      "  age_no_duplicates['year_category'] = age_no_duplicates['clnt_tenure_yr'].apply(categorize_yr)\n"
     ]
    }
   ],
   "source": [
    "# Applying the function above\n",
    "age_no_duplicates['year_category'] = age_no_duplicates['clnt_tenure_yr'].apply(categorize_yr)\n"
   ]
  },
  {
   "cell_type": "code",
   "execution_count": 2032,
   "id": "9de38ede-207a-4036-95fe-f9d18cf8f687",
   "metadata": {},
   "outputs": [
    {
     "data": {
      "image/png": "[encoded data removed]",
      "text/plain": [
       "<Figure size 1000x600 with 1 Axes>"
      ]
     },
     "metadata": {
      "needs_background": "light"
     },
     "output_type": "display_data"
    }
   ],
   "source": [
    "# Plot the client Ternure per percentage \n",
    "\n",
    "# Calculate the percentage for each year category\n",
    "year_percentage = age_no_duplicates['year_category'].value_counts(normalize=True) * 100\n",
    "\n",
    "# Define the order of year categories\n",
    "year_order = ['0-5', '5-10', '10-15', '15-20', '20-25', '≥ 25']\n",
    "\n",
    "# Reindex to ensure the correct order\n",
    "year_percentage_ordered = year_percentage.reindex(year_order).fillna(0)\n",
    "\n",
    "# Plot the bar chart\n",
    "plt.figure(figsize=(10, 6))\n",
    "\n",
    "# Create the bar plot\n",
    "bars = plt.bar(year_percentage_ordered.index, year_percentage_ordered.values, color='#976255')\n",
    "\n",
    "# Add titles and labels\n",
    "#plt.title('Percentage of Clients by Tenure Year Category')\n",
    "plt.xlabel('Tenure Year Category')\n",
    "plt.ylabel('Percentage (%)')\n",
    "\n",
    "# Add percentage labels on top of each bar\n",
    "for index, value in enumerate(year_percentage_ordered.values):\n",
    "    plt.text(index, value, f'{value:.1f}%', ha='center', va='bottom')\n",
    "\n",
    "# Add color to the border of bars\n",
    "for bar in bars:\n",
    "    bar.set_edgecolor('gray')  # Set border color to gray\n",
    "    bar.set_linewidth(1.5)  # Set border width\n",
    "\n",
    "# Remove spines\n",
    "plt.gca().spines['top'].set_visible(False)\n",
    "plt.gca().spines['right'].set_visible(False)\n",
    "\n",
    "# Set transparent background\n",
    "plt.gcf().patch.set_facecolor('None')\n",
    "plt.gca().patch.set_alpha(0)\n",
    "\n",
    "# Define the save path\n",
    "save_path = \"../images\"\n",
    "\n",
    "# Save the plot with transparent background\n",
    "plt.savefig(os.path.join(save_path, 'Clients by Tenure Year Category.png'), dpi=300, bbox_inches='tight', transparent=True)\n",
    "\n",
    "# Show the plot\n",
    "plt.show()\n",
    "\n"
   ]
  },
  {
   "cell_type": "code",
   "execution_count": 2033,
   "id": "7484f67a-6b25-49d3-a380-3f5f7ba96e44",
   "metadata": {},
   "outputs": [],
   "source": [
    "#age_no_duplicates.to_csv\n",
    "\n",
    "age_no_duplicates.to_excel('clean_no_duplicates.xlsx', index=False, engine='openpyxl')\n"
   ]
  },
  {
   "cell_type": "markdown",
   "id": "a4faa63a-9225-4162-b745-6e3b3fe916c4",
   "metadata": {},
   "source": [
    "## Experiment A/B test"
   ]
  },
  {
   "cell_type": "code",
   "execution_count": 2035,
   "id": "50b58ab5-7993-40f3-b098-8026fbafe639",
   "metadata": {},
   "outputs": [],
   "source": [
    "#spliting the data in test and control \n",
    "test_data_1 = completed_df[completed_df['Variation'] == 'Test']\n",
    "control_data_1 = completed_df[completed_df['Variation'] == 'Control']"
   ]
  },
  {
   "cell_type": "code",
   "execution_count": 2036,
   "id": "aff1def5-b179-4dda-adc8-8f1f1550325a",
   "metadata": {
    "tags": []
   },
   "outputs": [
    {
     "data": {
      "text/html": [
       "<div>\n",
       "<style scoped>\n",
       "    .dataframe tbody tr th:only-of-type {\n",
       "        vertical-align: middle;\n",
       "    }\n",
       "\n",
       "    .dataframe tbody tr th {\n",
       "        vertical-align: top;\n",
       "    }\n",
       "\n",
       "    .dataframe thead th {\n",
       "        text-align: right;\n",
       "    }\n",
       "</style>\n",
       "<table border=\"1\" class=\"dataframe\">\n",
       "  <thead>\n",
       "    <tr style=\"text-align: right;\">\n",
       "      <th></th>\n",
       "      <th>client_id</th>\n",
       "      <th>clnt_tenure_yr</th>\n",
       "      <th>clnt_tenure_mnth</th>\n",
       "      <th>clnt_age</th>\n",
       "      <th>gendr</th>\n",
       "      <th>num_accts</th>\n",
       "      <th>bal</th>\n",
       "      <th>calls_6_mnth</th>\n",
       "      <th>logons_6_mnth</th>\n",
       "      <th>Variation</th>\n",
       "      <th>visitor_id</th>\n",
       "      <th>visit_id</th>\n",
       "      <th>process_step</th>\n",
       "      <th>date_time</th>\n",
       "    </tr>\n",
       "  </thead>\n",
       "  <tbody>\n",
       "    <tr>\n",
       "      <th>11</th>\n",
       "      <td>2304905</td>\n",
       "      <td>7.0</td>\n",
       "      <td>94.0</td>\n",
       "      <td>58.0</td>\n",
       "      <td>U</td>\n",
       "      <td>2.0</td>\n",
       "      <td>110860.30</td>\n",
       "      <td>6.0</td>\n",
       "      <td>9.0</td>\n",
       "      <td>Control</td>\n",
       "      <td>336210275_56978226960</td>\n",
       "      <td>724930510_65323235593_692754</td>\n",
       "      <td>confirm</td>\n",
       "      <td>2017-05-21 11:07:16</td>\n",
       "    </tr>\n",
       "    <tr>\n",
       "      <th>12</th>\n",
       "      <td>2304905</td>\n",
       "      <td>7.0</td>\n",
       "      <td>94.0</td>\n",
       "      <td>58.0</td>\n",
       "      <td>U</td>\n",
       "      <td>2.0</td>\n",
       "      <td>110860.30</td>\n",
       "      <td>6.0</td>\n",
       "      <td>9.0</td>\n",
       "      <td>Control</td>\n",
       "      <td>336210275_56978226960</td>\n",
       "      <td>724930510_65323235593_692754</td>\n",
       "      <td>step_3</td>\n",
       "      <td>2017-05-21 11:04:53</td>\n",
       "    </tr>\n",
       "    <tr>\n",
       "      <th>13</th>\n",
       "      <td>2304905</td>\n",
       "      <td>7.0</td>\n",
       "      <td>94.0</td>\n",
       "      <td>58.0</td>\n",
       "      <td>U</td>\n",
       "      <td>2.0</td>\n",
       "      <td>110860.30</td>\n",
       "      <td>6.0</td>\n",
       "      <td>9.0</td>\n",
       "      <td>Control</td>\n",
       "      <td>336210275_56978226960</td>\n",
       "      <td>724930510_65323235593_692754</td>\n",
       "      <td>step_2</td>\n",
       "      <td>2017-05-21 11:04:04</td>\n",
       "    </tr>\n",
       "    <tr>\n",
       "      <th>14</th>\n",
       "      <td>2304905</td>\n",
       "      <td>7.0</td>\n",
       "      <td>94.0</td>\n",
       "      <td>58.0</td>\n",
       "      <td>U</td>\n",
       "      <td>2.0</td>\n",
       "      <td>110860.30</td>\n",
       "      <td>6.0</td>\n",
       "      <td>9.0</td>\n",
       "      <td>Control</td>\n",
       "      <td>336210275_56978226960</td>\n",
       "      <td>724930510_65323235593_692754</td>\n",
       "      <td>step_1</td>\n",
       "      <td>2017-05-21 11:03:31</td>\n",
       "    </tr>\n",
       "    <tr>\n",
       "      <th>15</th>\n",
       "      <td>2304905</td>\n",
       "      <td>7.0</td>\n",
       "      <td>94.0</td>\n",
       "      <td>58.0</td>\n",
       "      <td>U</td>\n",
       "      <td>2.0</td>\n",
       "      <td>110860.30</td>\n",
       "      <td>6.0</td>\n",
       "      <td>9.0</td>\n",
       "      <td>Control</td>\n",
       "      <td>336210275_56978226960</td>\n",
       "      <td>724930510_65323235593_692754</td>\n",
       "      <td>start</td>\n",
       "      <td>2017-05-21 11:03:25</td>\n",
       "    </tr>\n",
       "    <tr>\n",
       "      <th>...</th>\n",
       "      <td>...</td>\n",
       "      <td>...</td>\n",
       "      <td>...</td>\n",
       "      <td>...</td>\n",
       "      <td>...</td>\n",
       "      <td>...</td>\n",
       "      <td>...</td>\n",
       "      <td>...</td>\n",
       "      <td>...</td>\n",
       "      <td>...</td>\n",
       "      <td>...</td>\n",
       "      <td>...</td>\n",
       "      <td>...</td>\n",
       "      <td>...</td>\n",
       "    </tr>\n",
       "    <tr>\n",
       "      <th>321283</th>\n",
       "      <td>6967120</td>\n",
       "      <td>21.0</td>\n",
       "      <td>260.0</td>\n",
       "      <td>68.5</td>\n",
       "      <td>M</td>\n",
       "      <td>3.0</td>\n",
       "      <td>4279873.38</td>\n",
       "      <td>6.0</td>\n",
       "      <td>9.0</td>\n",
       "      <td>Control</td>\n",
       "      <td>663474827_38847225720</td>\n",
       "      <td>923772865_74694577233_449836</td>\n",
       "      <td>confirm</td>\n",
       "      <td>2017-04-12 19:06:55</td>\n",
       "    </tr>\n",
       "    <tr>\n",
       "      <th>321284</th>\n",
       "      <td>6967120</td>\n",
       "      <td>21.0</td>\n",
       "      <td>260.0</td>\n",
       "      <td>68.5</td>\n",
       "      <td>M</td>\n",
       "      <td>3.0</td>\n",
       "      <td>4279873.38</td>\n",
       "      <td>6.0</td>\n",
       "      <td>9.0</td>\n",
       "      <td>Control</td>\n",
       "      <td>663474827_38847225720</td>\n",
       "      <td>923772865_74694577233_449836</td>\n",
       "      <td>step_3</td>\n",
       "      <td>2017-04-12 19:05:14</td>\n",
       "    </tr>\n",
       "    <tr>\n",
       "      <th>321285</th>\n",
       "      <td>6967120</td>\n",
       "      <td>21.0</td>\n",
       "      <td>260.0</td>\n",
       "      <td>68.5</td>\n",
       "      <td>M</td>\n",
       "      <td>3.0</td>\n",
       "      <td>4279873.38</td>\n",
       "      <td>6.0</td>\n",
       "      <td>9.0</td>\n",
       "      <td>Control</td>\n",
       "      <td>663474827_38847225720</td>\n",
       "      <td>923772865_74694577233_449836</td>\n",
       "      <td>step_2</td>\n",
       "      <td>2017-04-12 19:04:29</td>\n",
       "    </tr>\n",
       "    <tr>\n",
       "      <th>321286</th>\n",
       "      <td>6967120</td>\n",
       "      <td>21.0</td>\n",
       "      <td>260.0</td>\n",
       "      <td>68.5</td>\n",
       "      <td>M</td>\n",
       "      <td>3.0</td>\n",
       "      <td>4279873.38</td>\n",
       "      <td>6.0</td>\n",
       "      <td>9.0</td>\n",
       "      <td>Control</td>\n",
       "      <td>663474827_38847225720</td>\n",
       "      <td>923772865_74694577233_449836</td>\n",
       "      <td>step_1</td>\n",
       "      <td>2017-04-12 19:04:07</td>\n",
       "    </tr>\n",
       "    <tr>\n",
       "      <th>321287</th>\n",
       "      <td>6967120</td>\n",
       "      <td>21.0</td>\n",
       "      <td>260.0</td>\n",
       "      <td>68.5</td>\n",
       "      <td>M</td>\n",
       "      <td>3.0</td>\n",
       "      <td>4279873.38</td>\n",
       "      <td>6.0</td>\n",
       "      <td>9.0</td>\n",
       "      <td>Control</td>\n",
       "      <td>663474827_38847225720</td>\n",
       "      <td>923772865_74694577233_449836</td>\n",
       "      <td>start</td>\n",
       "      <td>2017-04-12 19:03:36</td>\n",
       "    </tr>\n",
       "  </tbody>\n",
       "</table>\n",
       "<p>143462 rows × 14 columns</p>\n",
       "</div>"
      ],
      "text/plain": [
       "        client_id  clnt_tenure_yr  clnt_tenure_mnth  clnt_age gendr  \\\n",
       "11        2304905             7.0              94.0      58.0     U   \n",
       "12        2304905             7.0              94.0      58.0     U   \n",
       "13        2304905             7.0              94.0      58.0     U   \n",
       "14        2304905             7.0              94.0      58.0     U   \n",
       "15        2304905             7.0              94.0      58.0     U   \n",
       "...           ...             ...               ...       ...   ...   \n",
       "321283    6967120            21.0             260.0      68.5     M   \n",
       "321284    6967120            21.0             260.0      68.5     M   \n",
       "321285    6967120            21.0             260.0      68.5     M   \n",
       "321286    6967120            21.0             260.0      68.5     M   \n",
       "321287    6967120            21.0             260.0      68.5     M   \n",
       "\n",
       "        num_accts         bal  calls_6_mnth  logons_6_mnth Variation  \\\n",
       "11            2.0   110860.30           6.0            9.0   Control   \n",
       "12            2.0   110860.30           6.0            9.0   Control   \n",
       "13            2.0   110860.30           6.0            9.0   Control   \n",
       "14            2.0   110860.30           6.0            9.0   Control   \n",
       "15            2.0   110860.30           6.0            9.0   Control   \n",
       "...           ...         ...           ...            ...       ...   \n",
       "321283        3.0  4279873.38           6.0            9.0   Control   \n",
       "321284        3.0  4279873.38           6.0            9.0   Control   \n",
       "321285        3.0  4279873.38           6.0            9.0   Control   \n",
       "321286        3.0  4279873.38           6.0            9.0   Control   \n",
       "321287        3.0  4279873.38           6.0            9.0   Control   \n",
       "\n",
       "                   visitor_id                      visit_id process_step  \\\n",
       "11      336210275_56978226960  724930510_65323235593_692754      confirm   \n",
       "12      336210275_56978226960  724930510_65323235593_692754       step_3   \n",
       "13      336210275_56978226960  724930510_65323235593_692754       step_2   \n",
       "14      336210275_56978226960  724930510_65323235593_692754       step_1   \n",
       "15      336210275_56978226960  724930510_65323235593_692754        start   \n",
       "...                       ...                           ...          ...   \n",
       "321283  663474827_38847225720  923772865_74694577233_449836      confirm   \n",
       "321284  663474827_38847225720  923772865_74694577233_449836       step_3   \n",
       "321285  663474827_38847225720  923772865_74694577233_449836       step_2   \n",
       "321286  663474827_38847225720  923772865_74694577233_449836       step_1   \n",
       "321287  663474827_38847225720  923772865_74694577233_449836        start   \n",
       "\n",
       "                  date_time  \n",
       "11      2017-05-21 11:07:16  \n",
       "12      2017-05-21 11:04:53  \n",
       "13      2017-05-21 11:04:04  \n",
       "14      2017-05-21 11:03:31  \n",
       "15      2017-05-21 11:03:25  \n",
       "...                     ...  \n",
       "321283  2017-04-12 19:06:55  \n",
       "321284  2017-04-12 19:05:14  \n",
       "321285  2017-04-12 19:04:29  \n",
       "321286  2017-04-12 19:04:07  \n",
       "321287  2017-04-12 19:03:36  \n",
       "\n",
       "[143462 rows x 14 columns]"
      ]
     },
     "execution_count": 2036,
     "metadata": {},
     "output_type": "execute_result"
    }
   ],
   "source": [
    "control_data_1"
   ]
  },
  {
   "cell_type": "code",
   "execution_count": 2037,
   "id": "37464440-aeeb-46ce-acab-fc88e21ef55a",
   "metadata": {
    "tags": []
   },
   "outputs": [],
   "source": [
    "#function to calculate the time between steps:\n",
    "\n",
    "def subtract_date_column(df1, df2):\n",
    "     # Merge DataFrames on 'client_id' with custom suffixes\n",
    "    merged_df = pd.merge(df1, df2, on='client_id', suffixes=('_step_x', '_step_y'))\n",
    "    \n",
    "    # Subtract 'date_time' column of df2 from 'date_time' column of df1\n",
    "    result_df = pd.DataFrame()\n",
    "    result_df['time_step_z'] = merged_df['date_time_step_x'] - merged_df['date_time_step_y']\n",
    "    \n",
    "    return result_df"
   ]
  },
  {
   "cell_type": "markdown",
   "id": "879b11f3-59ea-4440-8e25-20b5626126b1",
   "metadata": {},
   "source": [
    "## Test analysis "
   ]
  },
  {
   "cell_type": "code",
   "execution_count": 2039,
   "id": "307062ff-43aa-468c-9be3-e80311458608",
   "metadata": {},
   "outputs": [
    {
     "data": {
      "text/html": [
       "<div>\n",
       "<style scoped>\n",
       "    .dataframe tbody tr th:only-of-type {\n",
       "        vertical-align: middle;\n",
       "    }\n",
       "\n",
       "    .dataframe tbody tr th {\n",
       "        vertical-align: top;\n",
       "    }\n",
       "\n",
       "    .dataframe thead th {\n",
       "        text-align: right;\n",
       "    }\n",
       "</style>\n",
       "<table border=\"1\" class=\"dataframe\">\n",
       "  <thead>\n",
       "    <tr style=\"text-align: right;\">\n",
       "      <th></th>\n",
       "      <th>client_id</th>\n",
       "      <th>clnt_tenure_yr</th>\n",
       "      <th>clnt_tenure_mnth</th>\n",
       "      <th>clnt_age</th>\n",
       "      <th>gendr</th>\n",
       "      <th>num_accts</th>\n",
       "      <th>bal</th>\n",
       "      <th>calls_6_mnth</th>\n",
       "      <th>logons_6_mnth</th>\n",
       "      <th>Variation</th>\n",
       "      <th>visitor_id</th>\n",
       "      <th>visit_id</th>\n",
       "      <th>process_step</th>\n",
       "      <th>date_time</th>\n",
       "    </tr>\n",
       "  </thead>\n",
       "  <tbody>\n",
       "    <tr>\n",
       "      <th>0</th>\n",
       "      <td>836976</td>\n",
       "      <td>6.0</td>\n",
       "      <td>73.0</td>\n",
       "      <td>60.5</td>\n",
       "      <td>U</td>\n",
       "      <td>2.0</td>\n",
       "      <td>45105.3</td>\n",
       "      <td>6.0</td>\n",
       "      <td>9.0</td>\n",
       "      <td>Test</td>\n",
       "      <td>427070339_1413275162</td>\n",
       "      <td>228976764_46825473280_96584</td>\n",
       "      <td>confirm</td>\n",
       "      <td>2017-04-02 11:51:13</td>\n",
       "    </tr>\n",
       "    <tr>\n",
       "      <th>1</th>\n",
       "      <td>836976</td>\n",
       "      <td>6.0</td>\n",
       "      <td>73.0</td>\n",
       "      <td>60.5</td>\n",
       "      <td>U</td>\n",
       "      <td>2.0</td>\n",
       "      <td>45105.3</td>\n",
       "      <td>6.0</td>\n",
       "      <td>9.0</td>\n",
       "      <td>Test</td>\n",
       "      <td>427070339_1413275162</td>\n",
       "      <td>228976764_46825473280_96584</td>\n",
       "      <td>confirm</td>\n",
       "      <td>2017-04-02 11:47:50</td>\n",
       "    </tr>\n",
       "    <tr>\n",
       "      <th>2</th>\n",
       "      <td>836976</td>\n",
       "      <td>6.0</td>\n",
       "      <td>73.0</td>\n",
       "      <td>60.5</td>\n",
       "      <td>U</td>\n",
       "      <td>2.0</td>\n",
       "      <td>45105.3</td>\n",
       "      <td>6.0</td>\n",
       "      <td>9.0</td>\n",
       "      <td>Test</td>\n",
       "      <td>427070339_1413275162</td>\n",
       "      <td>228976764_46825473280_96584</td>\n",
       "      <td>confirm</td>\n",
       "      <td>2017-04-02 11:46:45</td>\n",
       "    </tr>\n",
       "    <tr>\n",
       "      <th>3</th>\n",
       "      <td>836976</td>\n",
       "      <td>6.0</td>\n",
       "      <td>73.0</td>\n",
       "      <td>60.5</td>\n",
       "      <td>U</td>\n",
       "      <td>2.0</td>\n",
       "      <td>45105.3</td>\n",
       "      <td>6.0</td>\n",
       "      <td>9.0</td>\n",
       "      <td>Test</td>\n",
       "      <td>427070339_1413275162</td>\n",
       "      <td>228976764_46825473280_96584</td>\n",
       "      <td>step_3</td>\n",
       "      <td>2017-04-02 11:23:08</td>\n",
       "    </tr>\n",
       "    <tr>\n",
       "      <th>4</th>\n",
       "      <td>836976</td>\n",
       "      <td>6.0</td>\n",
       "      <td>73.0</td>\n",
       "      <td>60.5</td>\n",
       "      <td>U</td>\n",
       "      <td>2.0</td>\n",
       "      <td>45105.3</td>\n",
       "      <td>6.0</td>\n",
       "      <td>9.0</td>\n",
       "      <td>Test</td>\n",
       "      <td>427070339_1413275162</td>\n",
       "      <td>228976764_46825473280_96584</td>\n",
       "      <td>step_2</td>\n",
       "      <td>2017-04-02 11:22:24</td>\n",
       "    </tr>\n",
       "  </tbody>\n",
       "</table>\n",
       "</div>"
      ],
      "text/plain": [
       "   client_id  clnt_tenure_yr  clnt_tenure_mnth  clnt_age gendr  num_accts  \\\n",
       "0     836976             6.0              73.0      60.5     U        2.0   \n",
       "1     836976             6.0              73.0      60.5     U        2.0   \n",
       "2     836976             6.0              73.0      60.5     U        2.0   \n",
       "3     836976             6.0              73.0      60.5     U        2.0   \n",
       "4     836976             6.0              73.0      60.5     U        2.0   \n",
       "\n",
       "       bal  calls_6_mnth  logons_6_mnth Variation            visitor_id  \\\n",
       "0  45105.3           6.0            9.0      Test  427070339_1413275162   \n",
       "1  45105.3           6.0            9.0      Test  427070339_1413275162   \n",
       "2  45105.3           6.0            9.0      Test  427070339_1413275162   \n",
       "3  45105.3           6.0            9.0      Test  427070339_1413275162   \n",
       "4  45105.3           6.0            9.0      Test  427070339_1413275162   \n",
       "\n",
       "                      visit_id process_step            date_time  \n",
       "0  228976764_46825473280_96584      confirm  2017-04-02 11:51:13  \n",
       "1  228976764_46825473280_96584      confirm  2017-04-02 11:47:50  \n",
       "2  228976764_46825473280_96584      confirm  2017-04-02 11:46:45  \n",
       "3  228976764_46825473280_96584       step_3  2017-04-02 11:23:08  \n",
       "4  228976764_46825473280_96584       step_2  2017-04-02 11:22:24  "
      ]
     },
     "execution_count": 2039,
     "metadata": {},
     "output_type": "execute_result"
    }
   ],
   "source": [
    "test_data_1.head()"
   ]
  },
  {
   "cell_type": "code",
   "execution_count": 2040,
   "id": "e8ec5c78-418c-429d-87c6-2c721c81fd7f",
   "metadata": {},
   "outputs": [],
   "source": [
    "#creating a df for test_data_1  to try differents approaches\n",
    "\n",
    "tested = test_data_1.copy()\n"
   ]
  },
  {
   "cell_type": "code",
   "execution_count": 2041,
   "id": "3acca1fd-77d8-4099-88e8-edcf23c21fcc",
   "metadata": {},
   "outputs": [],
   "source": [
    "# create a new column for process_step with numbers instead of words\n",
    "name_to_value = {\n",
    "    \"start\": \"1\",\n",
    "    \"step_1\": \"2\",\n",
    "    \"step_2\": \"3\",\n",
    "    \"step_3\": \"4\",\n",
    "    \"confirm\": \"5\"\n",
    "\n",
    "}\n",
    "tested['process_step_n'] = tested['process_step'].map(name_to_value)\n",
    "\n",
    "# transforming date_time in datetime64[ns] types\n",
    "tested['date_time'] = pd.to_datetime(tested['date_time'])\n",
    "\n",
    "# sorting the data set by order descending of this columns \n",
    "tested.sort_values(by=[\"client_id\", \"date_time\", \"process_step_n\"], ascending=[False, False, False], inplace=True)\n",
    "\n"
   ]
  },
  {
   "cell_type": "code",
   "execution_count": 2042,
   "id": "3d097a90-7704-4e1f-a80c-4ff92e196f60",
   "metadata": {},
   "outputs": [],
   "source": [
    "#Grouping by client_id\n",
    "tested_excel = tested.groupby('client_id').first().reset_index()"
   ]
  },
  {
   "cell_type": "code",
   "execution_count": 2043,
   "id": "7cfb2287-2717-42b1-b8ec-846387ae165e",
   "metadata": {},
   "outputs": [],
   "source": [
    "tested_excel.to_excel('test.xlsx', index=False, engine='openpyxl')\n"
   ]
  },
  {
   "cell_type": "code",
   "execution_count": 2044,
   "id": "edea1664-cd3a-4b6e-903e-3d6b24a72c19",
   "metadata": {},
   "outputs": [
    {
     "data": {
      "text/plain": [
       "process_step\n",
       "confirm    18165\n",
       "start       5577\n",
       "step_1      1652\n",
       "step_3      1002\n",
       "step_2       572\n",
       "Name: count, dtype: int64"
      ]
     },
     "execution_count": 2044,
     "metadata": {},
     "output_type": "execute_result"
    }
   ],
   "source": [
    "#Checking the amount of users in each step\n",
    "tested_excel[\"process_step\"].value_counts()"
   ]
  },
  {
   "cell_type": "markdown",
   "id": "31047427-d59f-439d-b5a2-41ccc7165968",
   "metadata": {},
   "source": [
    "### Step 1 - Test"
   ]
  },
  {
   "cell_type": "code",
   "execution_count": 2046,
   "id": "52d3cbdc-4c20-4e92-bb83-a3f6667580b9",
   "metadata": {},
   "outputs": [],
   "source": [
    "#filter by process step \"start\" \n",
    "\n",
    "filtered_data_start = tested[tested['process_step_n'] == \"1\"]\n",
    "\n",
    "#creating new df for all the values of \"start\"\n",
    "\n",
    "start_test_data = filtered_data_start.groupby('client_id').first()[[\"visit_id\", 'date_time']]\n",
    "\n",
    "# Reset index to make 'client_id' a column again\n",
    "start_test_data = start_test_data.reset_index()\n"
   ]
  },
  {
   "cell_type": "code",
   "execution_count": 2047,
   "id": "0443bef5-7bd5-484a-9dcc-68eec1feedcc",
   "metadata": {},
   "outputs": [],
   "source": [
    "#filter by process step \"step1\" \n",
    "\n",
    "filtered_data_step1 = tested[tested['process_step_n'] == \"2\"]\n",
    "\n",
    "#creating new df for all the values of \"step1\"\n",
    "\n",
    "step1_test_data = filtered_data_step1.groupby('client_id').first()[[\"visit_id\", 'date_time']]\n",
    "\n",
    "# Reset index to make 'client_id' a column again\n",
    "step1_test_data = step1_test_data.reset_index()\n"
   ]
  },
  {
   "cell_type": "code",
   "execution_count": 2048,
   "id": "3b8b9a17-47ee-49e9-9388-d03a0b511be7",
   "metadata": {},
   "outputs": [],
   "source": [
    "#applying the function to calculate the time between steps\n",
    "step_1_time_1 = subtract_date_column(step1_test_data, start_test_data)"
   ]
  },
  {
   "cell_type": "code",
   "execution_count": 2049,
   "id": "9b8d91ab-0c80-4944-b567-8463f88f8e17",
   "metadata": {},
   "outputs": [],
   "source": [
    "#Convert \"days\" to type date\n",
    "step_1_time_1 ['days'] = step_1_time_1 ['time_step_z'].dt.days\n",
    "# Convert hours and minutes to seconds and add them to the total seconds\n",
    "step_1_time_1 ['seconds'] = step_1_time_1 ['time_step_z'].dt.components['hours'] * 3600 + \\\n",
    "                        step_1_time_1 ['time_step_z'].dt.components['minutes'] * 60 + \\\n",
    "                        step_1_time_1 ['time_step_z'].dt.components['seconds']"
   ]
  },
  {
   "cell_type": "code",
   "execution_count": 2050,
   "id": "eb77acff-2e6c-4830-8c5c-5d7d1b0e2edd",
   "metadata": {},
   "outputs": [],
   "source": [
    "#filtering for those took less than one day and half an hour\n",
    "filter_step_1 = step_1_time_1[(step_1_time_1['days'] == 0)]\n",
    "filter_step_1 = filter_step_1[(filter_step_1['seconds'] < 1800)]\n",
    "\n",
    "len(filter_step_1)\n",
    "#mean of time takes from going to start to step1\n",
    "step_1_mean = filter_step_1[\"seconds\"].mean()\n",
    "\n",
    "#mean of time takes from going to start to step1\n",
    "step_1_std = filter_step_1[\"seconds\"].std()"
   ]
  },
  {
   "cell_type": "code",
   "execution_count": 2051,
   "id": "474218e4-f52b-428f-bb21-db0c6ad7a5d8",
   "metadata": {},
   "outputs": [
    {
     "data": {
      "text/plain": [
       "24201"
      ]
     },
     "execution_count": 2051,
     "metadata": {},
     "output_type": "execute_result"
    }
   ],
   "source": [
    "step_1_time_1[\"days\"].count()"
   ]
  },
  {
   "cell_type": "code",
   "execution_count": 2052,
   "id": "c80854cc-a379-4c1a-82b6-81d7ecc90459",
   "metadata": {},
   "outputs": [],
   "source": [
    "#filtering por those we went back one step, representing an error\n",
    "filter_step_1_error = step_1_time_1[(step_1_time_1['days'] < 0)]\n"
   ]
  },
  {
   "cell_type": "code",
   "execution_count": 2053,
   "id": "c7fd93ef-a366-42f3-a4ea-712228ec0813",
   "metadata": {},
   "outputs": [],
   "source": [
    "#Calculated the error of going on step back in percentage\n",
    "error_step_1_test = round((filter_step_1_error[\"days\"].count() / step_1_time_1[\"days\"].count())*100,1)"
   ]
  },
  {
   "cell_type": "code",
   "execution_count": 2054,
   "id": "32398623-0a4b-4ef9-a2a9-4015efe09bbc",
   "metadata": {},
   "outputs": [],
   "source": [
    "#Calculated the error of going on step back\n",
    "porpotion_error_step_1_test = filter_step_1_error[\"days\"].count() / step_1_time_1[\"days\"].count()"
   ]
  },
  {
   "cell_type": "markdown",
   "id": "03393fa9-c6a5-49d1-bea0-32ab3ad41baf",
   "metadata": {},
   "source": [
    "### Step 2 - Test"
   ]
  },
  {
   "cell_type": "code",
   "execution_count": 2056,
   "id": "5cf87483-6cd3-46b7-86e9-9eefc0093b6b",
   "metadata": {},
   "outputs": [],
   "source": [
    "#filter by process step \"step2\" \n",
    "\n",
    "filtered_data_step2 = tested[tested['process_step_n'] == \"3\"]\n",
    "\n",
    "#creating new df for all the values of \"step2\"\n",
    "\n",
    "step2_test_data = filtered_data_step2.groupby('client_id').first()[[\"visit_id\", 'date_time']]\n",
    "\n",
    "# Reset index to make 'client_id' a column again\n",
    "step2_test_data = step2_test_data.reset_index()"
   ]
  },
  {
   "cell_type": "code",
   "execution_count": 2057,
   "id": "17ae221c-fe85-40c0-9d07-ac2f66f5146c",
   "metadata": {},
   "outputs": [],
   "source": [
    "#applying the function to calculate the time between steps\n",
    "\n",
    "step_2_time = subtract_date_column(step2_test_data, step1_test_data)"
   ]
  },
  {
   "cell_type": "code",
   "execution_count": 2058,
   "id": "e3e7895a-f2bf-4396-a9f9-1c0662a91530",
   "metadata": {},
   "outputs": [],
   "source": [
    "#Convert \"days\" to type date\n",
    "step_2_time ['days'] = step_2_time ['time_step_z'].dt.days\n",
    "# Convert hours and minutes to seconds and add them to the total seconds\n",
    "step_2_time ['seconds'] = step_2_time ['time_step_z'].dt.components['hours'] * 3600 + \\\n",
    "                        step_2_time ['time_step_z'].dt.components['minutes'] * 60 + \\\n",
    "                        step_2_time ['time_step_z'].dt.components['seconds']"
   ]
  },
  {
   "cell_type": "code",
   "execution_count": 2059,
   "id": "0c0fb631-6317-43c2-a5cd-412da3b9bf15",
   "metadata": {},
   "outputs": [],
   "source": [
    "#filtering for those took less than one day and half an hour\n",
    "filter_step_2 = step_2_time[(step_2_time['days'] == 0)]\n",
    "filter_step_2 = filter_step_2[(filter_step_2['seconds'] < 1800)]\n",
    "\n",
    "#mean of time takes from going to step1 to step2\n",
    "step_2_mean = filter_step_2[\"seconds\"].mean()\n",
    "\n",
    "#mean of time takes from going to step1 to step2\n",
    "step_2_std =filter_step_2[\"seconds\"].std()"
   ]
  },
  {
   "cell_type": "code",
   "execution_count": 2060,
   "id": "8e58bef3-ca12-4839-adb8-79305eb6b7ff",
   "metadata": {},
   "outputs": [],
   "source": [
    "#filtering por those we went back one step, representing an error\n",
    "filter_step_2_error = step_2_time[(step_2_time['days'] < 0)]\n"
   ]
  },
  {
   "cell_type": "code",
   "execution_count": 2061,
   "id": "077e0433-2314-4f8b-a537-2366b912cf04",
   "metadata": {},
   "outputs": [],
   "source": [
    "#Calculated the error of going on step back in percentage\n",
    "error_step_2_test = round((filter_step_2_error[\"days\"].count() / step_2_time[\"days\"].count())*100,2)"
   ]
  },
  {
   "cell_type": "code",
   "execution_count": 2062,
   "id": "52cceda5-7278-4339-a212-e7f3f74dff7e",
   "metadata": {},
   "outputs": [],
   "source": [
    "#Calculated the error of going on step back\n",
    "porpotion_error_step_2_test = filter_step_2_error[\"days\"].count() / step_2_time[\"days\"].count()\n"
   ]
  },
  {
   "cell_type": "markdown",
   "id": "07fba2a6-0e52-4ee0-bc43-6eb3442c446c",
   "metadata": {},
   "source": [
    "### Step 3 - Test"
   ]
  },
  {
   "cell_type": "code",
   "execution_count": 2064,
   "id": "fb230548-f867-45a0-971d-55baeadb541d",
   "metadata": {},
   "outputs": [],
   "source": [
    "#filter by process step \"step3\" \n",
    "\n",
    "filtered_data_step3 = tested[tested['process_step_n'] == \"4\"]\n",
    "\n",
    "#creating new df for all the values of \"step3\"\n",
    "\n",
    "step3_test_data = filtered_data_step3.groupby('client_id').first()[[\"visit_id\", 'date_time']]\n",
    "\n",
    "# Reset index to make 'client_id' a column again\n",
    "step3_test_data = step3_test_data.reset_index()"
   ]
  },
  {
   "cell_type": "code",
   "execution_count": 2065,
   "id": "e585765a-bb0e-4c9c-a071-51b5fee59609",
   "metadata": {},
   "outputs": [],
   "source": [
    "#applying the function to calculate the time between steps\n",
    "\n",
    "step_3_time = subtract_date_column(step3_test_data, step2_test_data)"
   ]
  },
  {
   "cell_type": "code",
   "execution_count": 2066,
   "id": "af216abc-c67b-4484-b016-7600d64a91f0",
   "metadata": {},
   "outputs": [],
   "source": [
    "#Convert \"days\" to type date\n",
    "step_3_time ['days'] = step_3_time ['time_step_z'].dt.days\n",
    "# Convert hours and minutes to seconds and add them to the total seconds\n",
    "step_3_time ['seconds'] = step_3_time ['time_step_z'].dt.components['hours'] * 3600 + \\\n",
    "                        step_3_time ['time_step_z'].dt.components['minutes'] * 60 + \\\n",
    "                        step_3_time ['time_step_z'].dt.components['seconds']"
   ]
  },
  {
   "cell_type": "code",
   "execution_count": 2067,
   "id": "02d16582-096d-496a-aee1-a4b6b0d462a1",
   "metadata": {},
   "outputs": [],
   "source": [
    "#filtering for those took less than one day and half an hour\n",
    "filter_step_3 = step_3_time[(step_3_time['days'] == 0)]\n",
    "filter_step_3 = filter_step_3[(filter_step_3['seconds'] < 1800)]\n",
    "\n",
    "#mean of time takes from going to step2 to step3\n",
    "step_3_mean = filter_step_3[\"seconds\"].mean()\n",
    "\n",
    "#mean of time takes from going to step2 to step3\n",
    "step_3_std = filter_step_3[\"seconds\"].std()"
   ]
  },
  {
   "cell_type": "code",
   "execution_count": 2068,
   "id": "ff80ce0a-a4c5-4332-8329-9559622c4df3",
   "metadata": {},
   "outputs": [],
   "source": [
    "#filtering por those we went back one step, representing an error\n",
    "\n",
    "filter_step_3_error = filter_step_3[(filter_step_3['days'] < 0)]\n"
   ]
  },
  {
   "cell_type": "code",
   "execution_count": 2069,
   "id": "1538911d-e2d8-4590-adde-e50190f69e5a",
   "metadata": {},
   "outputs": [],
   "source": [
    "#Calculated the error of going on step back in percentage\n",
    "\n",
    "error_step_3_test = round((filter_step_3_error[\"days\"].count() / step_3_time[\"days\"].count())*100,2)"
   ]
  },
  {
   "cell_type": "code",
   "execution_count": 2070,
   "id": "260cb168-db30-4019-95a4-96efd40aaf8d",
   "metadata": {},
   "outputs": [],
   "source": [
    "#Caculated the error of going on step back\n",
    "porpotion_error_step_3_test=filter_step_3_error[\"days\"].count() / step_3_time[\"days\"].count()"
   ]
  },
  {
   "cell_type": "markdown",
   "id": "233e7890-4536-4b65-a2da-92b2c1b2454d",
   "metadata": {},
   "source": [
    "### Confirm - Test"
   ]
  },
  {
   "cell_type": "code",
   "execution_count": 2072,
   "id": "ee81f76e-0354-4956-ac44-d3181be3dc0b",
   "metadata": {},
   "outputs": [],
   "source": [
    "#filter by process step \"confirm\" \n",
    "\n",
    "filtered_data_confirm = tested[tested['process_step_n'] == \"5\"]\n",
    "\n",
    "#creating new df for all the values of \"confirm\"\n",
    "\n",
    "confirm_test_data = filtered_data_confirm.groupby('client_id').first()[[\"visit_id\", 'date_time', 'gendr']]\n",
    "\n",
    "# Reset index to make 'client_id' a column again\n",
    "confirm_test_data = confirm_test_data.reset_index()\n"
   ]
  },
  {
   "cell_type": "code",
   "execution_count": 2073,
   "id": "72a8aad9-bafb-4ec7-a728-43181b6683dc",
   "metadata": {},
   "outputs": [
    {
     "data": {
      "text/plain": [
       "gendr\n",
       "U    6505\n",
       "M    6354\n",
       "F    5828\n",
       "Name: count, dtype: int64"
      ]
     },
     "execution_count": 2073,
     "metadata": {},
     "output_type": "execute_result"
    }
   ],
   "source": [
    "confirm_test_data[\"gendr\"].value_counts()"
   ]
  },
  {
   "cell_type": "code",
   "execution_count": 2074,
   "id": "7700df42-cd42-4c73-8d2f-caa1281764e8",
   "metadata": {},
   "outputs": [],
   "source": [
    "#applying the function to calculate the time between steps\n",
    "\n",
    "step_confirm_time = subtract_date_column(confirm_test_data, step3_test_data)"
   ]
  },
  {
   "cell_type": "code",
   "execution_count": 2075,
   "id": "184ec583-a69c-4551-8c6a-4dae1548892d",
   "metadata": {},
   "outputs": [],
   "source": [
    "#Convert \"days\" to type date\n",
    "step_confirm_time ['days'] = step_confirm_time ['time_step_z'].dt.days\n",
    "# Convert hours and minutes to seconds and add them to the total seconds\n",
    "step_confirm_time ['seconds'] = step_confirm_time ['time_step_z'].dt.components['hours'] * 3600 + \\\n",
    "                        step_confirm_time ['time_step_z'].dt.components['minutes'] * 60 + \\\n",
    "                        step_confirm_time ['time_step_z'].dt.components['seconds']"
   ]
  },
  {
   "cell_type": "code",
   "execution_count": 2076,
   "id": "fcd97ce6-2aa6-43f5-a9c8-736854ed427b",
   "metadata": {},
   "outputs": [],
   "source": [
    "#filtering for those took less than one day and half an hour \n",
    "filter_confirm = step_confirm_time[(step_confirm_time['days'] == 0)]\n",
    "\n",
    "filter_confirm = step_confirm_time[(step_confirm_time['seconds'] < 1800)]\n",
    "\n",
    "#mean of time takes from going to step2 to step3\n",
    "step_confirm_mean = filter_confirm[\"seconds\"].mean()\n",
    "\n",
    "#mean of time takes from going to step2 to step3\n",
    "step_confirm_std = filter_confirm[\"seconds\"].std()"
   ]
  },
  {
   "cell_type": "code",
   "execution_count": 2077,
   "id": "116b59ae-07ec-4a17-b80c-3f71271015fb",
   "metadata": {},
   "outputs": [],
   "source": [
    "#filtering por those we went back one step, representing an error\n",
    "\n",
    "filter_confirm_error = step_confirm_time[(step_confirm_time['days'] < 0)]\n"
   ]
  },
  {
   "cell_type": "code",
   "execution_count": 2078,
   "id": "2494672a-ed98-4a00-aca8-6febc4eacd7b",
   "metadata": {},
   "outputs": [],
   "source": [
    "#Calculated the error of going on step back in percentage\n",
    "\n",
    "error_confirm_test = round((filter_confirm_error[\"days\"].count() / step_confirm_time[\"days\"].count())*100,2)"
   ]
  },
  {
   "cell_type": "code",
   "execution_count": 2079,
   "id": "b90a9f89-7063-4d32-9626-a805f9838df3",
   "metadata": {},
   "outputs": [],
   "source": [
    "#Calculated the error of going on step back \n",
    "porpotion_error_confirm_test = filter_confirm_error[\"days\"].count() / step_confirm_time[\"days\"].count()\n"
   ]
  },
  {
   "cell_type": "code",
   "execution_count": 2080,
   "id": "34a5a25b-352c-4ca8-aee5-5260a4273ecb",
   "metadata": {},
   "outputs": [
    {
     "data": {
      "text/plain": [
       "128.823415225963"
      ]
     },
     "execution_count": 2080,
     "metadata": {},
     "output_type": "execute_result"
    }
   ],
   "source": [
    "#Mean of those who reach the step \"confirm\"\n",
    "step_confirm_mean"
   ]
  },
  {
   "cell_type": "markdown",
   "id": "651907a9-ee58-48f3-8864-a5c6530bf5d4",
   "metadata": {},
   "source": [
    "### Data Visualization - Time spend on each step on \"test\""
   ]
  },
  {
   "cell_type": "code",
   "execution_count": 2082,
   "id": "66e34900-a524-47b7-96d1-d8b6519eb422",
   "metadata": {
    "tags": []
   },
   "outputs": [
    {
     "data": {
      "image/png": "[encoded data removed]",
      "text/plain": [
       "<Figure size 1000x600 with 1 Axes>"
      ]
     },
     "metadata": {
      "needs_background": "light"
     },
     "output_type": "display_data"
    }
   ],
   "source": [
    "\n",
    "\n",
    "#Plot of the Mean and Standard Deviation of Time Spent on Each Step\n",
    "\n",
    "# List of means and standard deviations\n",
    "step_means = [step_1_mean, step_2_mean, step_3_mean, step_confirm_mean]\n",
    "step_stds = [step_1_std, step_2_std, step_3_std, step_confirm_std]\n",
    "steps = ['step1', 'step2', 'step3', 'confirm']\n",
    "\n",
    "# Create the bar plot\n",
    "x_pos = np.arange(len(steps))\n",
    "plt.figure(figsize=(10, 6), facecolor='None')  # Transparent background\n",
    "\n",
    "# Define asymmetric error bars: no error below, std above\n",
    "error_bars = [0, 0, 0, 0], step_stds\n",
    "\n",
    "# Define light maroon color using RGBA values\n",
    "#light_maroon_rgba = (128/255, 0, 0, 1)  # Adding alpha channel (1 for fully opaque)\n",
    "maroon_hex = \"#800000\"\n",
    "\n",
    "# Create the bar plot with maroon color and borders\n",
    "plt.bar(x_pos, step_means, yerr=error_bars, capsize=5, alpha=0.7, color=maroon_hex, edgecolor='gray', linewidth=1.5)\n",
    "\n",
    "\n",
    "# Remove gridlines\n",
    "plt.grid(False)\n",
    "sns.despine()\n",
    "\n",
    "# Add labels and title\n",
    "plt.xlabel('Process Step')\n",
    "plt.ylabel('Time (seconds)')\n",
    "plt.title('Mean and Standard Deviation of Time Spent on Each Step')\n",
    "plt.xticks(x_pos, steps)\n",
    "# Save the plot with transparent background\n",
    "plt.savefig(os.path.join(save_path, 'Mean and Standard Deviation(TEST).png'), dpi=300, bbox_inches='tight', transparent=True)\n",
    "\n",
    "# Show the plot\n",
    "plt.show()\n"
   ]
  },
  {
   "cell_type": "markdown",
   "id": "1e3bd515-70c2-4be2-8156-d1fe382fc82f",
   "metadata": {},
   "source": [
    "## Control Analysis"
   ]
  },
  {
   "cell_type": "code",
   "execution_count": 2084,
   "id": "b056853b-ab17-42f6-a3a5-cbadbb2071f4",
   "metadata": {},
   "outputs": [],
   "source": [
    "#creating a copy of df to try differents approaches\n",
    "\n",
    "control_test = control_data_1.copy()\n",
    "\n",
    "control_test_1 = control_data_1.copy()\n",
    "\n"
   ]
  },
  {
   "cell_type": "code",
   "execution_count": 2085,
   "id": "c75c2aa1-b2e0-4da9-a1ad-861885fac361",
   "metadata": {},
   "outputs": [],
   "source": [
    "# create a new column for process_step with numbers instead of words\n",
    "name_to_value = {\n",
    "    \"start\": \"1\",\n",
    "    \"step_1\": \"2\",\n",
    "    \"step_2\": \"3\",\n",
    "    \"step_3\": \"4\",\n",
    "    \"confirm\": \"5\"\n",
    "\n",
    "}\n",
    "\n",
    "control_test_1['process_step_n'] = control_test_1['process_step'].map(name_to_value)\n",
    "\n"
   ]
  },
  {
   "cell_type": "code",
   "execution_count": 2086,
   "id": "8eb22317-dd7b-402f-a9f8-96413c5b377a",
   "metadata": {},
   "outputs": [],
   "source": [
    "# transforming date_time in datetime64[ns] types\n",
    "control_test_1['date_time'] = pd.to_datetime(control_test_1['date_time'])\n",
    "\n",
    "# sorting the data set by order descending of this columns \n",
    "control_test_1.sort_values(by=[\"client_id\", \"date_time\", \"process_step_n\"], ascending=[False, False, False], inplace=True)"
   ]
  },
  {
   "cell_type": "code",
   "execution_count": 2087,
   "id": "2ecc75f7-8de8-46e0-a526-d7b5a4f7a968",
   "metadata": {},
   "outputs": [
    {
     "data": {
      "text/html": [
       "<div>\n",
       "<style scoped>\n",
       "    .dataframe tbody tr th:only-of-type {\n",
       "        vertical-align: middle;\n",
       "    }\n",
       "\n",
       "    .dataframe tbody tr th {\n",
       "        vertical-align: top;\n",
       "    }\n",
       "\n",
       "    .dataframe thead th {\n",
       "        text-align: right;\n",
       "    }\n",
       "</style>\n",
       "<table border=\"1\" class=\"dataframe\">\n",
       "  <thead>\n",
       "    <tr style=\"text-align: right;\">\n",
       "      <th></th>\n",
       "      <th>client_id</th>\n",
       "      <th>clnt_tenure_yr</th>\n",
       "      <th>clnt_tenure_mnth</th>\n",
       "      <th>clnt_age</th>\n",
       "      <th>gendr</th>\n",
       "      <th>num_accts</th>\n",
       "      <th>bal</th>\n",
       "      <th>calls_6_mnth</th>\n",
       "      <th>logons_6_mnth</th>\n",
       "      <th>Variation</th>\n",
       "      <th>visitor_id</th>\n",
       "      <th>visit_id</th>\n",
       "      <th>process_step</th>\n",
       "      <th>date_time</th>\n",
       "      <th>process_step_n</th>\n",
       "    </tr>\n",
       "  </thead>\n",
       "  <tbody>\n",
       "    <tr>\n",
       "      <th>27204</th>\n",
       "      <td>9998921</td>\n",
       "      <td>15.0</td>\n",
       "      <td>189.0</td>\n",
       "      <td>38.0</td>\n",
       "      <td>F</td>\n",
       "      <td>2.0</td>\n",
       "      <td>30644.10</td>\n",
       "      <td>4.0</td>\n",
       "      <td>7.0</td>\n",
       "      <td>Control</td>\n",
       "      <td>960034051_85687824805</td>\n",
       "      <td>378424178_59565976155_8051</td>\n",
       "      <td>start</td>\n",
       "      <td>2017-04-18 11:26:31</td>\n",
       "      <td>1</td>\n",
       "    </tr>\n",
       "    <tr>\n",
       "      <th>143002</th>\n",
       "      <td>9998346</td>\n",
       "      <td>50.0</td>\n",
       "      <td>602.0</td>\n",
       "      <td>61.5</td>\n",
       "      <td>F</td>\n",
       "      <td>2.0</td>\n",
       "      <td>149881.38</td>\n",
       "      <td>6.0</td>\n",
       "      <td>9.0</td>\n",
       "      <td>Control</td>\n",
       "      <td>292425655_16607136645</td>\n",
       "      <td>189177304_69869411700_783154</td>\n",
       "      <td>confirm</td>\n",
       "      <td>2017-03-29 15:37:28</td>\n",
       "      <td>5</td>\n",
       "    </tr>\n",
       "    <tr>\n",
       "      <th>143001</th>\n",
       "      <td>9998346</td>\n",
       "      <td>50.0</td>\n",
       "      <td>602.0</td>\n",
       "      <td>61.5</td>\n",
       "      <td>F</td>\n",
       "      <td>2.0</td>\n",
       "      <td>149881.38</td>\n",
       "      <td>6.0</td>\n",
       "      <td>9.0</td>\n",
       "      <td>Control</td>\n",
       "      <td>292425655_16607136645</td>\n",
       "      <td>189177304_69869411700_783154</td>\n",
       "      <td>step_3</td>\n",
       "      <td>2017-03-29 15:37:28</td>\n",
       "      <td>4</td>\n",
       "    </tr>\n",
       "    <tr>\n",
       "      <th>143003</th>\n",
       "      <td>9998346</td>\n",
       "      <td>50.0</td>\n",
       "      <td>602.0</td>\n",
       "      <td>61.5</td>\n",
       "      <td>F</td>\n",
       "      <td>2.0</td>\n",
       "      <td>149881.38</td>\n",
       "      <td>6.0</td>\n",
       "      <td>9.0</td>\n",
       "      <td>Control</td>\n",
       "      <td>292425655_16607136645</td>\n",
       "      <td>189177304_69869411700_783154</td>\n",
       "      <td>step_3</td>\n",
       "      <td>2017-03-29 15:37:28</td>\n",
       "      <td>4</td>\n",
       "    </tr>\n",
       "    <tr>\n",
       "      <th>143004</th>\n",
       "      <td>9998346</td>\n",
       "      <td>50.0</td>\n",
       "      <td>602.0</td>\n",
       "      <td>61.5</td>\n",
       "      <td>F</td>\n",
       "      <td>2.0</td>\n",
       "      <td>149881.38</td>\n",
       "      <td>6.0</td>\n",
       "      <td>9.0</td>\n",
       "      <td>Control</td>\n",
       "      <td>292425655_16607136645</td>\n",
       "      <td>189177304_69869411700_783154</td>\n",
       "      <td>step_3</td>\n",
       "      <td>2017-03-29 15:30:25</td>\n",
       "      <td>4</td>\n",
       "    </tr>\n",
       "  </tbody>\n",
       "</table>\n",
       "</div>"
      ],
      "text/plain": [
       "        client_id  clnt_tenure_yr  clnt_tenure_mnth  clnt_age gendr  \\\n",
       "27204     9998921            15.0             189.0      38.0     F   \n",
       "143002    9998346            50.0             602.0      61.5     F   \n",
       "143001    9998346            50.0             602.0      61.5     F   \n",
       "143003    9998346            50.0             602.0      61.5     F   \n",
       "143004    9998346            50.0             602.0      61.5     F   \n",
       "\n",
       "        num_accts        bal  calls_6_mnth  logons_6_mnth Variation  \\\n",
       "27204         2.0   30644.10           4.0            7.0   Control   \n",
       "143002        2.0  149881.38           6.0            9.0   Control   \n",
       "143001        2.0  149881.38           6.0            9.0   Control   \n",
       "143003        2.0  149881.38           6.0            9.0   Control   \n",
       "143004        2.0  149881.38           6.0            9.0   Control   \n",
       "\n",
       "                   visitor_id                      visit_id process_step  \\\n",
       "27204   960034051_85687824805    378424178_59565976155_8051        start   \n",
       "143002  292425655_16607136645  189177304_69869411700_783154      confirm   \n",
       "143001  292425655_16607136645  189177304_69869411700_783154       step_3   \n",
       "143003  292425655_16607136645  189177304_69869411700_783154       step_3   \n",
       "143004  292425655_16607136645  189177304_69869411700_783154       step_3   \n",
       "\n",
       "                 date_time process_step_n  \n",
       "27204  2017-04-18 11:26:31              1  \n",
       "143002 2017-03-29 15:37:28              5  \n",
       "143001 2017-03-29 15:37:28              4  \n",
       "143003 2017-03-29 15:37:28              4  \n",
       "143004 2017-03-29 15:30:25              4  "
      ]
     },
     "execution_count": 2087,
     "metadata": {},
     "output_type": "execute_result"
    }
   ],
   "source": [
    "control_test_1.head()"
   ]
  },
  {
   "cell_type": "code",
   "execution_count": 2088,
   "id": "d6d81a15-c8c0-4af3-9588-3cb80a40f8dc",
   "metadata": {},
   "outputs": [],
   "source": [
    "control_excel = control_test_1.groupby('client_id').first().reset_index()\n"
   ]
  },
  {
   "cell_type": "code",
   "execution_count": 2280,
   "id": "2ef406d8-c77a-4bbd-b340-5a8920790e0b",
   "metadata": {},
   "outputs": [],
   "source": [
    "#save the df in .xlx file\n",
    "control_excel.to_excel('control.xlsx', index=False, engine='openpyxl')\n"
   ]
  },
  {
   "cell_type": "markdown",
   "id": "c9908678-dac7-4728-9f68-e0191954071b",
   "metadata": {},
   "source": [
    "### Step 1 - Control"
   ]
  },
  {
   "cell_type": "code",
   "execution_count": 2091,
   "id": "93256931-c268-44cb-806f-77a9f8e0003d",
   "metadata": {},
   "outputs": [],
   "source": [
    "#filter by process step \"start\" in control test\n",
    "\n",
    "filtered_data_start_control = control_test_1[control_test_1['process_step_n'] == \"1\"]\n",
    "\n",
    "#creating new df for all the values of \"start\"\n",
    "\n",
    "start_control_data = filtered_data_start_control.groupby('client_id').first()[[\"visit_id\", 'date_time']]\n",
    "\n",
    "# Reset index to make 'client_id' a column again\n",
    "start_control_data = start_control_data.reset_index()"
   ]
  },
  {
   "cell_type": "code",
   "execution_count": 2092,
   "id": "8f6017b4-890a-4054-ab62-fe20c6995285",
   "metadata": {},
   "outputs": [
    {
     "data": {
      "text/html": [
       "<div>\n",
       "<style scoped>\n",
       "    .dataframe tbody tr th:only-of-type {\n",
       "        vertical-align: middle;\n",
       "    }\n",
       "\n",
       "    .dataframe tbody tr th {\n",
       "        vertical-align: top;\n",
       "    }\n",
       "\n",
       "    .dataframe thead th {\n",
       "        text-align: right;\n",
       "    }\n",
       "</style>\n",
       "<table border=\"1\" class=\"dataframe\">\n",
       "  <thead>\n",
       "    <tr style=\"text-align: right;\">\n",
       "      <th></th>\n",
       "      <th>client_id</th>\n",
       "      <th>visit_id</th>\n",
       "      <th>date_time</th>\n",
       "    </tr>\n",
       "  </thead>\n",
       "  <tbody>\n",
       "    <tr>\n",
       "      <th>0</th>\n",
       "      <td>1028</td>\n",
       "      <td>557292053_87239438319_391157</td>\n",
       "      <td>2017-04-08 18:51:28</td>\n",
       "    </tr>\n",
       "    <tr>\n",
       "      <th>1</th>\n",
       "      <td>1104</td>\n",
       "      <td>643221571_99977972121_69283</td>\n",
       "      <td>2017-06-20 22:31:33</td>\n",
       "    </tr>\n",
       "    <tr>\n",
       "      <th>2</th>\n",
       "      <td>1186</td>\n",
       "      <td>795373564_99931517312_810896</td>\n",
       "      <td>2017-04-08 18:05:02</td>\n",
       "    </tr>\n",
       "    <tr>\n",
       "      <th>3</th>\n",
       "      <td>1195</td>\n",
       "      <td>393817425_39015278493_996341</td>\n",
       "      <td>2017-04-05 20:15:26</td>\n",
       "    </tr>\n",
       "    <tr>\n",
       "      <th>4</th>\n",
       "      <td>1197</td>\n",
       "      <td>71862471_21202285428_848395</td>\n",
       "      <td>2017-04-01 17:16:24</td>\n",
       "    </tr>\n",
       "  </tbody>\n",
       "</table>\n",
       "</div>"
      ],
      "text/plain": [
       "   client_id                      visit_id           date_time\n",
       "0       1028  557292053_87239438319_391157 2017-04-08 18:51:28\n",
       "1       1104   643221571_99977972121_69283 2017-06-20 22:31:33\n",
       "2       1186  795373564_99931517312_810896 2017-04-08 18:05:02\n",
       "3       1195  393817425_39015278493_996341 2017-04-05 20:15:26\n",
       "4       1197   71862471_21202285428_848395 2017-04-01 17:16:24"
      ]
     },
     "execution_count": 2092,
     "metadata": {},
     "output_type": "execute_result"
    }
   ],
   "source": [
    "start_control_data.head()"
   ]
  },
  {
   "cell_type": "code",
   "execution_count": 2093,
   "id": "f9ff1834-5cf3-4b76-b2e7-0fae722af1bd",
   "metadata": {},
   "outputs": [],
   "source": [
    "#filter by process step \"step1\" in control\n",
    "\n",
    "filtered_data_step1_control = control_test_1[control_test_1['process_step_n'] == \"2\"]\n",
    "\n",
    "#creating new df for all the values of \"step1\"\n",
    "\n",
    "#step1_test_data_control = filtered_data_step1_control.groupby('client_id').first()[['date_time']]\n",
    "\n",
    "step1_test_data_control = filtered_data_step1_control.groupby('client_id').first()[[\"visit_id\", 'date_time']]\n",
    "\n",
    "# Reset index to make 'client_id' a column again\n",
    "step1_test_data_control = step1_test_data_control.reset_index()\n"
   ]
  },
  {
   "cell_type": "code",
   "execution_count": 2094,
   "id": "ff2b3b64-4759-41a5-9b9f-8483fc450bb8",
   "metadata": {},
   "outputs": [
    {
     "data": {
      "text/html": [
       "<div>\n",
       "<style scoped>\n",
       "    .dataframe tbody tr th:only-of-type {\n",
       "        vertical-align: middle;\n",
       "    }\n",
       "\n",
       "    .dataframe tbody tr th {\n",
       "        vertical-align: top;\n",
       "    }\n",
       "\n",
       "    .dataframe thead th {\n",
       "        text-align: right;\n",
       "    }\n",
       "</style>\n",
       "<table border=\"1\" class=\"dataframe\">\n",
       "  <thead>\n",
       "    <tr style=\"text-align: right;\">\n",
       "      <th></th>\n",
       "      <th>client_id</th>\n",
       "      <th>visit_id</th>\n",
       "      <th>date_time</th>\n",
       "    </tr>\n",
       "  </thead>\n",
       "  <tbody>\n",
       "    <tr>\n",
       "      <th>0</th>\n",
       "      <td>1028</td>\n",
       "      <td>557292053_87239438319_391157</td>\n",
       "      <td>2017-04-08 19:00:26</td>\n",
       "    </tr>\n",
       "    <tr>\n",
       "      <th>1</th>\n",
       "      <td>1186</td>\n",
       "      <td>795373564_99931517312_810896</td>\n",
       "      <td>2017-04-08 18:05:13</td>\n",
       "    </tr>\n",
       "    <tr>\n",
       "      <th>2</th>\n",
       "      <td>1195</td>\n",
       "      <td>393817425_39015278493_996341</td>\n",
       "      <td>2017-04-05 20:15:59</td>\n",
       "    </tr>\n",
       "    <tr>\n",
       "      <th>3</th>\n",
       "      <td>1197</td>\n",
       "      <td>71862471_21202285428_848395</td>\n",
       "      <td>2017-04-01 17:16:28</td>\n",
       "    </tr>\n",
       "    <tr>\n",
       "      <th>4</th>\n",
       "      <td>3647</td>\n",
       "      <td>53540785_76819002881_890663</td>\n",
       "      <td>2017-06-01 15:48:13</td>\n",
       "    </tr>\n",
       "  </tbody>\n",
       "</table>\n",
       "</div>"
      ],
      "text/plain": [
       "   client_id                      visit_id           date_time\n",
       "0       1028  557292053_87239438319_391157 2017-04-08 19:00:26\n",
       "1       1186  795373564_99931517312_810896 2017-04-08 18:05:13\n",
       "2       1195  393817425_39015278493_996341 2017-04-05 20:15:59\n",
       "3       1197   71862471_21202285428_848395 2017-04-01 17:16:28\n",
       "4       3647   53540785_76819002881_890663 2017-06-01 15:48:13"
      ]
     },
     "execution_count": 2094,
     "metadata": {},
     "output_type": "execute_result"
    }
   ],
   "source": [
    "step1_test_data_control.head()"
   ]
  },
  {
   "cell_type": "code",
   "execution_count": 2095,
   "id": "f6a91241-fec4-49f6-9fda-35c3ad3fa4bf",
   "metadata": {},
   "outputs": [],
   "source": [
    "#applying the function to calculate the time between steps\n",
    "step_1_time_control = subtract_date_column(step1_test_data_control, start_control_data)"
   ]
  },
  {
   "cell_type": "code",
   "execution_count": 2096,
   "id": "e19f4b7e-859f-4dc4-9640-0bf71cffc14a",
   "metadata": {},
   "outputs": [],
   "source": [
    "#Convert \"days\" to type date\n",
    "step_1_time_control ['days'] = step_1_time_control ['time_step_z'].dt.days\n",
    "# Convert hours and minutes to seconds and add them to the total seconds\n",
    "step_1_time_control ['seconds'] = step_1_time_control ['time_step_z'].dt.components['hours'] * 3600 + \\\n",
    "                        step_1_time_control ['time_step_z'].dt.components['minutes'] * 60 + \\\n",
    "                        step_1_time_control ['time_step_z'].dt.components['seconds']\n"
   ]
  },
  {
   "cell_type": "code",
   "execution_count": 2097,
   "id": "1a28b3cc-1ead-4075-803e-89694a0ca030",
   "metadata": {},
   "outputs": [],
   "source": [
    "#filtering for those took less than one day and half an hour\n",
    "filter_step_1_control = step_1_time_control[(step_1_time_control['days'] == 0)]\n",
    "filter_step_1_control = step_1_time_control[(step_1_time_control['seconds'] < 1800)]\n",
    "\n",
    "#mean of time takes from going to start to step1\n",
    "step_1_mean_control = filter_step_1_control[\"seconds\"].mean()\n",
    "\n",
    "#mean of time takes from going to start to step1\n",
    "step_1_std_control = filter_step_1_control[\"seconds\"].std()"
   ]
  },
  {
   "cell_type": "code",
   "execution_count": 2098,
   "id": "11adc6d8-da06-4395-a92d-85da54f211a2",
   "metadata": {},
   "outputs": [],
   "source": [
    "#filtering por those we went back one step, representing an error\n",
    "filter_step_1_control_error = step_1_time_control[(step_1_time_control['days'] < 0)]\n"
   ]
  },
  {
   "cell_type": "code",
   "execution_count": 2099,
   "id": "9b24b49a-33ca-4c36-96a3-66a34a4b85e4",
   "metadata": {},
   "outputs": [],
   "source": [
    "#Calculated the error of going on step back in percentage\n",
    "error_step_1_control = round((filter_step_1_control_error[\"days\"].count() / step_1_time_control[\"days\"].count())* 100,2)"
   ]
  },
  {
   "cell_type": "code",
   "execution_count": 2100,
   "id": "6501b350-2a68-4636-8bda-542d9ab1be79",
   "metadata": {},
   "outputs": [],
   "source": [
    "#Calculated the error of going on step back\n",
    "porpotion_error_step_1_control=filter_step_1_control_error[\"days\"].count() / step_1_time_control[\"days\"].count()"
   ]
  },
  {
   "cell_type": "markdown",
   "id": "13d01487-e702-46a1-9cae-73e1cf7fea34",
   "metadata": {},
   "source": [
    "### Step 2 - Control "
   ]
  },
  {
   "cell_type": "code",
   "execution_count": 2102,
   "id": "eb68081c-c741-448b-aad4-5ac3e45b626a",
   "metadata": {},
   "outputs": [],
   "source": [
    "#filter by process step \"step2\" \n",
    "\n",
    "filtered_data_step2_control = control_test_1[control_test_1['process_step_n'] == \"3\"]\n",
    "\n",
    "#creating new df for all the values of \"step2\"\n",
    "\n",
    "step2_test_data_control = filtered_data_step2_control.groupby('client_id').first()[[\"visit_id\", 'date_time']]\n",
    "\n",
    "# Reset index to make 'client_id' a column again\n",
    "step2_test_data_control = step2_test_data_control.reset_index()\n"
   ]
  },
  {
   "cell_type": "code",
   "execution_count": 2103,
   "id": "d6e5be58-bb36-4ecf-a70a-9dfcd710a8f0",
   "metadata": {},
   "outputs": [],
   "source": [
    "#applying the function to calculate the time between steps\n",
    "step_2_time_control = subtract_date_column(step2_test_data_control, step1_test_data_control)\n"
   ]
  },
  {
   "cell_type": "code",
   "execution_count": 2104,
   "id": "3db08e65-90af-4b48-adbc-5d5e81eabf14",
   "metadata": {},
   "outputs": [],
   "source": [
    "#Convert \"days\" to type date\n",
    "step_2_time_control ['days'] = step_2_time_control ['time_step_z'].dt.days\n",
    "# Convert hours and minutes to seconds and add them to the total seconds\n",
    "step_2_time_control ['seconds'] = step_2_time_control ['time_step_z'].dt.components['hours'] * 3600 + \\\n",
    "                        step_2_time_control ['time_step_z'].dt.components['minutes'] * 60 + \\\n",
    "                        step_2_time_control ['time_step_z'].dt.components['seconds']\n"
   ]
  },
  {
   "cell_type": "code",
   "execution_count": 2105,
   "id": "1179edd7-6038-4696-9bd3-9625b17f7dac",
   "metadata": {},
   "outputs": [],
   "source": [
    "#filtering for those took less than one day and half and hour \n",
    "filter_step_2_control = step_2_time_control[(step_2_time_control['days'] == 0)]\n",
    "filter_step_2_control = step_2_time_control[(step_2_time_control['seconds'] < 1800)]\n",
    "\n",
    "#mean of time takes from going to step1 to step2\n",
    "step_2_mean_control = filter_step_2_control[\"seconds\"].mean()\n",
    "\n",
    "#mean of time takes from going to step1 to step2\n",
    "step_2_std_control =filter_step_2_control[\"seconds\"].std()"
   ]
  },
  {
   "cell_type": "code",
   "execution_count": 2106,
   "id": "cfc5817c-ae30-4d1a-b13e-a95c2f532af6",
   "metadata": {},
   "outputs": [],
   "source": [
    "#filtering por those we went back one step, representing an error\n",
    "filter_step_2_control_error = step_2_time_control[(step_2_time_control['days'] < 0)]\n",
    "\n",
    "#Calculated the error of going on step back in percentage\n",
    "error_step_2_control = round((filter_step_2_control_error[\"days\"].count() / step_2_time_control[\"days\"].count())*100,2)"
   ]
  },
  {
   "cell_type": "code",
   "execution_count": 2107,
   "id": "0e10b8af-89fc-42e6-99cc-4204d25d5e28",
   "metadata": {},
   "outputs": [],
   "source": [
    "#Calculated the error of going on step back\n",
    "porpotion_error_step_2_control=filter_step_2_control_error[\"days\"].count() / step_2_time_control[\"days\"].count()"
   ]
  },
  {
   "cell_type": "code",
   "execution_count": 2108,
   "id": "42a91d83-ef5c-4d77-b5b0-cf5917adbbac",
   "metadata": {},
   "outputs": [
    {
     "data": {
      "text/plain": [
       "53.16642068599091"
      ]
     },
     "execution_count": 2108,
     "metadata": {},
     "output_type": "execute_result"
    }
   ],
   "source": [
    "#mean of those who reach step 2 \n",
    "step_2_mean_control"
   ]
  },
  {
   "cell_type": "code",
   "execution_count": 2109,
   "id": "0097594a-f380-41e6-8d06-5a505771e5af",
   "metadata": {},
   "outputs": [
    {
     "data": {
      "text/plain": [
       "104.30302838289646"
      ]
     },
     "execution_count": 2109,
     "metadata": {},
     "output_type": "execute_result"
    }
   ],
   "source": [
    "#Standard deviation of those who reach step 2 \n",
    "\n",
    "step_2_std_control"
   ]
  },
  {
   "cell_type": "markdown",
   "id": "1449adf7-cb22-46a0-b3a4-b7dfb9fff6c3",
   "metadata": {},
   "source": [
    "### Step 3 - Control"
   ]
  },
  {
   "cell_type": "code",
   "execution_count": 2111,
   "id": "d55dcb64-6c46-4d54-9d39-4da029562fd5",
   "metadata": {},
   "outputs": [],
   "source": [
    "#filter by process step \"step3\" in control\n",
    "\n",
    "filtered_data_step3_control = control_test_1[control_test_1['process_step_n'] == \"4\"]\n",
    "\n",
    "#creating new df for all the values of \"step3\"\n",
    "\n",
    "step3_test_data_control = filtered_data_step3_control.groupby('client_id').first()[[\"visit_id\", 'date_time']]\n",
    "\n",
    "# Reset index to make 'client_id' a column again\n",
    "step3_test_data_control = step3_test_data_control.reset_index()"
   ]
  },
  {
   "cell_type": "code",
   "execution_count": 2112,
   "id": "469155fa-f5b3-4f43-9379-c8eaa22ba3f8",
   "metadata": {},
   "outputs": [],
   "source": [
    "#applying the function to calculate the time between steps\n",
    "step_3_time_control = subtract_date_column(step3_test_data_control, step2_test_data_control)"
   ]
  },
  {
   "cell_type": "code",
   "execution_count": 2113,
   "id": "dd861174-96cc-4720-b44d-03a1abf25070",
   "metadata": {},
   "outputs": [],
   "source": [
    "#Convert \"days\" to type date\n",
    "step_3_time_control ['days'] = step_3_time_control ['time_step_z'].dt.days\n",
    "# Convert hours and minutes to seconds and add them to the total seconds\n",
    "step_3_time_control ['seconds'] = step_3_time_control ['time_step_z'].dt.components['hours'] * 3600 + \\\n",
    "                        step_3_time_control ['time_step_z'].dt.components['minutes'] * 60 + \\\n",
    "                        step_3_time_control ['time_step_z'].dt.components['seconds']\n",
    "\n",
    "\n",
    "#filtering for those took less than one day\n",
    "filter_step_3_control = step_3_time_control[(step_3_time_control['days'] == 0)]\n",
    "filter_step_3_control = step_3_time_control[(step_3_time_control['seconds'] < 1800)]\n",
    "\n",
    "#mean of time takes from going to step2 to step3\n",
    "step_3_mean_control = filter_step_3_control[\"seconds\"].mean()\n",
    "\n",
    "#mean of time takes from going to step2 to step3\n",
    "step_3_std_control = filter_step_3_control[\"seconds\"].std()"
   ]
  },
  {
   "cell_type": "code",
   "execution_count": 2114,
   "id": "f8d8ee4e-1b0e-44c8-96d7-642065f63861",
   "metadata": {},
   "outputs": [],
   "source": [
    "#filtering por those we went back one step, representing an error\n",
    "filter_step_3_control_error = step_3_time_control[(step_3_time_control['days'] < 0)]\n",
    "\n",
    "#Calculated the error of going on step back in percentage\n",
    "error_step_3_control = round((filter_step_3_control_error[\"days\"].count() / step_3_time_control[\"days\"].count()) *100,2)"
   ]
  },
  {
   "cell_type": "code",
   "execution_count": 2115,
   "id": "442d93b1-3c54-41da-b1e0-c2d6d64b4d3f",
   "metadata": {},
   "outputs": [],
   "source": [
    "#Calculated the error of going on step back\n",
    "porpotion_error_step_3_control=filter_step_3_control_error[\"days\"].count() / step_3_time_control[\"days\"].count()"
   ]
  },
  {
   "cell_type": "code",
   "execution_count": 2116,
   "id": "acb41d26-29a4-4c04-9372-b0dd6b12a36d",
   "metadata": {},
   "outputs": [
    {
     "data": {
      "text/plain": [
       "97.58430198426676"
      ]
     },
     "execution_count": 2116,
     "metadata": {},
     "output_type": "execute_result"
    }
   ],
   "source": [
    "#mean of those who reach step 2 \n",
    "step_3_mean_control"
   ]
  },
  {
   "cell_type": "code",
   "execution_count": 2117,
   "id": "67f98564-f294-4186-91ba-a9a29ce50957",
   "metadata": {},
   "outputs": [
    {
     "data": {
      "text/plain": [
       "116.38479498571104"
      ]
     },
     "execution_count": 2117,
     "metadata": {},
     "output_type": "execute_result"
    }
   ],
   "source": [
    "#Standard deviation of those who reach step 3 \n",
    "step_3_std_control"
   ]
  },
  {
   "cell_type": "markdown",
   "id": "f2d9b7a1-1f98-4252-b670-d1cb387f5b47",
   "metadata": {},
   "source": [
    "### Confirm - Control"
   ]
  },
  {
   "cell_type": "code",
   "execution_count": 2119,
   "id": "749ceec5-f657-4ee6-b480-563f6e8a868f",
   "metadata": {},
   "outputs": [],
   "source": [
    "#filter by process step \"confirm\" in control\n",
    "\n",
    "filtered_data_confirm_control = control_test_1[control_test_1['process_step_n'] == \"5\"]\n",
    "\n",
    "#creating new df for all the values of \"confirm\"\n",
    "\n",
    "confirm_test_data_control = filtered_data_confirm_control.groupby('client_id').first()[[\"visit_id\", 'date_time']]\n",
    "\n",
    "# Reset index to make 'client_id' a column again\n",
    "confirm_test_data_control = confirm_test_data_control.reset_index()\n"
   ]
  },
  {
   "cell_type": "code",
   "execution_count": 2120,
   "id": "a8ddaac0-b684-45ef-b721-2fa4f5d21c74",
   "metadata": {},
   "outputs": [],
   "source": [
    "#applying the function to calculate the time between steps\n",
    "step_confirm_time_control = subtract_date_column(confirm_test_data_control, step3_test_data_control)\n"
   ]
  },
  {
   "cell_type": "code",
   "execution_count": 2121,
   "id": "29e442f6-9329-4296-b595-15eb8958c172",
   "metadata": {},
   "outputs": [],
   "source": [
    "#Convert \"days\" to type date\n",
    "step_confirm_time_control  ['days'] = step_confirm_time_control  ['time_step_z'].dt.days\n",
    "# Convert hours and minutes to seconds and add them to the total seconds\n",
    "step_confirm_time_control  ['seconds'] = step_confirm_time_control  ['time_step_z'].dt.components['hours'] * 3600 + \\\n",
    "                        step_confirm_time_control  ['time_step_z'].dt.components['minutes'] * 60 + \\\n",
    "                        step_confirm_time_control  ['time_step_z'].dt.components['seconds']\n"
   ]
  },
  {
   "cell_type": "code",
   "execution_count": 2122,
   "id": "e7d955f4-b5fa-455b-93d7-0a5a1ab8607d",
   "metadata": {},
   "outputs": [],
   "source": [
    "#filtering for those took less than one day and half an hour\n",
    "filter_confirm_control = step_confirm_time_control[(step_confirm_time_control['days'] == 0)]\n",
    "\n",
    "filter_confirm_control = step_confirm_time_control[(step_confirm_time_control['seconds'] < 1800)]\n",
    "\n",
    "#mean of time takes from going to step2 to step3\n",
    "step_confirm_mean_control = filter_confirm_control[\"seconds\"].mean()\n",
    "\n",
    "#mean of time takes from going to step2 to step3\n",
    "step_confirm_std_control = filter_confirm_control[\"seconds\"].std()"
   ]
  },
  {
   "cell_type": "code",
   "execution_count": 2123,
   "id": "a1645815-8d87-4500-a73a-7fb683cb9328",
   "metadata": {},
   "outputs": [],
   "source": [
    "#filtering por those we went back one step, representing an error\n",
    "filter_confirm_control_error = step_confirm_time_control[(step_confirm_time_control['days'] < 0)]\n",
    "\n",
    "#Calculated the error of going on step back in percentage\n",
    "\n",
    "error_confirm_control = round((filter_confirm_control_error[\"days\"].count() / step_confirm_time_control[\"days\"].count())*100,2)"
   ]
  },
  {
   "cell_type": "code",
   "execution_count": 2124,
   "id": "351d03b5-4a59-4ddf-97d3-09e5cb40579c",
   "metadata": {},
   "outputs": [],
   "source": [
    "#Calculated the error of going on step back\n",
    "\n",
    "propotion_error_confirm_control = filter_confirm_control_error[\"days\"].count() / step_confirm_time_control[\"days\"].count()"
   ]
  },
  {
   "cell_type": "code",
   "execution_count": 2125,
   "id": "39d65b3f-8245-4a8e-a2fe-8c14017c6b63",
   "metadata": {},
   "outputs": [
    {
     "data": {
      "text/plain": [
       "133.25762780359668"
      ]
     },
     "execution_count": 2125,
     "metadata": {},
     "output_type": "execute_result"
    }
   ],
   "source": [
    "#mean of those who reach step confirm \n",
    "\n",
    "step_confirm_mean_control "
   ]
  },
  {
   "cell_type": "markdown",
   "id": "f5c3ca02-907e-4620-91dd-e0ccf24bfa48",
   "metadata": {},
   "source": [
    "### Data Visualization: Time spend on each step on \"control\""
   ]
  },
  {
   "cell_type": "code",
   "execution_count": 2127,
   "id": "3b989600-617d-4b1e-a899-1d6a6aa206d9",
   "metadata": {},
   "outputs": [
    {
     "data": {
      "image/png": "[encoded data removed]",
      "text/plain": [
       "<Figure size 1000x600 with 1 Axes>"
      ]
     },
     "metadata": {},
     "output_type": "display_data"
    }
   ],
   "source": [
    "# List of means and standard deviations\n",
    "step_means_control = [step_1_mean_control, step_2_mean_control, step_3_mean_control, step_confirm_mean_control]\n",
    "step_stds_control = [step_1_std_control, step_2_std_control, step_3_std_control, step_confirm_std_control]\n",
    "steps = ['step1', 'step2', 'step3', 'confirm']\n",
    "\n",
    "# Create the bar plot\n",
    "x_pos = np.arange(len(steps))\n",
    "plt.figure(figsize=(10, 6))\n",
    "\n",
    "# Define asymmetric error bars: no error below, std above\n",
    "error_bars = [0, 0, 0, 0], step_stds\n",
    "\n",
    "plt.bar(x_pos, step_means_control, yerr=error_bars, capsize=5, alpha=0.7, color='green')\n",
    "\n",
    "# Add labels and title\n",
    "plt.xlabel('Process Step')\n",
    "plt.ylabel('Time (seconds)')\n",
    "plt.title('Mean and Standard Deviation of Time Spent on Each Step')\n",
    "plt.xticks(x_pos, steps)\n",
    "plt.show()"
   ]
  },
  {
   "cell_type": "markdown",
   "id": "19819495-e8a4-4dd7-9072-e79eda8172da",
   "metadata": {},
   "source": [
    "## Data Visualization: Time spend on each step "
   ]
  },
  {
   "cell_type": "code",
   "execution_count": 2129,
   "id": "97b3ef54-6e73-4179-a4c7-e208e0171992",
   "metadata": {},
   "outputs": [
    {
     "data": {
      "image/png": "[encoded data removed]",
      "text/plain": [
       "<Figure size 1000x600 with 1 Axes>"
      ]
     },
     "metadata": {
      "needs_background": "light"
     },
     "output_type": "display_data"
    }
   ],
   "source": [
    "import numpy as np\n",
    "import matplotlib.pyplot as plt\n",
    "\n",
    "# Control group data\n",
    "step_means_control = [step_1_mean_control, step_2_mean_control, step_3_mean_control, step_confirm_mean_control]\n",
    "step_stds_control = [step_1_std_control, step_2_std_control, step_3_std_control, step_confirm_std_control]\n",
    "\n",
    "# Test group data\n",
    "step_means = [step_1_mean, step_2_mean, step_3_mean, step_confirm_mean]\n",
    "step_stds = [step_1_std, step_2_std, step_3_std, step_confirm_std]\n",
    "\n",
    "steps = ['step1', 'step2', 'step3', 'confirm']\n",
    "x_pos = np.arange(len(steps))\n",
    "\n",
    "# Create the bar plot\n",
    "plt.figure(figsize=(10, 6))\n",
    "\n",
    "# Define asymmetric error bars: no error below, std above\n",
    "error_bars_control = [0, 0, 0, 0], step_stds_control\n",
    "error_bars_test = [0, 0, 0, 0], step_stds\n",
    "\n",
    "# Plot for control group\n",
    "plt.bar(x_pos - 0.2, step_means_control, yerr=error_bars_control, capsize=5, alpha=0.7, color='darkgreen', width=0.4, label='Control Group')\n",
    "\n",
    "# Plot for test group\n",
    "plt.bar(x_pos + 0.2, step_means, yerr=error_bars_test, capsize=5, color='#976255', width=0.4, label='Test Group')\n",
    "\n",
    "# Add labels and title\n",
    "plt.xlabel('Process Step')\n",
    "plt.ylabel('Time (seconds)')\n",
    "#plt.title('Mean and Standard Deviation of Time Spent on Each Step')\n",
    "plt.xticks(x_pos, steps)\n",
    "plt.legend()\n",
    "\n",
    "# Remove gridlines and spines\n",
    "plt.grid(False)\n",
    "plt.gca().spines['top'].set_visible(False)\n",
    "plt.gca().spines['right'].set_visible(False)\n",
    "plt.gca().spines['left'].set_visible(True)\n",
    "plt.gca().spines['bottom'].set_visible(True)\n",
    "\n",
    "# Make background transparent\n",
    "plt.gcf().patch.set_facecolor('None')\n",
    "\n",
    "plt.savefig(os.path.join(save_path, 'Mean and Standard Deviation(controlvstest).png'), dpi=300, bbox_inches='tight', transparent=True)\n",
    "\n",
    "\n",
    "# Show the plot\n",
    "plt.show()\n"
   ]
  },
  {
   "cell_type": "markdown",
   "id": "a5b823c2-d1f5-4608-84a5-3767dd098f94",
   "metadata": {},
   "source": [
    "## Data Visualization: Completion rate \n"
   ]
  },
  {
   "cell_type": "code",
   "execution_count": 2131,
   "id": "d4911e07-9e6b-4334-9a81-32bf0a922f75",
   "metadata": {},
   "outputs": [],
   "source": [
    "#calculating the propotion of confirms for \"test\"\n",
    "\n",
    "x_test = tested.copy()\n",
    "y_test = tested.copy()\n",
    "\n",
    "x_test = x_test[x_test[\"process_step_n\"] == \"5\"]\n",
    "percentage_test = x_test.drop_duplicates(subset=['client_id'], keep='first')\n",
    "\n",
    "y_test = y_test.drop_duplicates(subset=['client_id'], keep='first')\n",
    "\n",
    "sum_drop_test = percentage_test.value_counts().sum()\n",
    "sum_confirms_test = y_test.value_counts().sum()\n",
    "\n",
    "proportion_confirm_test = round((sum_drop_test / sum_confirms_test)*100, 2)"
   ]
  },
  {
   "cell_type": "code",
   "execution_count": 2132,
   "id": "efa5198b-6990-45de-aac5-1f3b1f8ec2d0",
   "metadata": {},
   "outputs": [],
   "source": [
    "proportion_confirm_test_1 = round((sum_drop_test / sum_confirms_test), 2)"
   ]
  },
  {
   "cell_type": "code",
   "execution_count": 2133,
   "id": "08e84f95-25ed-48e6-a0e7-c1e4ee94f9d7",
   "metadata": {},
   "outputs": [],
   "source": [
    "# creating a copy of the df for testing further analysis\n",
    "drop_control = control_test_1.copy()"
   ]
  },
  {
   "cell_type": "code",
   "execution_count": 2134,
   "id": "c116546a-8b5e-4dd4-bc42-aaf86879173b",
   "metadata": {},
   "outputs": [],
   "source": [
    "#calculating the propotion of confirms for \"control\"\n",
    "\n",
    "x = drop_control[drop_control[\"process_step_n\"] == \"5\"]\n",
    "x_drop = x.drop_duplicates(subset=['client_id'], keep='first')\n",
    "\n",
    "y = drop_control.drop_duplicates(subset=[\"client_id\"], keep =\"first\")\n",
    "\n",
    "sum_x = x_drop.value_counts().sum()\n",
    "sum_y = y.value_counts().sum()\n",
    "\n",
    "proportion_confirm_control = round((sum_x/sum_y )*100, 2)"
   ]
  },
  {
   "cell_type": "code",
   "execution_count": 2135,
   "id": "94d94131-1ea2-4d50-b021-cb1f0afe70c9",
   "metadata": {},
   "outputs": [
    {
     "data": {
      "text/plain": [
       "15428"
      ]
     },
     "execution_count": 2135,
     "metadata": {},
     "output_type": "execute_result"
    }
   ],
   "source": [
    "x_drop.value_counts().sum()"
   ]
  },
  {
   "cell_type": "code",
   "execution_count": 2136,
   "id": "0434548f-81cb-4dc5-9768-62013fc86109",
   "metadata": {},
   "outputs": [],
   "source": [
    "proportion_confirm_control_1 = round((sum_x/sum_y ), 2)"
   ]
  },
  {
   "cell_type": "code",
   "execution_count": 2137,
   "id": "b2242fd1-2657-4f25-8356-88b5129ab784",
   "metadata": {},
   "outputs": [
    {
     "data": {
      "text/plain": [
       "0.66"
      ]
     },
     "execution_count": 2137,
     "metadata": {},
     "output_type": "execute_result"
    }
   ],
   "source": [
    "proportion_confirm_control_1"
   ]
  },
  {
   "cell_type": "code",
   "execution_count": 2138,
   "id": "06702023-5404-4e9b-9829-8be935190e31",
   "metadata": {},
   "outputs": [
    {
     "data": {
      "text/plain": [
       "65.58"
      ]
     },
     "execution_count": 2138,
     "metadata": {},
     "output_type": "execute_result"
    }
   ],
   "source": [
    "proportion_confirm_control "
   ]
  },
  {
   "cell_type": "code",
   "execution_count": 2139,
   "id": "69519abd-9e4f-492d-b074-18fcff15c45a",
   "metadata": {},
   "outputs": [
    {
     "data": {
      "image/png": "[encoded data removed]",
      "text/plain": [
       "<Figure size 800x500 with 1 Axes>"
      ]
     },
     "metadata": {},
     "output_type": "display_data"
    }
   ],
   "source": [
    "#plot Comparison of Confirmation Proportions\n",
    "# Data\n",
    "categories = ['Control', 'Test']\n",
    "values = [proportion_confirm_control, proportion_confirm_test]\n",
    "\n",
    "# Create the bar graph\n",
    "plt.figure(figsize=(8, 5))\n",
    "plt.bar(categories, values, color=['darkgreen', '#800000'])\n",
    "plt.xlabel('Group')\n",
    "plt.ylabel('Percentage')\n",
    "plt.title('Comparison of Confirmation Proportions')\n",
    "plt.ylim(0, 100)  # Setting the y-axis limit from 0 to 100 for better visualization\n",
    "\n",
    "# Display the percentage value on top of each bar\n",
    "for i, v in enumerate(values):\n",
    "    plt.text(i, v + 1, f\"{v}%\", ha='center', fontweight='normal')\n",
    "\n",
    "\n",
    "# Show the plot\n",
    "plt.show()\n"
   ]
  },
  {
   "cell_type": "markdown",
   "id": "cc8d2675-fa01-45f8-90a8-1d1be8826b70",
   "metadata": {},
   "source": [
    "## Statistical Analysis"
   ]
  },
  {
   "cell_type": "markdown",
   "id": "b4a1a9a0-4809-45f7-946a-65055157ef30",
   "metadata": {},
   "source": [
    "### Z-test "
   ]
  },
  {
   "cell_type": "code",
   "execution_count": 2142,
   "id": "8487e744-bc85-4cd8-ab5d-8b9201ff755a",
   "metadata": {},
   "outputs": [
    {
     "name": "stdout",
     "output_type": "stream",
     "text": [
      "Test statistic (z): -5.894563830033553\n",
      "P-value: 3.756723598868916e-09\n",
      "Reject the null hypothesis: There is a significant difference between the two proportions.\n"
     ]
    }
   ],
   "source": [
    "# Applying a two-proportion z-test.This test compares two population proportions to see if they are significantly different from each other.\n",
    "\n",
    "# data\n",
    "p1 = proportion_confirm_control_1  # proportion of control group reaching the last step\n",
    "p2 = proportion_confirm_test_1\n",
    "n1 = sum_x   # sample size of control group\n",
    "n2 = sum_drop_test   # sample size of test group\n",
    "\n",
    "# Number of successes\n",
    "x1 = p1 * n1\n",
    "x2 = p2 * n2\n",
    "\n",
    "# Pooled proportion\n",
    "p_pool = (x1 + x2) / (n1 + n2)\n",
    "\n",
    "# Standard error\n",
    "se = np.sqrt(p_pool * (1 - p_pool) * (1/n1 + 1/n2))\n",
    "\n",
    "# Test statistic\n",
    "z = (p1 - p2) / se\n",
    "\n",
    "# P-value\n",
    "p_value = 2 * (1 - stats.norm.cdf(abs(z)))\n",
    "\n",
    "# Output results\n",
    "print(f\"Test statistic (z): {z}\")\n",
    "print(f\"P-value: {p_value}\")\n",
    "\n",
    "# Conclusion\n",
    "alpha = 0.05\n",
    "if p_value < alpha:\n",
    "    print(\"Reject the null hypothesis: There is a significant difference between the two proportions.\")\n",
    "else:\n",
    "    print(\"Fail to reject the null hypothesis: There is no significant difference between the two proportions.\")\n"
   ]
  },
  {
   "cell_type": "code",
   "execution_count": 2143,
   "id": "e2926e23-9220-4e55-a644-9774b0eb254a",
   "metadata": {},
   "outputs": [
    {
     "name": "stdout",
     "output_type": "stream",
     "text": [
      "133.25762780359668\n",
      "128.823415225963\n"
     ]
    }
   ],
   "source": [
    "print(filter_confirm_control[\"seconds\"].mean())\n",
    "print(filter_confirm[\"seconds\"].mean())"
   ]
  },
  {
   "cell_type": "markdown",
   "id": "f0c11c40-ca28-4952-808a-f90a796b8ec2",
   "metadata": {},
   "source": [
    "### T-test"
   ]
  },
  {
   "cell_type": "code",
   "execution_count": 2145,
   "id": "69386115-f50d-46e4-ac5c-33f4c2084c37",
   "metadata": {},
   "outputs": [
    {
     "name": "stdout",
     "output_type": "stream",
     "text": [
      "Independent t-test results:\n",
      "T-statistic: 2.1425929974537907\n",
      "P-value: 0.032153511138374676\n",
      "Reject the null hypothesis. There is a significant difference.\n"
     ]
    },
    {
     "data": {
      "text/plain": [
       "' Conclusion:\\nSince the t-statistic is positive, it suggests that the mean time for the confirm step in the control group is indeed higher than the mean time for the confirm step in the test group.\\nThus, the control group takes significantly longer on average to perform the confirm step compared to the test group.\\n'"
      ]
     },
     "execution_count": 2145,
     "metadata": {},
     "output_type": "execute_result"
    }
   ],
   "source": [
    "#test t for comparison beteween CONFIRM in control and CONFIRM in test. \n",
    "\n",
    "# Calculate mean values for each group\n",
    "mean_control = filter_confirm_control[\"seconds\"].mean()\n",
    "mean_test = filter_confirm[\"seconds\"].mean()\n",
    "\n",
    "# Perform independent t-test\n",
    "t_statistic, p_value = stats.ttest_ind(filter_confirm_control[\"seconds\"], filter_confirm[\"seconds\"], equal_var=False)\n",
    "\n",
    "# Output the results\n",
    "print(\"Independent t-test results:\")\n",
    "print(\"T-statistic:\", t_statistic)\n",
    "print(\"P-value:\", p_value)\n",
    "\n",
    "# Check for statistical significance (using alpha = 0.05)\n",
    "alpha = 0.05\n",
    "if p_value < alpha:\n",
    "    print(\"Reject the null hypothesis. There is a significant difference.\")\n",
    "else:\n",
    "    print(\"Fail to reject the null hypothesis. There is no significant difference.\")\n",
    "\n",
    "\"\"\" Conclusion:\n",
    "Since the t-statistic is positive, it suggests that the mean time for the confirm step in the control group is indeed higher than the mean time for the confirm step in the test group.\n",
    "Thus, the control group takes significantly longer on average to perform the confirm step compared to the test group.\n",
    "\"\"\"\n"
   ]
  },
  {
   "cell_type": "code",
   "execution_count": 2146,
   "id": "2881c699-49d0-456b-9332-87c01f09e1e1",
   "metadata": {},
   "outputs": [
    {
     "name": "stdout",
     "output_type": "stream",
     "text": [
      "Independent t-test results:\n",
      "T-statistic: 7.422602155329982\n",
      "P-value: 1.173298379582298e-13\n",
      "Reject the null hypothesis. There is a significant difference.\n"
     ]
    }
   ],
   "source": [
    "#test t for comparison beteween step1 in control and step1 in test. \n",
    "\n",
    "# Calculate mean values for each group\n",
    "mean_control = filter_step_1_control[\"seconds\"].mean()\n",
    "mean_test = filter_step_1[\"seconds\"].mean()\n",
    "\n",
    "# Perform independent t-test\n",
    "t_statistic, p_value = stats.ttest_ind(filter_step_1_control[\"seconds\"], filter_step_1[\"seconds\"], equal_var=False)\n",
    "\n",
    "# Output the results\n",
    "print(\"Independent t-test results:\")\n",
    "print(\"T-statistic:\", t_statistic)\n",
    "print(\"P-value:\", p_value)\n",
    "\n",
    "# Check for statistical significance (using alpha = 0.05)\n",
    "alpha = 0.05\n",
    "if p_value < alpha:\n",
    "    print(\"Reject the null hypothesis. There is a significant difference.\")\n",
    "else:\n",
    "    print(\"Fail to reject the null hypothesis. There is no significant difference.\")\n",
    "\n"
   ]
  },
  {
   "cell_type": "code",
   "execution_count": 2147,
   "id": "48e606c4-a2c7-40a1-8519-7a8073724c2f",
   "metadata": {},
   "outputs": [
    {
     "name": "stdout",
     "output_type": "stream",
     "text": [
      "Independent t-test results:\n",
      "T-statistic: 6.956482886227313\n",
      "P-value: 3.552532391841653e-12\n",
      "Reject the null hypothesis. There is a significant difference.\n"
     ]
    }
   ],
   "source": [
    "#test t for comparison beteween step2 in control and step2 in test. \n",
    "\n",
    "# Calculate mean values for each group\n",
    "mean_control = filter_step_2_control[\"seconds\"].mean()\n",
    "mean_test = filter_step_2[\"seconds\"].mean()\n",
    "\n",
    "# Perform independent t-test\n",
    "t_statistic, p_value = stats.ttest_ind(filter_step_2_control[\"seconds\"], filter_step_2[\"seconds\"], equal_var=False)\n",
    "\n",
    "# Output the results\n",
    "print(\"Independent t-test results:\")\n",
    "print(\"T-statistic:\", t_statistic)\n",
    "print(\"P-value:\", p_value)\n",
    "\n",
    "# Check for statistical significance (using alpha = 0.05)\n",
    "alpha = 0.05\n",
    "if p_value < alpha:\n",
    "    print(\"Reject the null hypothesis. There is a significant difference.\")\n",
    "else:\n",
    "    print(\"Fail to reject the null hypothesis. There is no significant difference.\")\n"
   ]
  },
  {
   "cell_type": "code",
   "execution_count": 2148,
   "id": "cf762d65-a045-46d9-a176-6f44a8da675b",
   "metadata": {},
   "outputs": [
    {
     "name": "stdout",
     "output_type": "stream",
     "text": [
      "Independent t-test results:\n",
      "T-statistic: 1.8680795901816438\n",
      "P-value: 0.061759216563849355\n",
      "Fail to reject the null hypothesis. There is no significant difference.\n"
     ]
    }
   ],
   "source": [
    "#test t for comparison beteween step3 in control and step3 in test. \n",
    "\n",
    "# Calculate mean values for each group\n",
    "mean_control = filter_step_3_control[\"seconds\"].mean()\n",
    "mean_test = filter_step_3[\"seconds\"].mean()\n",
    "\n",
    "# Perform independent t-test\n",
    "t_statistic, p_value = stats.ttest_ind(filter_step_3_control[\"seconds\"], filter_step_3[\"seconds\"], equal_var=False)\n",
    "\n",
    "# Output the results\n",
    "print(\"Independent t-test results:\")\n",
    "print(\"T-statistic:\", t_statistic)\n",
    "print(\"P-value:\", p_value)\n",
    "\n",
    "# Check for statistical significance (using alpha = 0.05)\n",
    "alpha = 0.05\n",
    "if p_value < alpha:\n",
    "    print(\"Reject the null hypothesis. There is a significant difference.\")\n",
    "else:\n",
    "    print(\"Fail to reject the null hypothesis. There is no significant difference.\")\n"
   ]
  },
  {
   "cell_type": "markdown",
   "id": "72f6d7e5-b476-4d70-97f7-b8cca0de17bd",
   "metadata": {},
   "source": [
    "## Data Visualization & Statistical Analysis - Erros rates\n"
   ]
  },
  {
   "cell_type": "code",
   "execution_count": 2150,
   "id": "18eb18c8-91a3-4e4e-be66-b7adfcb959cb",
   "metadata": {},
   "outputs": [
    {
     "data": {
      "text/plain": [
       "<matplotlib.legend.Legend at 0x193bdd690>"
      ]
     },
     "execution_count": 2150,
     "metadata": {},
     "output_type": "execute_result"
    },
    {
     "data": {
      "image/png": "[encoded data removed]",
      "text/plain": [
       "<Figure size 640x480 with 1 Axes>"
      ]
     },
     "metadata": {},
     "output_type": "display_data"
    }
   ],
   "source": [
    "\n",
    "# Combine test and control data\n",
    "test_data = [\n",
    "    error_step_1_test, error_step_2_test, error_step_3_test, error_confirm_test\n",
    "] \n",
    "control_data = [\n",
    "    error_step_1_control, error_step_2_control, error_step_3_control, error_confirm_control\n",
    "]\n",
    "\n",
    "# Number of data points\n",
    "num_points = len(test_data)\n",
    "\n",
    "# Width of each bar\n",
    "bar_width = 0.35\n",
    "\n",
    "# x-axis locations for the groups\n",
    "index = np.arange(num_points)\n",
    "\n",
    "# Custom colors\n",
    "control_color = '#006400'  # Dark green\n",
    "test_color = '#976255'     # Maroon\n",
    "\n",
    "# Plotting the bars\n",
    "fig, ax = plt.subplots()\n",
    "bars_control = ax.bar(index, control_data, bar_width, label='Control Data', color=control_color+ '99')\n",
    "bars_test = ax.bar(index + bar_width, test_data, bar_width, label='Test Data', color=test_color)\n",
    "\n",
    "# Function to add labels on top of each bar\n",
    "def add_labels(bars):\n",
    "    for bar in bars:\n",
    "        height = bar.get_height()\n",
    "        ax.annotate(f'{height}%',\n",
    "                    xy=(bar.get_x() + bar.get_width() / 2, height),\n",
    "                    xytext=(0, 3),  # 3 points vertical offset\n",
    "                    textcoords=\"offset points\",\n",
    "                    ha='center', va='bottom')\n",
    "\n",
    "# Add percentage labels on top of each bar\n",
    "add_labels(bars_control)\n",
    "add_labels(bars_test)\n",
    "\n",
    "# Adding labels\n",
    "plt.xlabel('Steps')\n",
    "plt.ylabel('Errors in percentage (%)')\n",
    "#plt.title('Comparison of Test and Control Data')\n",
    "\n",
    "# Customize ticks and spines\n",
    "plt.xticks(index + bar_width / 2, ['Step 1', 'Step 2', 'Step 3', 'Confirm'])\n",
    "plt.gca().spines['top'].set_visible(False)\n",
    "plt.gca().spines['right'].set_visible(False)\n",
    "\n",
    "# Adding legend outside the plot\n",
    "plt.legend(loc='center left', bbox_to_anchor=(1, 0.5))\n",
    "\n",
    "plt.savefig(os.path.join(save_path, 'error(controlvstest).png'), dpi=300, bbox_inches='tight', transparent=True)\n",
    "\n",
    "# Adding legend\n",
    "plt.legend()"
   ]
  },
  {
   "cell_type": "code",
   "execution_count": 2151,
   "id": "9c0cf128-61a6-4d7c-b4fb-bb3015846fb0",
   "metadata": {},
   "outputs": [
    {
     "name": "stdout",
     "output_type": "stream",
     "text": [
      "Test statistic (z): -4.479473956210134\n",
      "P-value: 7.482721892770883e-06\n",
      "Reject the null hypothesis: There is a significant difference between the two proportions.\n"
     ]
    }
   ],
   "source": [
    "# Applying a two-proportion z-test.This test compares two population proportions to see if they are significantly different from each other.\n",
    "\n",
    "# Example data (replace with your actual data)\n",
    "p1 = porpotion_error_step_1_control  # proportion of control group reaching the last step\n",
    "p2 = porpotion_error_step_1_test\n",
    "n1 = sum_x   # sample size of control group\n",
    "n2 = sum_drop_test   # sample size of test group\n",
    "\n",
    "# Number of successes\n",
    "x1 = p1 * n1\n",
    "x2 = p2 * n2\n",
    "\n",
    "# Pooled proportion\n",
    "p_pool = (x1 + x2) / (n1 + n2)\n",
    "\n",
    "# Standard error\n",
    "se = np.sqrt(p_pool * (1 - p_pool) * (1/n1 + 1/n2))\n",
    "\n",
    "# Test statistic\n",
    "z = (p1 - p2) / se\n",
    "\n",
    "# P-value\n",
    "p_value = 2 * (1 - stats.norm.cdf(abs(z)))\n",
    "\n",
    "# Output results\n",
    "print(f\"Test statistic (z): {z}\")\n",
    "print(f\"P-value: {p_value}\")\n",
    "\n",
    "# Conclusion\n",
    "alpha = 0.05\n",
    "if p_value < alpha:\n",
    "    print(\"Reject the null hypothesis: There is a significant difference between the two proportions.\")\n",
    "else:\n",
    "    print(\"Fail to reject the null hypothesis: There is no significant difference between the two proportions.\")\n"
   ]
  },
  {
   "cell_type": "code",
   "execution_count": 2152,
   "id": "ff0f478a-c339-458b-9248-5ea3716a0c90",
   "metadata": {},
   "outputs": [
    {
     "name": "stdout",
     "output_type": "stream",
     "text": [
      "Test statistic (z): 11.866399559250784\n",
      "P-value: 0.0\n",
      "Reject the null hypothesis: There is a significant difference between the two proportions.\n"
     ]
    }
   ],
   "source": [
    "# Applying a two-proportion z-test.This test compares two population proportions to see if they are significantly different from each other.\n",
    "\n",
    "import scipy.stats as stats\n",
    "\n",
    "# Example data (replace with your actual data)\n",
    "p1 = porpotion_error_step_2_control  # proportion of control group reaching the last step\n",
    "p2 = porpotion_error_step_2_test\n",
    "n1 = sum_x   # sample size of control group\n",
    "n2 = sum_drop_test   # sample size of test group\n",
    "\n",
    "# Number of successes\n",
    "x1 = p1 * n1\n",
    "x2 = p2 * n2\n",
    "\n",
    "# Pooled proportion\n",
    "p_pool = (x1 + x2) / (n1 + n2)\n",
    "\n",
    "# Standard error\n",
    "se = np.sqrt(p_pool * (1 - p_pool) * (1/n1 + 1/n2))\n",
    "\n",
    "# Test statistic\n",
    "z = (p1 - p2) / se\n",
    "\n",
    "# P-value\n",
    "p_value = 2 * (1 - stats.norm.cdf(abs(z)))\n",
    "\n",
    "# Output results\n",
    "print(f\"Test statistic (z): {z}\")\n",
    "print(f\"P-value: {p_value}\")\n",
    "\n",
    "# Conclusion\n",
    "alpha = 0.05\n",
    "if p_value < alpha:\n",
    "    print(\"Reject the null hypothesis: There is a significant difference between the two proportions.\")\n",
    "else:\n",
    "    print(\"Fail to reject the null hypothesis: There is no significant difference between the two proportions.\")\n"
   ]
  },
  {
   "cell_type": "code",
   "execution_count": 2153,
   "id": "10ba4c4d-8755-4c44-a9cc-ba6a3fea15f6",
   "metadata": {},
   "outputs": [
    {
     "name": "stdout",
     "output_type": "stream",
     "text": [
      "Test statistic (z): 17.076175512360955\n",
      "P-value: 0.0\n",
      "Reject the null hypothesis: There is a significant difference between the two proportions.\n"
     ]
    }
   ],
   "source": [
    "# Applying a two-proportion z-test.This test compares two population proportions to see if they are significantly different from each other.\n",
    "\n",
    "import scipy.stats as stats\n",
    "\n",
    "# Example data (replace with your actual data)\n",
    "p1 = porpotion_error_step_3_control  # proportion of control group reaching the last step\n",
    "p2 = porpotion_error_step_3_test\n",
    "n1 = sum_x   # sample size of control group\n",
    "n2 = sum_drop_test   # sample size of test group\n",
    "\n",
    "# Number of successes\n",
    "x1 = p1 * n1\n",
    "x2 = p2 * n2\n",
    "\n",
    "# Pooled proportion\n",
    "p_pool = (x1 + x2) / (n1 + n2)\n",
    "\n",
    "# Standard error\n",
    "se = np.sqrt(p_pool * (1 - p_pool) * (1/n1 + 1/n2))\n",
    "\n",
    "# Test statistic\n",
    "z = (p1 - p2) / se\n",
    "\n",
    "# P-value\n",
    "p_value = 2 * (1 - stats.norm.cdf(abs(z)))\n",
    "\n",
    "# Output results\n",
    "print(f\"Test statistic (z): {z}\")\n",
    "print(f\"P-value: {p_value}\")\n",
    "\n",
    "# Conclusion\n",
    "alpha = 0.05\n",
    "if p_value < alpha:\n",
    "    print(\"Reject the null hypothesis: There is a significant difference between the two proportions.\")\n",
    "else:\n",
    "    print(\"Fail to reject the null hypothesis: There is no significant difference between the two proportions.\")\n"
   ]
  },
  {
   "cell_type": "code",
   "execution_count": 2154,
   "id": "aa03b53d-fe69-4a25-8b32-bb6239f5d06d",
   "metadata": {},
   "outputs": [
    {
     "name": "stdout",
     "output_type": "stream",
     "text": [
      "Test statistic (z): -0.5038657057027275\n",
      "P-value: 0.6143557512205557\n",
      "Fail to reject the null hypothesis: There is no significant difference between the two proportions.\n"
     ]
    }
   ],
   "source": [
    "# Applying a two-proportion z-test.This test compares two population proportions to see if they are significantly different from each other.\n",
    "\n",
    "import scipy.stats as stats\n",
    "\n",
    "# Example data (replace with your actual data)\n",
    "p1 = propotion_error_confirm_control  # proportion of control group reaching the last step\n",
    "p2 = porpotion_error_confirm_test\n",
    "n1 = sum_x   # sample size of control group\n",
    "n2 = sum_drop_test   # sample size of test group\n",
    "\n",
    "# Number of successes\n",
    "x1 = p1 * n1\n",
    "x2 = p2 * n2\n",
    "\n",
    "# Pooled proportion\n",
    "p_pool = (x1 + x2) / (n1 + n2)\n",
    "\n",
    "# Standard error\n",
    "se = np.sqrt(p_pool * (1 - p_pool) * (1/n1 + 1/n2))\n",
    "\n",
    "# Test statistic\n",
    "z = (p1 - p2) / se\n",
    "\n",
    "# P-value\n",
    "p_value = 2 * (1 - stats.norm.cdf(abs(z)))\n",
    "\n",
    "# Output results\n",
    "print(f\"Test statistic (z): {z}\")\n",
    "print(f\"P-value: {p_value}\")\n",
    "\n",
    "# Conclusion\n",
    "alpha = 0.05\n",
    "if p_value < alpha:\n",
    "    print(\"Reject the null hypothesis: There is a significant difference between the two proportions.\")\n",
    "else:\n",
    "    print(\"Fail to reject the null hypothesis: There is no significant difference between the two proportions.\")\n"
   ]
  }
 ],
 "metadata": {
  "kernelspec": {
   "display_name": "Python 3 (ipykernel)",
   "language": "python",
   "name": "python3"
  },
  "language_info": {
   "codemirror_mode": {
    "name": "ipython",
    "version": 3
   },
   "file_extension": ".py",
   "mimetype": "text/x-python",
   "name": "python",
   "nbconvert_exporter": "python",
   "pygments_lexer": "ipython3",
   "version": "3.11.7"
  }
 },
 "nbformat": 4,
 "nbformat_minor": 5
}
